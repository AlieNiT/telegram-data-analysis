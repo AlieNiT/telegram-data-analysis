{
 "cells": [
  {
   "cell_type": "markdown",
   "metadata": {},
   "source": [
    "# Initialization"
   ]
  },
  {
   "cell_type": "markdown",
   "metadata": {},
   "source": [
    "## Imports"
   ]
  },
  {
   "cell_type": "code",
   "execution_count": 1,
   "metadata": {},
   "outputs": [],
   "source": [
    "import datetime\n",
    "import json\n",
    "import os\n",
    "\n",
    "import plotly.graph_objects as go\n",
    "import plotly.express as px\n",
    "from tqdm import tqdm\n",
    "import pandas as pd\n",
    "import emoji"
   ]
  },
  {
   "cell_type": "markdown",
   "metadata": {},
   "source": [
    "## Parameters"
   ]
  },
  {
   "cell_type": "code",
   "execution_count": 22,
   "metadata": {},
   "outputs": [],
   "source": [
    "DATA_DIR = os.path.expanduser('~/code/telegram-explore/data/DataExport_2025-06-22')\n",
    "PLOT_DIR = os.path.expanduser('~/code/telegram-data-analysis/plots')\n",
    "RAW_DATA_PATH = os.path.join(DATA_DIR, 'result.json')\n",
    "MESSAGES_DATAFRAME_PATH = os.path.join(DATA_DIR, 'messages.parquet')\n",
    "CHATS_DATAFRAME_PATH = os.path.join(DATA_DIR, 'chats.parquet')\n",
    "MY_ID = '103475519'\n",
    "ANALYSIS_START_DATE = datetime.datetime(2019, 11, 1)"
   ]
  },
  {
   "cell_type": "markdown",
   "metadata": {},
   "source": [
    "## Utils"
   ]
  },
  {
   "cell_type": "code",
   "execution_count": 3,
   "metadata": {},
   "outputs": [],
   "source": [
    "def summarize_df(df, head_rows=5):\n",
    "    print(\"Schema (columns and types):\")\n",
    "    print(df.dtypes)\n",
    "    print(\"\\nTotal rows:\", len(df))\n",
    "    print(f\"\\nFirst {head_rows} rows:\")\n",
    "    return df.head(head_rows)"
   ]
  },
  {
   "cell_type": "markdown",
   "metadata": {},
   "source": [
    "# Messages Dataframe"
   ]
  },
  {
   "cell_type": "code",
   "execution_count": 4,
   "metadata": {},
   "outputs": [],
   "source": [
    "def normalize_message(msg):\n",
    "    text = msg.get('text', '')\n",
    "    if isinstance(text, str):\n",
    "        pass\n",
    "    elif isinstance(text, list):\n",
    "        clean_text = ''\n",
    "        for sub_msg in text:\n",
    "            if isinstance(sub_msg, str):\n",
    "                clean_text += sub_msg\n",
    "            elif isinstance(sub_msg, dict) and 'text' in sub_msg:\n",
    "                clean_text += sub_msg['text']\n",
    "        msg['text'] = clean_text\n",
    "    else:\n",
    "        raise NotImplementedError(f'text type: {type(text)}')\n",
    "    \n",
    "    return msg"
   ]
  },
  {
   "cell_type": "code",
   "execution_count": 17,
   "metadata": {},
   "outputs": [
    {
     "name": "stdout",
     "output_type": "stream",
     "text": [
      "Schema (columns and types):\n",
      "id                                       int64\n",
      "type                                    object\n",
      "date                            datetime64[ns]\n",
      "date_unixtime                           object\n",
      "from                                    object\n",
      "from_id                                 object\n",
      "file                                    object\n",
      "file_name                               object\n",
      "file_size                              float64\n",
      "media_type                              object\n",
      "mime_type                               object\n",
      "duration_seconds                       float64\n",
      "width                                  float64\n",
      "height                                 float64\n",
      "text                                    object\n",
      "text_entities                           object\n",
      "chat_id                                  int64\n",
      "reply_to_message_id                    float64\n",
      "thumbnail                               object\n",
      "thumbnail_file_size                    float64\n",
      "sticker_emoji                           object\n",
      "photo                                   object\n",
      "photo_file_size                        float64\n",
      "title                                   object\n",
      "forwarded_from                          object\n",
      "edited                                  object\n",
      "edited_unixtime                         object\n",
      "performer                               object\n",
      "via_bot                                 object\n",
      "inline_bot_buttons                      object\n",
      "game_title                              object\n",
      "game_description                        object\n",
      "game_link                               object\n",
      "poll                                    object\n",
      "reactions                               object\n",
      "location_information                    object\n",
      "live_location_period_seconds           float64\n",
      "reply_to_peer_id                        object\n",
      "saved_from                              object\n",
      "giveaway_information                    object\n",
      "contact_information                     object\n",
      "contact_vcard                           object\n",
      "contact_vcard_file_size                float64\n",
      "self_destruct_period_seconds           float64\n",
      "place_name                              object\n",
      "address                                 object\n",
      "from_me                                   bool\n",
      "month                                   object\n",
      "dtype: object\n",
      "\n",
      "Total rows: 1420210\n",
      "\n",
      "First 5 rows:\n"
     ]
    },
    {
     "data": {
      "text/html": [
       "<div>\n",
       "<style scoped>\n",
       "    .dataframe tbody tr th:only-of-type {\n",
       "        vertical-align: middle;\n",
       "    }\n",
       "\n",
       "    .dataframe tbody tr th {\n",
       "        vertical-align: top;\n",
       "    }\n",
       "\n",
       "    .dataframe thead th {\n",
       "        text-align: right;\n",
       "    }\n",
       "</style>\n",
       "<table border=\"1\" class=\"dataframe\">\n",
       "  <thead>\n",
       "    <tr style=\"text-align: right;\">\n",
       "      <th></th>\n",
       "      <th>id</th>\n",
       "      <th>type</th>\n",
       "      <th>date</th>\n",
       "      <th>date_unixtime</th>\n",
       "      <th>from</th>\n",
       "      <th>from_id</th>\n",
       "      <th>file</th>\n",
       "      <th>file_name</th>\n",
       "      <th>file_size</th>\n",
       "      <th>media_type</th>\n",
       "      <th>...</th>\n",
       "      <th>saved_from</th>\n",
       "      <th>giveaway_information</th>\n",
       "      <th>contact_information</th>\n",
       "      <th>contact_vcard</th>\n",
       "      <th>contact_vcard_file_size</th>\n",
       "      <th>self_destruct_period_seconds</th>\n",
       "      <th>place_name</th>\n",
       "      <th>address</th>\n",
       "      <th>from_me</th>\n",
       "      <th>month</th>\n",
       "    </tr>\n",
       "  </thead>\n",
       "  <tbody>\n",
       "    <tr>\n",
       "      <th>0</th>\n",
       "      <td>373638</td>\n",
       "      <td>message</td>\n",
       "      <td>2020-10-03 11:25:24</td>\n",
       "      <td>1601711724</td>\n",
       "      <td>🦊</td>\n",
       "      <td>user103475519</td>\n",
       "      <td>(File not included. Change data exporting sett...</td>\n",
       "      <td>mp4.mp4</td>\n",
       "      <td>75436.0</td>\n",
       "      <td>animation</td>\n",
       "      <td>...</td>\n",
       "      <td>None</td>\n",
       "      <td>None</td>\n",
       "      <td>None</td>\n",
       "      <td>None</td>\n",
       "      <td>NaN</td>\n",
       "      <td>NaN</td>\n",
       "      <td>None</td>\n",
       "      <td>None</td>\n",
       "      <td>True</td>\n",
       "      <td>2020-10</td>\n",
       "    </tr>\n",
       "    <tr>\n",
       "      <th>1</th>\n",
       "      <td>373639</td>\n",
       "      <td>message</td>\n",
       "      <td>2020-10-03 11:25:50</td>\n",
       "      <td>1601711750</td>\n",
       "      <td>🦊</td>\n",
       "      <td>user103475519</td>\n",
       "      <td>None</td>\n",
       "      <td>None</td>\n",
       "      <td>NaN</td>\n",
       "      <td>None</td>\n",
       "      <td>...</td>\n",
       "      <td>None</td>\n",
       "      <td>None</td>\n",
       "      <td>None</td>\n",
       "      <td>None</td>\n",
       "      <td>NaN</td>\n",
       "      <td>NaN</td>\n",
       "      <td>None</td>\n",
       "      <td>None</td>\n",
       "      <td>True</td>\n",
       "      <td>2020-10</td>\n",
       "    </tr>\n",
       "    <tr>\n",
       "      <th>2</th>\n",
       "      <td>373640</td>\n",
       "      <td>message</td>\n",
       "      <td>2020-10-03 11:26:18</td>\n",
       "      <td>1601711778</td>\n",
       "      <td>🦊</td>\n",
       "      <td>user103475519</td>\n",
       "      <td>None</td>\n",
       "      <td>None</td>\n",
       "      <td>NaN</td>\n",
       "      <td>None</td>\n",
       "      <td>...</td>\n",
       "      <td>None</td>\n",
       "      <td>None</td>\n",
       "      <td>None</td>\n",
       "      <td>None</td>\n",
       "      <td>NaN</td>\n",
       "      <td>NaN</td>\n",
       "      <td>None</td>\n",
       "      <td>None</td>\n",
       "      <td>True</td>\n",
       "      <td>2020-10</td>\n",
       "    </tr>\n",
       "    <tr>\n",
       "      <th>3</th>\n",
       "      <td>373641</td>\n",
       "      <td>message</td>\n",
       "      <td>2020-10-03 11:33:00</td>\n",
       "      <td>1601712180</td>\n",
       "      <td>Maryam</td>\n",
       "      <td>user1310150538</td>\n",
       "      <td>None</td>\n",
       "      <td>None</td>\n",
       "      <td>NaN</td>\n",
       "      <td>None</td>\n",
       "      <td>...</td>\n",
       "      <td>None</td>\n",
       "      <td>None</td>\n",
       "      <td>None</td>\n",
       "      <td>None</td>\n",
       "      <td>NaN</td>\n",
       "      <td>NaN</td>\n",
       "      <td>None</td>\n",
       "      <td>None</td>\n",
       "      <td>False</td>\n",
       "      <td>2020-10</td>\n",
       "    </tr>\n",
       "    <tr>\n",
       "      <th>4</th>\n",
       "      <td>373642</td>\n",
       "      <td>message</td>\n",
       "      <td>2020-10-03 11:33:28</td>\n",
       "      <td>1601712208</td>\n",
       "      <td>Maryam</td>\n",
       "      <td>user1310150538</td>\n",
       "      <td>None</td>\n",
       "      <td>None</td>\n",
       "      <td>NaN</td>\n",
       "      <td>None</td>\n",
       "      <td>...</td>\n",
       "      <td>None</td>\n",
       "      <td>None</td>\n",
       "      <td>None</td>\n",
       "      <td>None</td>\n",
       "      <td>NaN</td>\n",
       "      <td>NaN</td>\n",
       "      <td>None</td>\n",
       "      <td>None</td>\n",
       "      <td>False</td>\n",
       "      <td>2020-10</td>\n",
       "    </tr>\n",
       "  </tbody>\n",
       "</table>\n",
       "<p>5 rows × 48 columns</p>\n",
       "</div>"
      ],
      "text/plain": [
       "       id     type                date date_unixtime    from         from_id  \\\n",
       "0  373638  message 2020-10-03 11:25:24    1601711724       🦊   user103475519   \n",
       "1  373639  message 2020-10-03 11:25:50    1601711750       🦊   user103475519   \n",
       "2  373640  message 2020-10-03 11:26:18    1601711778       🦊   user103475519   \n",
       "3  373641  message 2020-10-03 11:33:00    1601712180  Maryam  user1310150538   \n",
       "4  373642  message 2020-10-03 11:33:28    1601712208  Maryam  user1310150538   \n",
       "\n",
       "                                                file file_name  file_size  \\\n",
       "0  (File not included. Change data exporting sett...   mp4.mp4    75436.0   \n",
       "1                                               None      None        NaN   \n",
       "2                                               None      None        NaN   \n",
       "3                                               None      None        NaN   \n",
       "4                                               None      None        NaN   \n",
       "\n",
       "  media_type  ... saved_from  giveaway_information  contact_information  \\\n",
       "0  animation  ...       None                  None                 None   \n",
       "1       None  ...       None                  None                 None   \n",
       "2       None  ...       None                  None                 None   \n",
       "3       None  ...       None                  None                 None   \n",
       "4       None  ...       None                  None                 None   \n",
       "\n",
       "   contact_vcard contact_vcard_file_size self_destruct_period_seconds  \\\n",
       "0           None                     NaN                          NaN   \n",
       "1           None                     NaN                          NaN   \n",
       "2           None                     NaN                          NaN   \n",
       "3           None                     NaN                          NaN   \n",
       "4           None                     NaN                          NaN   \n",
       "\n",
       "   place_name  address from_me    month  \n",
       "0        None     None    True  2020-10  \n",
       "1        None     None    True  2020-10  \n",
       "2        None     None    True  2020-10  \n",
       "3        None     None   False  2020-10  \n",
       "4        None     None   False  2020-10  \n",
       "\n",
       "[5 rows x 48 columns]"
      ]
     },
     "execution_count": 17,
     "metadata": {},
     "output_type": "execute_result"
    }
   ],
   "source": [
    "if os.path.exists(MESSAGES_DATAFRAME_PATH) and os.path.exists(CHATS_DATAFRAME_PATH):\n",
    "    message_df = pd.read_parquet(MESSAGES_DATAFRAME_PATH)\n",
    "    chat_df = pd.read_parquet(CHATS_DATAFRAME_PATH)\n",
    "else:\n",
    "    with open(RAW_DATA_PATH, 'r') as f:\n",
    "        data = json.load(f)\n",
    "\n",
    "    records = []\n",
    "    for chat in tqdm(data['chats']['list']):\n",
    "        chat_id = chat['id']\n",
    "        for msg in chat.get('messages', []):\n",
    "            if msg['type'] == 'service':\n",
    "                # consists of ['score_in_game', \n",
    "                # 'phone_call', \n",
    "                # 'pin_message', \n",
    "                # 'edit_chat_theme',\n",
    "                # 'set_chat_wallpaper', \n",
    "                # 'set_same_chat_wallpaper', \n",
    "                # 'suggest_profile_photo', \n",
    "                # 'joined_telegram', \n",
    "                # 'clear_history']\n",
    "                continue\n",
    "            msg = normalize_message(msg)\n",
    "            records.append({\n",
    "                    **msg,\n",
    "                    'chat_id': chat_id\n",
    "                }\n",
    "            )\n",
    "\n",
    "    message_df = pd.DataFrame(records)\n",
    "    message_df['date'] = pd.to_datetime(message_df['date'])\n",
    "    message_df.to_parquet(MESSAGES_DATAFRAME_PATH)\n",
    "\n",
    "    chat_df = pd.DataFrame(data['chats']['list']).drop('messages', axis=1)\n",
    "    chat_df.to_parquet(CHATS_DATAFRAME_PATH)\n",
    "\n",
    "message_df['from_me'] = message_df['from_id'] == f'user{MY_ID}'\n",
    "message_df['month'] = message_df['date'].dt.to_period('M').astype(str)\n",
    "\n",
    "summarize_df(message_df)"
   ]
  },
  {
   "cell_type": "code",
   "execution_count": 6,
   "metadata": {},
   "outputs": [
    {
     "name": "stdout",
     "output_type": "stream",
     "text": [
      "Schema (columns and types):\n",
      "name    object\n",
      "type    object\n",
      "id       int64\n",
      "dtype: object\n",
      "\n",
      "Total rows: 826\n",
      "\n",
      "First 5 rows:\n"
     ]
    },
    {
     "data": {
      "text/html": [
       "<div>\n",
       "<style scoped>\n",
       "    .dataframe tbody tr th:only-of-type {\n",
       "        vertical-align: middle;\n",
       "    }\n",
       "\n",
       "    .dataframe tbody tr th {\n",
       "        vertical-align: top;\n",
       "    }\n",
       "\n",
       "    .dataframe thead th {\n",
       "        text-align: right;\n",
       "    }\n",
       "</style>\n",
       "<table border=\"1\" class=\"dataframe\">\n",
       "  <thead>\n",
       "    <tr style=\"text-align: right;\">\n",
       "      <th></th>\n",
       "      <th>name</th>\n",
       "      <th>type</th>\n",
       "      <th>id</th>\n",
       "    </tr>\n",
       "  </thead>\n",
       "  <tbody>\n",
       "    <tr>\n",
       "      <th>0</th>\n",
       "      <td>Maryam</td>\n",
       "      <td>personal_chat</td>\n",
       "      <td>1310150538</td>\n",
       "    </tr>\n",
       "    <tr>\n",
       "      <th>1</th>\n",
       "      <td>None</td>\n",
       "      <td>saved_messages</td>\n",
       "      <td>103475519</td>\n",
       "    </tr>\n",
       "    <tr>\n",
       "      <th>2</th>\n",
       "      <td>M. Sadra</td>\n",
       "      <td>personal_chat</td>\n",
       "      <td>363386088</td>\n",
       "    </tr>\n",
       "    <tr>\n",
       "      <th>3</th>\n",
       "      <td>Mohammad</td>\n",
       "      <td>personal_chat</td>\n",
       "      <td>149897194</td>\n",
       "    </tr>\n",
       "    <tr>\n",
       "      <th>4</th>\n",
       "      <td>Arshia</td>\n",
       "      <td>personal_chat</td>\n",
       "      <td>759902365</td>\n",
       "    </tr>\n",
       "  </tbody>\n",
       "</table>\n",
       "</div>"
      ],
      "text/plain": [
       "       name            type          id\n",
       "0    Maryam   personal_chat  1310150538\n",
       "1      None  saved_messages   103475519\n",
       "2  M. Sadra   personal_chat   363386088\n",
       "3  Mohammad   personal_chat   149897194\n",
       "4    Arshia   personal_chat   759902365"
      ]
     },
     "execution_count": 6,
     "metadata": {},
     "output_type": "execute_result"
    }
   ],
   "source": [
    "summarize_df(chat_df)"
   ]
  },
  {
   "cell_type": "markdown",
   "metadata": {},
   "source": [
    "# Preprocessing"
   ]
  },
  {
   "cell_type": "code",
   "execution_count": 7,
   "metadata": {},
   "outputs": [
    {
     "name": "stdout",
     "output_type": "stream",
     "text": [
      "Schema (columns and types):\n",
      "id                                       int64\n",
      "type                                    object\n",
      "date                            datetime64[ns]\n",
      "date_unixtime                           object\n",
      "from                                    object\n",
      "from_id                                 object\n",
      "file                                    object\n",
      "file_name                               object\n",
      "file_size                              float64\n",
      "media_type                              object\n",
      "mime_type                               object\n",
      "duration_seconds                       float64\n",
      "width                                  float64\n",
      "height                                 float64\n",
      "text                                    object\n",
      "text_entities                           object\n",
      "chat_id                                  int64\n",
      "reply_to_message_id                    float64\n",
      "thumbnail                               object\n",
      "thumbnail_file_size                    float64\n",
      "sticker_emoji                           object\n",
      "photo                                   object\n",
      "photo_file_size                        float64\n",
      "title                                   object\n",
      "forwarded_from                          object\n",
      "edited                                  object\n",
      "edited_unixtime                         object\n",
      "performer                               object\n",
      "via_bot                                 object\n",
      "inline_bot_buttons                      object\n",
      "game_title                              object\n",
      "game_description                        object\n",
      "game_link                               object\n",
      "poll                                    object\n",
      "reactions                               object\n",
      "location_information                    object\n",
      "live_location_period_seconds           float64\n",
      "reply_to_peer_id                        object\n",
      "saved_from                              object\n",
      "giveaway_information                    object\n",
      "contact_information                     object\n",
      "contact_vcard                           object\n",
      "contact_vcard_file_size                float64\n",
      "self_destruct_period_seconds           float64\n",
      "place_name                              object\n",
      "address                                 object\n",
      "from_me                                   bool\n",
      "month                                   object\n",
      "dtype: object\n",
      "\n",
      "Total rows: 1335892\n",
      "\n",
      "First 5 rows:\n"
     ]
    },
    {
     "data": {
      "text/html": [
       "<div>\n",
       "<style scoped>\n",
       "    .dataframe tbody tr th:only-of-type {\n",
       "        vertical-align: middle;\n",
       "    }\n",
       "\n",
       "    .dataframe tbody tr th {\n",
       "        vertical-align: top;\n",
       "    }\n",
       "\n",
       "    .dataframe thead th {\n",
       "        text-align: right;\n",
       "    }\n",
       "</style>\n",
       "<table border=\"1\" class=\"dataframe\">\n",
       "  <thead>\n",
       "    <tr style=\"text-align: right;\">\n",
       "      <th></th>\n",
       "      <th>id</th>\n",
       "      <th>type</th>\n",
       "      <th>date</th>\n",
       "      <th>date_unixtime</th>\n",
       "      <th>from</th>\n",
       "      <th>from_id</th>\n",
       "      <th>file</th>\n",
       "      <th>file_name</th>\n",
       "      <th>file_size</th>\n",
       "      <th>media_type</th>\n",
       "      <th>...</th>\n",
       "      <th>saved_from</th>\n",
       "      <th>giveaway_information</th>\n",
       "      <th>contact_information</th>\n",
       "      <th>contact_vcard</th>\n",
       "      <th>contact_vcard_file_size</th>\n",
       "      <th>self_destruct_period_seconds</th>\n",
       "      <th>place_name</th>\n",
       "      <th>address</th>\n",
       "      <th>from_me</th>\n",
       "      <th>month</th>\n",
       "    </tr>\n",
       "  </thead>\n",
       "  <tbody>\n",
       "    <tr>\n",
       "      <th>0</th>\n",
       "      <td>373638</td>\n",
       "      <td>message</td>\n",
       "      <td>2020-10-03 11:25:24</td>\n",
       "      <td>1601711724</td>\n",
       "      <td>🦊</td>\n",
       "      <td>user103475519</td>\n",
       "      <td>(File not included. Change data exporting sett...</td>\n",
       "      <td>mp4.mp4</td>\n",
       "      <td>75436.0</td>\n",
       "      <td>animation</td>\n",
       "      <td>...</td>\n",
       "      <td>None</td>\n",
       "      <td>None</td>\n",
       "      <td>None</td>\n",
       "      <td>None</td>\n",
       "      <td>NaN</td>\n",
       "      <td>NaN</td>\n",
       "      <td>None</td>\n",
       "      <td>None</td>\n",
       "      <td>True</td>\n",
       "      <td>2020-10</td>\n",
       "    </tr>\n",
       "    <tr>\n",
       "      <th>1</th>\n",
       "      <td>373639</td>\n",
       "      <td>message</td>\n",
       "      <td>2020-10-03 11:25:50</td>\n",
       "      <td>1601711750</td>\n",
       "      <td>🦊</td>\n",
       "      <td>user103475519</td>\n",
       "      <td>None</td>\n",
       "      <td>None</td>\n",
       "      <td>NaN</td>\n",
       "      <td>None</td>\n",
       "      <td>...</td>\n",
       "      <td>None</td>\n",
       "      <td>None</td>\n",
       "      <td>None</td>\n",
       "      <td>None</td>\n",
       "      <td>NaN</td>\n",
       "      <td>NaN</td>\n",
       "      <td>None</td>\n",
       "      <td>None</td>\n",
       "      <td>True</td>\n",
       "      <td>2020-10</td>\n",
       "    </tr>\n",
       "    <tr>\n",
       "      <th>2</th>\n",
       "      <td>373640</td>\n",
       "      <td>message</td>\n",
       "      <td>2020-10-03 11:26:18</td>\n",
       "      <td>1601711778</td>\n",
       "      <td>🦊</td>\n",
       "      <td>user103475519</td>\n",
       "      <td>None</td>\n",
       "      <td>None</td>\n",
       "      <td>NaN</td>\n",
       "      <td>None</td>\n",
       "      <td>...</td>\n",
       "      <td>None</td>\n",
       "      <td>None</td>\n",
       "      <td>None</td>\n",
       "      <td>None</td>\n",
       "      <td>NaN</td>\n",
       "      <td>NaN</td>\n",
       "      <td>None</td>\n",
       "      <td>None</td>\n",
       "      <td>True</td>\n",
       "      <td>2020-10</td>\n",
       "    </tr>\n",
       "    <tr>\n",
       "      <th>3</th>\n",
       "      <td>373641</td>\n",
       "      <td>message</td>\n",
       "      <td>2020-10-03 11:33:00</td>\n",
       "      <td>1601712180</td>\n",
       "      <td>Maryam</td>\n",
       "      <td>user1310150538</td>\n",
       "      <td>None</td>\n",
       "      <td>None</td>\n",
       "      <td>NaN</td>\n",
       "      <td>None</td>\n",
       "      <td>...</td>\n",
       "      <td>None</td>\n",
       "      <td>None</td>\n",
       "      <td>None</td>\n",
       "      <td>None</td>\n",
       "      <td>NaN</td>\n",
       "      <td>NaN</td>\n",
       "      <td>None</td>\n",
       "      <td>None</td>\n",
       "      <td>False</td>\n",
       "      <td>2020-10</td>\n",
       "    </tr>\n",
       "    <tr>\n",
       "      <th>4</th>\n",
       "      <td>373642</td>\n",
       "      <td>message</td>\n",
       "      <td>2020-10-03 11:33:28</td>\n",
       "      <td>1601712208</td>\n",
       "      <td>Maryam</td>\n",
       "      <td>user1310150538</td>\n",
       "      <td>None</td>\n",
       "      <td>None</td>\n",
       "      <td>NaN</td>\n",
       "      <td>None</td>\n",
       "      <td>...</td>\n",
       "      <td>None</td>\n",
       "      <td>None</td>\n",
       "      <td>None</td>\n",
       "      <td>None</td>\n",
       "      <td>NaN</td>\n",
       "      <td>NaN</td>\n",
       "      <td>None</td>\n",
       "      <td>None</td>\n",
       "      <td>False</td>\n",
       "      <td>2020-10</td>\n",
       "    </tr>\n",
       "  </tbody>\n",
       "</table>\n",
       "<p>5 rows × 48 columns</p>\n",
       "</div>"
      ],
      "text/plain": [
       "       id     type                date date_unixtime    from         from_id  \\\n",
       "0  373638  message 2020-10-03 11:25:24    1601711724       🦊   user103475519   \n",
       "1  373639  message 2020-10-03 11:25:50    1601711750       🦊   user103475519   \n",
       "2  373640  message 2020-10-03 11:26:18    1601711778       🦊   user103475519   \n",
       "3  373641  message 2020-10-03 11:33:00    1601712180  Maryam  user1310150538   \n",
       "4  373642  message 2020-10-03 11:33:28    1601712208  Maryam  user1310150538   \n",
       "\n",
       "                                                file file_name  file_size  \\\n",
       "0  (File not included. Change data exporting sett...   mp4.mp4    75436.0   \n",
       "1                                               None      None        NaN   \n",
       "2                                               None      None        NaN   \n",
       "3                                               None      None        NaN   \n",
       "4                                               None      None        NaN   \n",
       "\n",
       "  media_type  ... saved_from  giveaway_information  contact_information  \\\n",
       "0  animation  ...       None                  None                 None   \n",
       "1       None  ...       None                  None                 None   \n",
       "2       None  ...       None                  None                 None   \n",
       "3       None  ...       None                  None                 None   \n",
       "4       None  ...       None                  None                 None   \n",
       "\n",
       "   contact_vcard contact_vcard_file_size self_destruct_period_seconds  \\\n",
       "0           None                     NaN                          NaN   \n",
       "1           None                     NaN                          NaN   \n",
       "2           None                     NaN                          NaN   \n",
       "3           None                     NaN                          NaN   \n",
       "4           None                     NaN                          NaN   \n",
       "\n",
       "   place_name  address from_me    month  \n",
       "0        None     None    True  2020-10  \n",
       "1        None     None    True  2020-10  \n",
       "2        None     None    True  2020-10  \n",
       "3        None     None   False  2020-10  \n",
       "4        None     None   False  2020-10  \n",
       "\n",
       "[5 rows x 48 columns]"
      ]
     },
     "execution_count": 7,
     "metadata": {},
     "output_type": "execute_result"
    }
   ],
   "source": [
    "preprocessed_message_df = message_df[message_df['date'] >= ANALYSIS_START_DATE]\n",
    "\n",
    "summarize_df(preprocessed_message_df)"
   ]
  },
  {
   "cell_type": "markdown",
   "metadata": {},
   "source": [
    "# \\# of messages"
   ]
  },
  {
   "cell_type": "code",
   "execution_count": 8,
   "metadata": {},
   "outputs": [
    {
     "data": {
      "application/vnd.plotly.v1+json": {
       "config": {
        "plotlyServerURL": "https://plot.ly"
       },
       "data": [
        {
         "hovertemplate": "Month=%{x}<br>Messages=%{y}<extra></extra>",
         "legendgroup": "",
         "marker": {
          "color": "#636efa",
          "pattern": {
           "shape": ""
          }
         },
         "name": "",
         "orientation": "v",
         "showlegend": false,
         "textposition": "auto",
         "type": "bar",
         "x": [
          "2015-10",
          "2015-11",
          "2015-12",
          "2016-01",
          "2016-02",
          "2016-03",
          "2016-04",
          "2016-05",
          "2016-06",
          "2016-07",
          "2016-08",
          "2016-09",
          "2016-10",
          "2016-11",
          "2016-12",
          "2017-01",
          "2017-02",
          "2017-03",
          "2017-04",
          "2017-05",
          "2017-06",
          "2017-07",
          "2017-08",
          "2017-09",
          "2017-10",
          "2017-11",
          "2017-12",
          "2018-01",
          "2018-02",
          "2018-03",
          "2018-04",
          "2018-05",
          "2018-06",
          "2018-07",
          "2018-08",
          "2018-09",
          "2018-10",
          "2018-11",
          "2018-12",
          "2019-01",
          "2019-02",
          "2019-03",
          "2019-04",
          "2019-05",
          "2019-06",
          "2019-07",
          "2019-08",
          "2019-09",
          "2019-10",
          "2019-11",
          "2019-12",
          "2020-01",
          "2020-02",
          "2020-03",
          "2020-04",
          "2020-05",
          "2020-06",
          "2020-07",
          "2020-08",
          "2020-09",
          "2020-10",
          "2020-11",
          "2020-12",
          "2021-01",
          "2021-02",
          "2021-03",
          "2021-04",
          "2021-05",
          "2021-06",
          "2021-07",
          "2021-08",
          "2021-09",
          "2021-10",
          "2021-11",
          "2021-12",
          "2022-01",
          "2022-02",
          "2022-03",
          "2022-04",
          "2022-05",
          "2022-06",
          "2022-07",
          "2022-08",
          "2022-09",
          "2022-10",
          "2022-11",
          "2022-12",
          "2023-01",
          "2023-02",
          "2023-03",
          "2023-04",
          "2023-05",
          "2023-06",
          "2023-07",
          "2023-08",
          "2023-09",
          "2023-10",
          "2023-11",
          "2023-12",
          "2024-01",
          "2024-02",
          "2024-03",
          "2024-04",
          "2024-05",
          "2024-06",
          "2024-07",
          "2024-08",
          "2024-09",
          "2024-10",
          "2024-11",
          "2024-12",
          "2025-01",
          "2025-02",
          "2025-03",
          "2025-04",
          "2025-05",
          "2025-06"
         ],
         "xaxis": "x",
         "y": {
          "bdata": "FAQAAP8BAAANAwAAMQIAAFYFAADhAwAAYQQAAPkCAAD2CQAAYAUAALsWAAAYAwAAkgAAAFUDAABUBQAAqwUAALgDAADoAgAA3wMAABICAADdAQAAGwEAABECAABYAgAA5wMAADURAAAfEAAA3hAAAOsKAADiCQAA9AcAAA8DAACeBwAAkwgAAFACAABSBAAAdQEAACMBAAAdAwAAfwsAAAsIAADYDgAAZwUAAOIRAADkDgAA6wcAAGgHAAA6DQAA7gkAAK0HAADiIQAAXTEAACRZAAD3lQAAKmQAAMuEAADVSQAAqFMAAD47AABIMwAAs0QAAAF2AADnegAAZGUAAI5vAABfigAAfG0AANd5AADXrgAAOqgAAELcAACQwQAAO2MAAMF9AADjgwAA0KUAALWBAABilQAAX3MAADhuAAAbZgAArGoAAIJQAABLTgAAjzUAAHI2AAABLQAAZEEAAJ8wAAA3KwAAIEYAANo4AAC5PAAA/isAAENEAABrMwAA6SkAAFovAAAWLwAAMzAAAHwwAACxJgAANyIAAIsXAAAEGwAAziUAAGwdAACiFQAAixIAACAZAAAsGgAACB8AAG4iAAD1FwAAZxgAALEZAADyGgAA",
          "dtype": "i4"
         },
         "yaxis": "y"
        }
       ],
       "layout": {
        "annotations": [
         {
          "arrowcolor": "red",
          "arrowhead": 2,
          "bgcolor": "white",
          "bordercolor": "red",
          "showarrow": true,
          "text": "Analysis Start Date",
          "x": "2019-11",
          "y": 50747.4
         }
        ],
        "barmode": "relative",
        "legend": {
         "tracegroupgap": 0
        },
        "shapes": [
         {
          "line": {
           "color": "red",
           "dash": "dash",
           "width": 2
          },
          "type": "line",
          "x0": "2019-11",
          "x1": "2019-11",
          "y0": 0,
          "y1": 1,
          "yref": "paper"
         }
        ],
        "template": {
         "data": {
          "bar": [
           {
            "error_x": {
             "color": "#2a3f5f"
            },
            "error_y": {
             "color": "#2a3f5f"
            },
            "marker": {
             "line": {
              "color": "white",
              "width": 0.5
             },
             "pattern": {
              "fillmode": "overlay",
              "size": 10,
              "solidity": 0.2
             }
            },
            "type": "bar"
           }
          ],
          "barpolar": [
           {
            "marker": {
             "line": {
              "color": "white",
              "width": 0.5
             },
             "pattern": {
              "fillmode": "overlay",
              "size": 10,
              "solidity": 0.2
             }
            },
            "type": "barpolar"
           }
          ],
          "carpet": [
           {
            "aaxis": {
             "endlinecolor": "#2a3f5f",
             "gridcolor": "#C8D4E3",
             "linecolor": "#C8D4E3",
             "minorgridcolor": "#C8D4E3",
             "startlinecolor": "#2a3f5f"
            },
            "baxis": {
             "endlinecolor": "#2a3f5f",
             "gridcolor": "#C8D4E3",
             "linecolor": "#C8D4E3",
             "minorgridcolor": "#C8D4E3",
             "startlinecolor": "#2a3f5f"
            },
            "type": "carpet"
           }
          ],
          "choropleth": [
           {
            "colorbar": {
             "outlinewidth": 0,
             "ticks": ""
            },
            "type": "choropleth"
           }
          ],
          "contour": [
           {
            "colorbar": {
             "outlinewidth": 0,
             "ticks": ""
            },
            "colorscale": [
             [
              0,
              "#0d0887"
             ],
             [
              0.1111111111111111,
              "#46039f"
             ],
             [
              0.2222222222222222,
              "#7201a8"
             ],
             [
              0.3333333333333333,
              "#9c179e"
             ],
             [
              0.4444444444444444,
              "#bd3786"
             ],
             [
              0.5555555555555556,
              "#d8576b"
             ],
             [
              0.6666666666666666,
              "#ed7953"
             ],
             [
              0.7777777777777778,
              "#fb9f3a"
             ],
             [
              0.8888888888888888,
              "#fdca26"
             ],
             [
              1,
              "#f0f921"
             ]
            ],
            "type": "contour"
           }
          ],
          "contourcarpet": [
           {
            "colorbar": {
             "outlinewidth": 0,
             "ticks": ""
            },
            "type": "contourcarpet"
           }
          ],
          "heatmap": [
           {
            "colorbar": {
             "outlinewidth": 0,
             "ticks": ""
            },
            "colorscale": [
             [
              0,
              "#0d0887"
             ],
             [
              0.1111111111111111,
              "#46039f"
             ],
             [
              0.2222222222222222,
              "#7201a8"
             ],
             [
              0.3333333333333333,
              "#9c179e"
             ],
             [
              0.4444444444444444,
              "#bd3786"
             ],
             [
              0.5555555555555556,
              "#d8576b"
             ],
             [
              0.6666666666666666,
              "#ed7953"
             ],
             [
              0.7777777777777778,
              "#fb9f3a"
             ],
             [
              0.8888888888888888,
              "#fdca26"
             ],
             [
              1,
              "#f0f921"
             ]
            ],
            "type": "heatmap"
           }
          ],
          "histogram": [
           {
            "marker": {
             "pattern": {
              "fillmode": "overlay",
              "size": 10,
              "solidity": 0.2
             }
            },
            "type": "histogram"
           }
          ],
          "histogram2d": [
           {
            "colorbar": {
             "outlinewidth": 0,
             "ticks": ""
            },
            "colorscale": [
             [
              0,
              "#0d0887"
             ],
             [
              0.1111111111111111,
              "#46039f"
             ],
             [
              0.2222222222222222,
              "#7201a8"
             ],
             [
              0.3333333333333333,
              "#9c179e"
             ],
             [
              0.4444444444444444,
              "#bd3786"
             ],
             [
              0.5555555555555556,
              "#d8576b"
             ],
             [
              0.6666666666666666,
              "#ed7953"
             ],
             [
              0.7777777777777778,
              "#fb9f3a"
             ],
             [
              0.8888888888888888,
              "#fdca26"
             ],
             [
              1,
              "#f0f921"
             ]
            ],
            "type": "histogram2d"
           }
          ],
          "histogram2dcontour": [
           {
            "colorbar": {
             "outlinewidth": 0,
             "ticks": ""
            },
            "colorscale": [
             [
              0,
              "#0d0887"
             ],
             [
              0.1111111111111111,
              "#46039f"
             ],
             [
              0.2222222222222222,
              "#7201a8"
             ],
             [
              0.3333333333333333,
              "#9c179e"
             ],
             [
              0.4444444444444444,
              "#bd3786"
             ],
             [
              0.5555555555555556,
              "#d8576b"
             ],
             [
              0.6666666666666666,
              "#ed7953"
             ],
             [
              0.7777777777777778,
              "#fb9f3a"
             ],
             [
              0.8888888888888888,
              "#fdca26"
             ],
             [
              1,
              "#f0f921"
             ]
            ],
            "type": "histogram2dcontour"
           }
          ],
          "mesh3d": [
           {
            "colorbar": {
             "outlinewidth": 0,
             "ticks": ""
            },
            "type": "mesh3d"
           }
          ],
          "parcoords": [
           {
            "line": {
             "colorbar": {
              "outlinewidth": 0,
              "ticks": ""
             }
            },
            "type": "parcoords"
           }
          ],
          "pie": [
           {
            "automargin": true,
            "type": "pie"
           }
          ],
          "scatter": [
           {
            "fillpattern": {
             "fillmode": "overlay",
             "size": 10,
             "solidity": 0.2
            },
            "type": "scatter"
           }
          ],
          "scatter3d": [
           {
            "line": {
             "colorbar": {
              "outlinewidth": 0,
              "ticks": ""
             }
            },
            "marker": {
             "colorbar": {
              "outlinewidth": 0,
              "ticks": ""
             }
            },
            "type": "scatter3d"
           }
          ],
          "scattercarpet": [
           {
            "marker": {
             "colorbar": {
              "outlinewidth": 0,
              "ticks": ""
             }
            },
            "type": "scattercarpet"
           }
          ],
          "scattergeo": [
           {
            "marker": {
             "colorbar": {
              "outlinewidth": 0,
              "ticks": ""
             }
            },
            "type": "scattergeo"
           }
          ],
          "scattergl": [
           {
            "marker": {
             "colorbar": {
              "outlinewidth": 0,
              "ticks": ""
             }
            },
            "type": "scattergl"
           }
          ],
          "scattermap": [
           {
            "marker": {
             "colorbar": {
              "outlinewidth": 0,
              "ticks": ""
             }
            },
            "type": "scattermap"
           }
          ],
          "scattermapbox": [
           {
            "marker": {
             "colorbar": {
              "outlinewidth": 0,
              "ticks": ""
             }
            },
            "type": "scattermapbox"
           }
          ],
          "scatterpolar": [
           {
            "marker": {
             "colorbar": {
              "outlinewidth": 0,
              "ticks": ""
             }
            },
            "type": "scatterpolar"
           }
          ],
          "scatterpolargl": [
           {
            "marker": {
             "colorbar": {
              "outlinewidth": 0,
              "ticks": ""
             }
            },
            "type": "scatterpolargl"
           }
          ],
          "scatterternary": [
           {
            "marker": {
             "colorbar": {
              "outlinewidth": 0,
              "ticks": ""
             }
            },
            "type": "scatterternary"
           }
          ],
          "surface": [
           {
            "colorbar": {
             "outlinewidth": 0,
             "ticks": ""
            },
            "colorscale": [
             [
              0,
              "#0d0887"
             ],
             [
              0.1111111111111111,
              "#46039f"
             ],
             [
              0.2222222222222222,
              "#7201a8"
             ],
             [
              0.3333333333333333,
              "#9c179e"
             ],
             [
              0.4444444444444444,
              "#bd3786"
             ],
             [
              0.5555555555555556,
              "#d8576b"
             ],
             [
              0.6666666666666666,
              "#ed7953"
             ],
             [
              0.7777777777777778,
              "#fb9f3a"
             ],
             [
              0.8888888888888888,
              "#fdca26"
             ],
             [
              1,
              "#f0f921"
             ]
            ],
            "type": "surface"
           }
          ],
          "table": [
           {
            "cells": {
             "fill": {
              "color": "#EBF0F8"
             },
             "line": {
              "color": "white"
             }
            },
            "header": {
             "fill": {
              "color": "#C8D4E3"
             },
             "line": {
              "color": "white"
             }
            },
            "type": "table"
           }
          ]
         },
         "layout": {
          "annotationdefaults": {
           "arrowcolor": "#2a3f5f",
           "arrowhead": 0,
           "arrowwidth": 1
          },
          "autotypenumbers": "strict",
          "coloraxis": {
           "colorbar": {
            "outlinewidth": 0,
            "ticks": ""
           }
          },
          "colorscale": {
           "diverging": [
            [
             0,
             "#8e0152"
            ],
            [
             0.1,
             "#c51b7d"
            ],
            [
             0.2,
             "#de77ae"
            ],
            [
             0.3,
             "#f1b6da"
            ],
            [
             0.4,
             "#fde0ef"
            ],
            [
             0.5,
             "#f7f7f7"
            ],
            [
             0.6,
             "#e6f5d0"
            ],
            [
             0.7,
             "#b8e186"
            ],
            [
             0.8,
             "#7fbc41"
            ],
            [
             0.9,
             "#4d9221"
            ],
            [
             1,
             "#276419"
            ]
           ],
           "sequential": [
            [
             0,
             "#0d0887"
            ],
            [
             0.1111111111111111,
             "#46039f"
            ],
            [
             0.2222222222222222,
             "#7201a8"
            ],
            [
             0.3333333333333333,
             "#9c179e"
            ],
            [
             0.4444444444444444,
             "#bd3786"
            ],
            [
             0.5555555555555556,
             "#d8576b"
            ],
            [
             0.6666666666666666,
             "#ed7953"
            ],
            [
             0.7777777777777778,
             "#fb9f3a"
            ],
            [
             0.8888888888888888,
             "#fdca26"
            ],
            [
             1,
             "#f0f921"
            ]
           ],
           "sequentialminus": [
            [
             0,
             "#0d0887"
            ],
            [
             0.1111111111111111,
             "#46039f"
            ],
            [
             0.2222222222222222,
             "#7201a8"
            ],
            [
             0.3333333333333333,
             "#9c179e"
            ],
            [
             0.4444444444444444,
             "#bd3786"
            ],
            [
             0.5555555555555556,
             "#d8576b"
            ],
            [
             0.6666666666666666,
             "#ed7953"
            ],
            [
             0.7777777777777778,
             "#fb9f3a"
            ],
            [
             0.8888888888888888,
             "#fdca26"
            ],
            [
             1,
             "#f0f921"
            ]
           ]
          },
          "colorway": [
           "#636efa",
           "#EF553B",
           "#00cc96",
           "#ab63fa",
           "#FFA15A",
           "#19d3f3",
           "#FF6692",
           "#B6E880",
           "#FF97FF",
           "#FECB52"
          ],
          "font": {
           "color": "#2a3f5f"
          },
          "geo": {
           "bgcolor": "white",
           "lakecolor": "white",
           "landcolor": "white",
           "showlakes": true,
           "showland": true,
           "subunitcolor": "#C8D4E3"
          },
          "hoverlabel": {
           "align": "left"
          },
          "hovermode": "closest",
          "mapbox": {
           "style": "light"
          },
          "paper_bgcolor": "white",
          "plot_bgcolor": "white",
          "polar": {
           "angularaxis": {
            "gridcolor": "#EBF0F8",
            "linecolor": "#EBF0F8",
            "ticks": ""
           },
           "bgcolor": "white",
           "radialaxis": {
            "gridcolor": "#EBF0F8",
            "linecolor": "#EBF0F8",
            "ticks": ""
           }
          },
          "scene": {
           "xaxis": {
            "backgroundcolor": "white",
            "gridcolor": "#DFE8F3",
            "gridwidth": 2,
            "linecolor": "#EBF0F8",
            "showbackground": true,
            "ticks": "",
            "zerolinecolor": "#EBF0F8"
           },
           "yaxis": {
            "backgroundcolor": "white",
            "gridcolor": "#DFE8F3",
            "gridwidth": 2,
            "linecolor": "#EBF0F8",
            "showbackground": true,
            "ticks": "",
            "zerolinecolor": "#EBF0F8"
           },
           "zaxis": {
            "backgroundcolor": "white",
            "gridcolor": "#DFE8F3",
            "gridwidth": 2,
            "linecolor": "#EBF0F8",
            "showbackground": true,
            "ticks": "",
            "zerolinecolor": "#EBF0F8"
           }
          },
          "shapedefaults": {
           "line": {
            "color": "#2a3f5f"
           }
          },
          "ternary": {
           "aaxis": {
            "gridcolor": "#DFE8F3",
            "linecolor": "#A2B1C6",
            "ticks": ""
           },
           "baxis": {
            "gridcolor": "#DFE8F3",
            "linecolor": "#A2B1C6",
            "ticks": ""
           },
           "bgcolor": "white",
           "caxis": {
            "gridcolor": "#DFE8F3",
            "linecolor": "#A2B1C6",
            "ticks": ""
           }
          },
          "title": {
           "x": 0.05
          },
          "xaxis": {
           "automargin": true,
           "gridcolor": "#EBF0F8",
           "linecolor": "#EBF0F8",
           "ticks": "",
           "title": {
            "standoff": 15
           },
           "zerolinecolor": "#EBF0F8",
           "zerolinewidth": 2
          },
          "yaxis": {
           "automargin": true,
           "gridcolor": "#EBF0F8",
           "linecolor": "#EBF0F8",
           "ticks": "",
           "title": {
            "standoff": 15
           },
           "zerolinecolor": "#EBF0F8",
           "zerolinewidth": 2
          }
         }
        },
        "title": {
         "text": "Monthly Message Count"
        },
        "width": 1300,
        "xaxis": {
         "anchor": "y",
         "domain": [
          0,
          1
         ],
         "tickangle": 45,
         "title": {
          "text": "Month"
         }
        },
        "yaxis": {
         "anchor": "x",
         "domain": [
          0,
          1
         ],
         "title": {
          "text": "Messages"
         }
        }
       }
      }
     },
     "metadata": {},
     "output_type": "display_data"
    }
   ],
   "source": [
    "monthly_counts = message_df.groupby('month').size().reset_index(name='message_count')\n",
    "\n",
    "fig = px.bar(\n",
    "    monthly_counts,\n",
    "    x='month',\n",
    "    y='message_count',\n",
    "    title='Monthly Message Count',\n",
    "    labels={'month': 'Month', 'message_count': 'Messages'},\n",
    "    template='plotly_white'\n",
    ")\n",
    "\n",
    "ANALYSIS_START_DATE_str = ANALYSIS_START_DATE.strftime('%Y-%m')\n",
    "fig.update_layout(xaxis_tickangle=45)\n",
    "fig.update_layout(width=1300)\n",
    "\n",
    "fig.add_shape(\n",
    "    type=\"line\",\n",
    "    x0=ANALYSIS_START_DATE_str,\n",
    "    x1=ANALYSIS_START_DATE_str,\n",
    "    y0=0,\n",
    "    y1=1,\n",
    "    yref=\"paper\", \n",
    "    line=dict(color='red', width=2, dash='dash')\n",
    ")\n",
    "\n",
    "fig.add_annotation(\n",
    "    x=ANALYSIS_START_DATE_str,\n",
    "    y=max(monthly_counts['message_count']) * 0.9,  # Position near top\n",
    "    text='Analysis Start Date',\n",
    "    showarrow=True,\n",
    "    arrowhead=2,\n",
    "    arrowcolor='red',\n",
    "    bgcolor='white',\n",
    "    bordercolor='red'\n",
    ")\n",
    "\n",
    "fig.show()\n",
    "fig.write_image(os.path.join(PLOT_DIR, \"message_count.png\"), width=1200)\n",
    "# fig.write_html(\"plot.html\")"
   ]
  },
  {
   "cell_type": "code",
   "execution_count": 9,
   "metadata": {},
   "outputs": [
    {
     "data": {
      "application/vnd.plotly.v1+json": {
       "config": {
        "plotlyServerURL": "https://plot.ly"
       },
       "data": [
        {
         "hovertemplate": "%{fullData.name}: %{y:.2%}<extra></extra>",
         "line": {
          "shape": "spline"
         },
         "mode": "lines",
         "name": "Others",
         "stackgroup": "one",
         "type": "scatter",
         "x": [
          "2019-11",
          "2019-12",
          "2020-01",
          "2020-02",
          "2020-03",
          "2020-04",
          "2020-05",
          "2020-06",
          "2020-07",
          "2020-08",
          "2020-09",
          "2020-10",
          "2020-11",
          "2020-12",
          "2021-01",
          "2021-02",
          "2021-03",
          "2021-04",
          "2021-05",
          "2021-06",
          "2021-07",
          "2021-08",
          "2021-09",
          "2021-10",
          "2021-11",
          "2021-12",
          "2022-01",
          "2022-02",
          "2022-03",
          "2022-04",
          "2022-05",
          "2022-06",
          "2022-07",
          "2022-08",
          "2022-09",
          "2022-10",
          "2022-11",
          "2022-12",
          "2023-01",
          "2023-02",
          "2023-03",
          "2023-04",
          "2023-05",
          "2023-06",
          "2023-07",
          "2023-08",
          "2023-09",
          "2023-10",
          "2023-11",
          "2023-12",
          "2024-01",
          "2024-02",
          "2024-03",
          "2024-04",
          "2024-05",
          "2024-06",
          "2024-07",
          "2024-08",
          "2024-09",
          "2024-10",
          "2024-11",
          "2024-12",
          "2025-01",
          "2025-02",
          "2025-03",
          "2025-04",
          "2025-05",
          "2025-06"
         ],
         "y": {
          "bdata": "6AZXdO9a3j9reWeXq/XeP9Gcn41lZ+A/OEo6hS/14D8Jddc/tmvhP0OcNk2RB+E/+aSn3mNW4D/K9gfkTAfhPxEQ+Ka2IuE/QbqtWj6X4D+VCGHC0tHfPyAtjBbBleA/Ltv4SnHH4T+SephUJcziPyTw4YkBgeI/snisNEqD4z+ylP8Ffl7jP+t5aef+oeI/p4YmZm6T4z8MYPFKlzTjP3aGelYOUuI/GdvfU4sQ4j9cEV6+KR/jP+JlZv3l7uI/aU9+9Gat4j/7JllG1rTiPyipU0EXW+I/vCACvIZM4j/MZqL+RdThP4Ro2q6thuI/5G06TWiF4j/8ru+lg1riP1ht1J2tvuE/79rTsLIn4j9bjS8/53XjP6RHTVu6TeM/9POH4z7Q4z8Deo0hGmjjPxQcPcHRE+Q/v8Qe2IzA4j9DvdtYABfiP2k6gJf0aOI/rI+8UI0r4j9giF+P7rrhP6ZE5slZt+E/vboneNIL4z+JSXF96nXjP97BSzG+1eI/YHgWHOPb4j9CZ6MLiqrjP6K8lAVBNuM/UiKgNcrz4z/F7Ge7vUPjP5pDQXGLC+M/iK45VnYa4z++uwwq5LvjP+XMSWvM2OI/v5+Lh0G64j97AfAcFybkP1NGuNUvu+M/V9w7yVJH5D/9dXTSvTLkP0ds3MkRG+M/0JX7E5hq4z+/WjoiHCbjP6RJTQ5l8uM/Jf/1UOCN4z++box8grLjPw==",
          "dtype": "f8"
         }
        },
        {
         "hovertemplate": "%{fullData.name}: %{y:.2%}<extra></extra>",
         "line": {
          "shape": "spline"
         },
         "mode": "lines",
         "name": "Me",
         "stackgroup": "one",
         "type": "scatter",
         "x": [
          "2019-11",
          "2019-12",
          "2020-01",
          "2020-02",
          "2020-03",
          "2020-04",
          "2020-05",
          "2020-06",
          "2020-07",
          "2020-08",
          "2020-09",
          "2020-10",
          "2020-11",
          "2020-12",
          "2021-01",
          "2021-02",
          "2021-03",
          "2021-04",
          "2021-05",
          "2021-06",
          "2021-07",
          "2021-08",
          "2021-09",
          "2021-10",
          "2021-11",
          "2021-12",
          "2022-01",
          "2022-02",
          "2022-03",
          "2022-04",
          "2022-05",
          "2022-06",
          "2022-07",
          "2022-08",
          "2022-09",
          "2022-10",
          "2022-11",
          "2022-12",
          "2023-01",
          "2023-02",
          "2023-03",
          "2023-04",
          "2023-05",
          "2023-06",
          "2023-07",
          "2023-08",
          "2023-09",
          "2023-10",
          "2023-11",
          "2023-12",
          "2024-01",
          "2024-02",
          "2024-03",
          "2024-04",
          "2024-05",
          "2024-06",
          "2024-07",
          "2024-08",
          "2024-09",
          "2024-10",
          "2024-11",
          "2024-12",
          "2025-01",
          "2025-02",
          "2025-03",
          "2025-04",
          "2025-05",
          "2025-06"
         ],
         "y": {
          "bdata": "jHzURYjS4D9KQ0w0KoXgP17GwOQ0Md8/j2uL9aAV3j/vFVGAkyjdP3nHkmXd8N0/D7awQjhT3z9sEvA3ZvHdP97fD7KSut0/f4ukSoPR3j+2e8+eFhfgP8Cl59J91N4/pEkOah1x3D/dCs9WtWfaP7gfPOz8/do/nQ6nlmv52D+c1gD0A0PZPysMLTECvNo/svKyMyPZ2D/nPx1q0ZbZPxTzClPjW9s/zklAWOne2z9I3UODrMHZPzs0MwU0Ito/L2EDFzKl2j8Ksk1zU5baP7GtWH3RSds/iL77h/Jm2z9oMrsCdFfcP/guS6Kk8to/OCSLZS/12j8HoiC0+ErbP1AlV8Skgtw/IUpYnpqw2z9L5aCBMRTZP7hwZUmLZNk/GRjwOIJf2D/6C+W8yy/ZP9jHhX1c2Nc/gnbCT+Z+2j95hUhO/9HbPy6L/9AWLts/qOCGXuWo2z9A70DhIorcP7R2M2xMkdw/h4qwD1vo2T/ubB0FKxTZP0R8aJ2DVNo/Pw/TxzlI2j98Mbno66rYP7yG1vR9k9k/XLu/lGsY2D91JjCJhHjZP8x4fR3p6Nk/8KKMUxPL2T+DiOarN4jYPzZmbClnTto/g8Do8HyL2j8L/R/G0bPXP1tzj1Sgidg/U0eIbVpx1z8GFBdbhJrXP3InR2zcydk/YNQI2M8q2T+CSou7x7PZP7hsZeM1G9g/tgEUXj/k2D+EIucG+5rYPw==",
          "dtype": "f8"
         }
        }
       ],
       "layout": {
        "height": 500,
        "hovermode": "x unified",
        "template": {
         "data": {
          "bar": [
           {
            "error_x": {
             "color": "#2a3f5f"
            },
            "error_y": {
             "color": "#2a3f5f"
            },
            "marker": {
             "line": {
              "color": "white",
              "width": 0.5
             },
             "pattern": {
              "fillmode": "overlay",
              "size": 10,
              "solidity": 0.2
             }
            },
            "type": "bar"
           }
          ],
          "barpolar": [
           {
            "marker": {
             "line": {
              "color": "white",
              "width": 0.5
             },
             "pattern": {
              "fillmode": "overlay",
              "size": 10,
              "solidity": 0.2
             }
            },
            "type": "barpolar"
           }
          ],
          "carpet": [
           {
            "aaxis": {
             "endlinecolor": "#2a3f5f",
             "gridcolor": "#C8D4E3",
             "linecolor": "#C8D4E3",
             "minorgridcolor": "#C8D4E3",
             "startlinecolor": "#2a3f5f"
            },
            "baxis": {
             "endlinecolor": "#2a3f5f",
             "gridcolor": "#C8D4E3",
             "linecolor": "#C8D4E3",
             "minorgridcolor": "#C8D4E3",
             "startlinecolor": "#2a3f5f"
            },
            "type": "carpet"
           }
          ],
          "choropleth": [
           {
            "colorbar": {
             "outlinewidth": 0,
             "ticks": ""
            },
            "type": "choropleth"
           }
          ],
          "contour": [
           {
            "colorbar": {
             "outlinewidth": 0,
             "ticks": ""
            },
            "colorscale": [
             [
              0,
              "#0d0887"
             ],
             [
              0.1111111111111111,
              "#46039f"
             ],
             [
              0.2222222222222222,
              "#7201a8"
             ],
             [
              0.3333333333333333,
              "#9c179e"
             ],
             [
              0.4444444444444444,
              "#bd3786"
             ],
             [
              0.5555555555555556,
              "#d8576b"
             ],
             [
              0.6666666666666666,
              "#ed7953"
             ],
             [
              0.7777777777777778,
              "#fb9f3a"
             ],
             [
              0.8888888888888888,
              "#fdca26"
             ],
             [
              1,
              "#f0f921"
             ]
            ],
            "type": "contour"
           }
          ],
          "contourcarpet": [
           {
            "colorbar": {
             "outlinewidth": 0,
             "ticks": ""
            },
            "type": "contourcarpet"
           }
          ],
          "heatmap": [
           {
            "colorbar": {
             "outlinewidth": 0,
             "ticks": ""
            },
            "colorscale": [
             [
              0,
              "#0d0887"
             ],
             [
              0.1111111111111111,
              "#46039f"
             ],
             [
              0.2222222222222222,
              "#7201a8"
             ],
             [
              0.3333333333333333,
              "#9c179e"
             ],
             [
              0.4444444444444444,
              "#bd3786"
             ],
             [
              0.5555555555555556,
              "#d8576b"
             ],
             [
              0.6666666666666666,
              "#ed7953"
             ],
             [
              0.7777777777777778,
              "#fb9f3a"
             ],
             [
              0.8888888888888888,
              "#fdca26"
             ],
             [
              1,
              "#f0f921"
             ]
            ],
            "type": "heatmap"
           }
          ],
          "histogram": [
           {
            "marker": {
             "pattern": {
              "fillmode": "overlay",
              "size": 10,
              "solidity": 0.2
             }
            },
            "type": "histogram"
           }
          ],
          "histogram2d": [
           {
            "colorbar": {
             "outlinewidth": 0,
             "ticks": ""
            },
            "colorscale": [
             [
              0,
              "#0d0887"
             ],
             [
              0.1111111111111111,
              "#46039f"
             ],
             [
              0.2222222222222222,
              "#7201a8"
             ],
             [
              0.3333333333333333,
              "#9c179e"
             ],
             [
              0.4444444444444444,
              "#bd3786"
             ],
             [
              0.5555555555555556,
              "#d8576b"
             ],
             [
              0.6666666666666666,
              "#ed7953"
             ],
             [
              0.7777777777777778,
              "#fb9f3a"
             ],
             [
              0.8888888888888888,
              "#fdca26"
             ],
             [
              1,
              "#f0f921"
             ]
            ],
            "type": "histogram2d"
           }
          ],
          "histogram2dcontour": [
           {
            "colorbar": {
             "outlinewidth": 0,
             "ticks": ""
            },
            "colorscale": [
             [
              0,
              "#0d0887"
             ],
             [
              0.1111111111111111,
              "#46039f"
             ],
             [
              0.2222222222222222,
              "#7201a8"
             ],
             [
              0.3333333333333333,
              "#9c179e"
             ],
             [
              0.4444444444444444,
              "#bd3786"
             ],
             [
              0.5555555555555556,
              "#d8576b"
             ],
             [
              0.6666666666666666,
              "#ed7953"
             ],
             [
              0.7777777777777778,
              "#fb9f3a"
             ],
             [
              0.8888888888888888,
              "#fdca26"
             ],
             [
              1,
              "#f0f921"
             ]
            ],
            "type": "histogram2dcontour"
           }
          ],
          "mesh3d": [
           {
            "colorbar": {
             "outlinewidth": 0,
             "ticks": ""
            },
            "type": "mesh3d"
           }
          ],
          "parcoords": [
           {
            "line": {
             "colorbar": {
              "outlinewidth": 0,
              "ticks": ""
             }
            },
            "type": "parcoords"
           }
          ],
          "pie": [
           {
            "automargin": true,
            "type": "pie"
           }
          ],
          "scatter": [
           {
            "fillpattern": {
             "fillmode": "overlay",
             "size": 10,
             "solidity": 0.2
            },
            "type": "scatter"
           }
          ],
          "scatter3d": [
           {
            "line": {
             "colorbar": {
              "outlinewidth": 0,
              "ticks": ""
             }
            },
            "marker": {
             "colorbar": {
              "outlinewidth": 0,
              "ticks": ""
             }
            },
            "type": "scatter3d"
           }
          ],
          "scattercarpet": [
           {
            "marker": {
             "colorbar": {
              "outlinewidth": 0,
              "ticks": ""
             }
            },
            "type": "scattercarpet"
           }
          ],
          "scattergeo": [
           {
            "marker": {
             "colorbar": {
              "outlinewidth": 0,
              "ticks": ""
             }
            },
            "type": "scattergeo"
           }
          ],
          "scattergl": [
           {
            "marker": {
             "colorbar": {
              "outlinewidth": 0,
              "ticks": ""
             }
            },
            "type": "scattergl"
           }
          ],
          "scattermap": [
           {
            "marker": {
             "colorbar": {
              "outlinewidth": 0,
              "ticks": ""
             }
            },
            "type": "scattermap"
           }
          ],
          "scattermapbox": [
           {
            "marker": {
             "colorbar": {
              "outlinewidth": 0,
              "ticks": ""
             }
            },
            "type": "scattermapbox"
           }
          ],
          "scatterpolar": [
           {
            "marker": {
             "colorbar": {
              "outlinewidth": 0,
              "ticks": ""
             }
            },
            "type": "scatterpolar"
           }
          ],
          "scatterpolargl": [
           {
            "marker": {
             "colorbar": {
              "outlinewidth": 0,
              "ticks": ""
             }
            },
            "type": "scatterpolargl"
           }
          ],
          "scatterternary": [
           {
            "marker": {
             "colorbar": {
              "outlinewidth": 0,
              "ticks": ""
             }
            },
            "type": "scatterternary"
           }
          ],
          "surface": [
           {
            "colorbar": {
             "outlinewidth": 0,
             "ticks": ""
            },
            "colorscale": [
             [
              0,
              "#0d0887"
             ],
             [
              0.1111111111111111,
              "#46039f"
             ],
             [
              0.2222222222222222,
              "#7201a8"
             ],
             [
              0.3333333333333333,
              "#9c179e"
             ],
             [
              0.4444444444444444,
              "#bd3786"
             ],
             [
              0.5555555555555556,
              "#d8576b"
             ],
             [
              0.6666666666666666,
              "#ed7953"
             ],
             [
              0.7777777777777778,
              "#fb9f3a"
             ],
             [
              0.8888888888888888,
              "#fdca26"
             ],
             [
              1,
              "#f0f921"
             ]
            ],
            "type": "surface"
           }
          ],
          "table": [
           {
            "cells": {
             "fill": {
              "color": "#EBF0F8"
             },
             "line": {
              "color": "white"
             }
            },
            "header": {
             "fill": {
              "color": "#C8D4E3"
             },
             "line": {
              "color": "white"
             }
            },
            "type": "table"
           }
          ]
         },
         "layout": {
          "annotationdefaults": {
           "arrowcolor": "#2a3f5f",
           "arrowhead": 0,
           "arrowwidth": 1
          },
          "autotypenumbers": "strict",
          "coloraxis": {
           "colorbar": {
            "outlinewidth": 0,
            "ticks": ""
           }
          },
          "colorscale": {
           "diverging": [
            [
             0,
             "#8e0152"
            ],
            [
             0.1,
             "#c51b7d"
            ],
            [
             0.2,
             "#de77ae"
            ],
            [
             0.3,
             "#f1b6da"
            ],
            [
             0.4,
             "#fde0ef"
            ],
            [
             0.5,
             "#f7f7f7"
            ],
            [
             0.6,
             "#e6f5d0"
            ],
            [
             0.7,
             "#b8e186"
            ],
            [
             0.8,
             "#7fbc41"
            ],
            [
             0.9,
             "#4d9221"
            ],
            [
             1,
             "#276419"
            ]
           ],
           "sequential": [
            [
             0,
             "#0d0887"
            ],
            [
             0.1111111111111111,
             "#46039f"
            ],
            [
             0.2222222222222222,
             "#7201a8"
            ],
            [
             0.3333333333333333,
             "#9c179e"
            ],
            [
             0.4444444444444444,
             "#bd3786"
            ],
            [
             0.5555555555555556,
             "#d8576b"
            ],
            [
             0.6666666666666666,
             "#ed7953"
            ],
            [
             0.7777777777777778,
             "#fb9f3a"
            ],
            [
             0.8888888888888888,
             "#fdca26"
            ],
            [
             1,
             "#f0f921"
            ]
           ],
           "sequentialminus": [
            [
             0,
             "#0d0887"
            ],
            [
             0.1111111111111111,
             "#46039f"
            ],
            [
             0.2222222222222222,
             "#7201a8"
            ],
            [
             0.3333333333333333,
             "#9c179e"
            ],
            [
             0.4444444444444444,
             "#bd3786"
            ],
            [
             0.5555555555555556,
             "#d8576b"
            ],
            [
             0.6666666666666666,
             "#ed7953"
            ],
            [
             0.7777777777777778,
             "#fb9f3a"
            ],
            [
             0.8888888888888888,
             "#fdca26"
            ],
            [
             1,
             "#f0f921"
            ]
           ]
          },
          "colorway": [
           "#636efa",
           "#EF553B",
           "#00cc96",
           "#ab63fa",
           "#FFA15A",
           "#19d3f3",
           "#FF6692",
           "#B6E880",
           "#FF97FF",
           "#FECB52"
          ],
          "font": {
           "color": "#2a3f5f"
          },
          "geo": {
           "bgcolor": "white",
           "lakecolor": "white",
           "landcolor": "white",
           "showlakes": true,
           "showland": true,
           "subunitcolor": "#C8D4E3"
          },
          "hoverlabel": {
           "align": "left"
          },
          "hovermode": "closest",
          "mapbox": {
           "style": "light"
          },
          "paper_bgcolor": "white",
          "plot_bgcolor": "white",
          "polar": {
           "angularaxis": {
            "gridcolor": "#EBF0F8",
            "linecolor": "#EBF0F8",
            "ticks": ""
           },
           "bgcolor": "white",
           "radialaxis": {
            "gridcolor": "#EBF0F8",
            "linecolor": "#EBF0F8",
            "ticks": ""
           }
          },
          "scene": {
           "xaxis": {
            "backgroundcolor": "white",
            "gridcolor": "#DFE8F3",
            "gridwidth": 2,
            "linecolor": "#EBF0F8",
            "showbackground": true,
            "ticks": "",
            "zerolinecolor": "#EBF0F8"
           },
           "yaxis": {
            "backgroundcolor": "white",
            "gridcolor": "#DFE8F3",
            "gridwidth": 2,
            "linecolor": "#EBF0F8",
            "showbackground": true,
            "ticks": "",
            "zerolinecolor": "#EBF0F8"
           },
           "zaxis": {
            "backgroundcolor": "white",
            "gridcolor": "#DFE8F3",
            "gridwidth": 2,
            "linecolor": "#EBF0F8",
            "showbackground": true,
            "ticks": "",
            "zerolinecolor": "#EBF0F8"
           }
          },
          "shapedefaults": {
           "line": {
            "color": "#2a3f5f"
           }
          },
          "ternary": {
           "aaxis": {
            "gridcolor": "#DFE8F3",
            "linecolor": "#A2B1C6",
            "ticks": ""
           },
           "baxis": {
            "gridcolor": "#DFE8F3",
            "linecolor": "#A2B1C6",
            "ticks": ""
           },
           "bgcolor": "white",
           "caxis": {
            "gridcolor": "#DFE8F3",
            "linecolor": "#A2B1C6",
            "ticks": ""
           }
          },
          "title": {
           "x": 0.05
          },
          "xaxis": {
           "automargin": true,
           "gridcolor": "#EBF0F8",
           "linecolor": "#EBF0F8",
           "ticks": "",
           "title": {
            "standoff": 15
           },
           "zerolinecolor": "#EBF0F8",
           "zerolinewidth": 2
          },
          "yaxis": {
           "automargin": true,
           "gridcolor": "#EBF0F8",
           "linecolor": "#EBF0F8",
           "ticks": "",
           "title": {
            "standoff": 15
           },
           "zerolinecolor": "#EBF0F8",
           "zerolinewidth": 2
          }
         }
        },
        "title": {
         "text": "Monthly Share of Messages: Me vs Others"
        },
        "width": 1000,
        "xaxis": {
         "tickangle": 45,
         "title": {
          "text": "Month"
         }
        },
        "yaxis": {
         "tickformat": ".0%",
         "title": {
          "text": "Message Share"
         }
        }
       }
      }
     },
     "metadata": {},
     "output_type": "display_data"
    }
   ],
   "source": [
    "sender_monthly = preprocessed_message_df.groupby(['month', 'from_me']).size().unstack(fill_value=0)\n",
    "sender_monthly.columns = ['Others', 'Me']\n",
    "sender_share = sender_monthly.div(sender_monthly.sum(axis=1), axis=0)\n",
    "\n",
    "fig = go.Figure()\n",
    "for sender in sender_share.columns:\n",
    "    fig.add_trace(go.Scatter(\n",
    "        x=sender_share.index,\n",
    "        y=sender_share[sender],\n",
    "        mode='lines',\n",
    "        name=sender,\n",
    "        stackgroup='one',\n",
    "        line=dict(shape='spline'),\n",
    "        hovertemplate='%{fullData.name}: %{y:.2%}<extra></extra>'\n",
    "    ))\n",
    "\n",
    "fig.update_layout(\n",
    "    title='Monthly Share of Messages: Me vs Others',\n",
    "    xaxis_title='Month',\n",
    "    yaxis_title='Message Share',\n",
    "    yaxis=dict(tickformat='.0%'),\n",
    "    hovermode='x unified',\n",
    "    template='plotly_white',\n",
    "    width=1000,\n",
    "    height=500\n",
    ")\n",
    "\n",
    "fig.update_xaxes(tickangle=45)\n",
    "fig.show()\n",
    "fig.write_image(os.path.join(PLOT_DIR, \"message_share.png\"), width=1000)"
   ]
  },
  {
   "cell_type": "markdown",
   "metadata": {},
   "source": [
    "## Conversation Starter"
   ]
  },
  {
   "cell_type": "code",
   "execution_count": 10,
   "metadata": {},
   "outputs": [
    {
     "data": {
      "application/vnd.plotly.v1+json": {
       "config": {
        "plotlyServerURL": "https://plot.ly"
       },
       "data": [
        {
         "hovertemplate": "%{fullData.name}: %{y:.2%}<extra></extra>",
         "line": {
          "shape": "spline"
         },
         "mode": "lines",
         "name": "Others",
         "stackgroup": "one",
         "type": "scatter",
         "x": [
          "2019-11",
          "2019-12",
          "2020-01",
          "2020-02",
          "2020-03",
          "2020-04",
          "2020-05",
          "2020-06",
          "2020-07",
          "2020-08",
          "2020-09",
          "2020-10",
          "2020-11",
          "2020-12",
          "2021-01",
          "2021-02",
          "2021-03",
          "2021-04",
          "2021-05",
          "2021-06",
          "2021-07",
          "2021-08",
          "2021-09",
          "2021-10",
          "2021-11",
          "2021-12",
          "2022-01",
          "2022-02",
          "2022-03",
          "2022-04",
          "2022-05",
          "2022-06",
          "2022-07",
          "2022-08",
          "2022-09",
          "2022-10",
          "2022-11",
          "2022-12",
          "2023-01",
          "2023-02",
          "2023-03",
          "2023-04",
          "2023-05",
          "2023-06",
          "2023-07",
          "2023-08",
          "2023-09",
          "2023-10",
          "2023-11",
          "2023-12",
          "2024-01",
          "2024-02",
          "2024-03",
          "2024-04",
          "2024-05",
          "2024-06",
          "2024-07",
          "2024-08",
          "2024-09",
          "2024-10",
          "2024-11",
          "2024-12",
          "2025-01",
          "2025-02",
          "2025-03",
          "2025-04",
          "2025-05",
          "2025-06"
         ],
         "y": {
          "bdata": "vuIrvuIr3j8II+1YgTDSPwAAAAAAAN0/m6u5mqu52j8apEEapEHaPxiGYRiGYdg/HMdxHMdx3D+XlpaWlpbWPwAAAAAAANc/nDC/q8VN2D8bcMUacMXaP1VVVVVVVdU/MzMzMzMz2z8VvJyCl1PgPzhH3xx9c+Q/IPiBH/iB3z+YIp91gyniP/LX7KhFyN8/QhqkQRqk4T97BqLSkT3jP9BRgS+ufuA/xc8o8TNK3D9QUFBQUFDgPxljjDHGGOM/aoTlnkZY3j+g+7mf+7nfPwAAAAAAAOA/GG9ln0Nq4j9Pp9PpdDrdP2G5pxGWe9o/hP1WG0PT3T8Z0QdUx97aP1HdDtXtUN0/un1l9S554D/cMm4Zt4zbP9d1Xdd1Xdc/NSbSA5Wz2z96nud5nufZP2l8ZAK9U9c/jYn0QOXs1j912EiHjXTYP3UtBzf7hdg/WHzFV3zF1z/QyDt/i9PaPzXk3GcXENs/ljIJdhW+3D9+3/d93/fdPzdMcxf8Vdw/0x3st9oY2j+3bdu2bdvWP2+32+12u90/RhdddNFF1z/SGq3RGq3hP61Wq9Vqtdo/tt/RK2P73T99Z6O+s1HfP3TlAck6V94/jnn6aDUJ4T9ddNFFF13cP0mSJEmSJOE/XuEVXuEV3j9aWlpaWlraP8QdcUfcEdc/mpmZmZmZ2T8cx3Ecx3HcP1VVVVVVVdU/OB+D8zE43z8jn3WDKfLZPw==",
          "dtype": "f8"
         }
        },
        {
         "hovertemplate": "%{fullData.name}: %{y:.2%}<extra></extra>",
         "line": {
          "shape": "spline"
         },
         "mode": "lines",
         "name": "Me",
         "stackgroup": "one",
         "type": "scatter",
         "x": [
          "2019-11",
          "2019-12",
          "2020-01",
          "2020-02",
          "2020-03",
          "2020-04",
          "2020-05",
          "2020-06",
          "2020-07",
          "2020-08",
          "2020-09",
          "2020-10",
          "2020-11",
          "2020-12",
          "2021-01",
          "2021-02",
          "2021-03",
          "2021-04",
          "2021-05",
          "2021-06",
          "2021-07",
          "2021-08",
          "2021-09",
          "2021-10",
          "2021-11",
          "2021-12",
          "2022-01",
          "2022-02",
          "2022-03",
          "2022-04",
          "2022-05",
          "2022-06",
          "2022-07",
          "2022-08",
          "2022-09",
          "2022-10",
          "2022-11",
          "2022-12",
          "2023-01",
          "2023-02",
          "2023-03",
          "2023-04",
          "2023-05",
          "2023-06",
          "2023-07",
          "2023-08",
          "2023-09",
          "2023-10",
          "2023-11",
          "2023-12",
          "2024-01",
          "2024-02",
          "2024-03",
          "2024-04",
          "2024-05",
          "2024-06",
          "2024-07",
          "2024-08",
          "2024-09",
          "2024-10",
          "2024-11",
          "2024-12",
          "2025-01",
          "2025-02",
          "2025-03",
          "2025-04",
          "2025-05",
          "2025-06"
         ],
         "y": {
          "bdata": "oQ7qoA7q4D98bolTv+fmPwAAAAAAgOE/MyqjMiqj4j/zLd/yLd/iP/Q8z/M8z+M/chzHcRzH4T+1tLS0tLTkPwAAAAAAgOQ/smcgKh3Z4z/zR53yR53iP1VVVVVVVeU/ZmZmZmZm4j/Wh8b60FjfP5BxQcYFGdc/8AM/8AM/4D/QusEU+azbPweUiSvdG+A/fcu3fMu33D8K87ta3ITZP19c/aCjAt8/HphrB+ba4T9fX19fX1/fP84555xzztk/yz2NsNzT4D8wAiMwAiPgPwAAAAAAAOA/0CE1wXgr2z9ZLBaLxWLhP08jLPc0wuI/PoFUcl4W4T9zF/xVnJDiP1iReBWJV+E/iwQ1FaIN3z+S5khzpDniPxRFURRFUeQ/5ewWfjUm4j/DMAzDMAzjP8vBzX4hVuQ/ObuFX42J5D/Gk1s8ucXjP0VpfGQCveM/1EEd1EEd5D+YG2JAOpbiP+aNEUz0d+I/tWb7RPWg4T9BEARBEAThP+VZRvQB1eE/FvEJpJLz4j8lSZIkSZLkP0kkEolEIuE/XXTRRRdd5D9dyqVcyqXcP6lUKpVKpeI/JRAXak4C4T9BTK4gJlfgP0YNf5ti1OA/5AwLLpXt3T/RRRdddNHhP27btm3btt0/UQ/1UA/14D/T0tLS0tLiPx5xR9wRd+Q/MzMzMzMz4z9yHMdxHMfhP1VVVVVVVeU/ZHA+Budj4D9vMEU+6wbjPw==",
          "dtype": "f8"
         }
        }
       ],
       "layout": {
        "height": 500,
        "hovermode": "x unified",
        "template": {
         "data": {
          "bar": [
           {
            "error_x": {
             "color": "#2a3f5f"
            },
            "error_y": {
             "color": "#2a3f5f"
            },
            "marker": {
             "line": {
              "color": "white",
              "width": 0.5
             },
             "pattern": {
              "fillmode": "overlay",
              "size": 10,
              "solidity": 0.2
             }
            },
            "type": "bar"
           }
          ],
          "barpolar": [
           {
            "marker": {
             "line": {
              "color": "white",
              "width": 0.5
             },
             "pattern": {
              "fillmode": "overlay",
              "size": 10,
              "solidity": 0.2
             }
            },
            "type": "barpolar"
           }
          ],
          "carpet": [
           {
            "aaxis": {
             "endlinecolor": "#2a3f5f",
             "gridcolor": "#C8D4E3",
             "linecolor": "#C8D4E3",
             "minorgridcolor": "#C8D4E3",
             "startlinecolor": "#2a3f5f"
            },
            "baxis": {
             "endlinecolor": "#2a3f5f",
             "gridcolor": "#C8D4E3",
             "linecolor": "#C8D4E3",
             "minorgridcolor": "#C8D4E3",
             "startlinecolor": "#2a3f5f"
            },
            "type": "carpet"
           }
          ],
          "choropleth": [
           {
            "colorbar": {
             "outlinewidth": 0,
             "ticks": ""
            },
            "type": "choropleth"
           }
          ],
          "contour": [
           {
            "colorbar": {
             "outlinewidth": 0,
             "ticks": ""
            },
            "colorscale": [
             [
              0,
              "#0d0887"
             ],
             [
              0.1111111111111111,
              "#46039f"
             ],
             [
              0.2222222222222222,
              "#7201a8"
             ],
             [
              0.3333333333333333,
              "#9c179e"
             ],
             [
              0.4444444444444444,
              "#bd3786"
             ],
             [
              0.5555555555555556,
              "#d8576b"
             ],
             [
              0.6666666666666666,
              "#ed7953"
             ],
             [
              0.7777777777777778,
              "#fb9f3a"
             ],
             [
              0.8888888888888888,
              "#fdca26"
             ],
             [
              1,
              "#f0f921"
             ]
            ],
            "type": "contour"
           }
          ],
          "contourcarpet": [
           {
            "colorbar": {
             "outlinewidth": 0,
             "ticks": ""
            },
            "type": "contourcarpet"
           }
          ],
          "heatmap": [
           {
            "colorbar": {
             "outlinewidth": 0,
             "ticks": ""
            },
            "colorscale": [
             [
              0,
              "#0d0887"
             ],
             [
              0.1111111111111111,
              "#46039f"
             ],
             [
              0.2222222222222222,
              "#7201a8"
             ],
             [
              0.3333333333333333,
              "#9c179e"
             ],
             [
              0.4444444444444444,
              "#bd3786"
             ],
             [
              0.5555555555555556,
              "#d8576b"
             ],
             [
              0.6666666666666666,
              "#ed7953"
             ],
             [
              0.7777777777777778,
              "#fb9f3a"
             ],
             [
              0.8888888888888888,
              "#fdca26"
             ],
             [
              1,
              "#f0f921"
             ]
            ],
            "type": "heatmap"
           }
          ],
          "histogram": [
           {
            "marker": {
             "pattern": {
              "fillmode": "overlay",
              "size": 10,
              "solidity": 0.2
             }
            },
            "type": "histogram"
           }
          ],
          "histogram2d": [
           {
            "colorbar": {
             "outlinewidth": 0,
             "ticks": ""
            },
            "colorscale": [
             [
              0,
              "#0d0887"
             ],
             [
              0.1111111111111111,
              "#46039f"
             ],
             [
              0.2222222222222222,
              "#7201a8"
             ],
             [
              0.3333333333333333,
              "#9c179e"
             ],
             [
              0.4444444444444444,
              "#bd3786"
             ],
             [
              0.5555555555555556,
              "#d8576b"
             ],
             [
              0.6666666666666666,
              "#ed7953"
             ],
             [
              0.7777777777777778,
              "#fb9f3a"
             ],
             [
              0.8888888888888888,
              "#fdca26"
             ],
             [
              1,
              "#f0f921"
             ]
            ],
            "type": "histogram2d"
           }
          ],
          "histogram2dcontour": [
           {
            "colorbar": {
             "outlinewidth": 0,
             "ticks": ""
            },
            "colorscale": [
             [
              0,
              "#0d0887"
             ],
             [
              0.1111111111111111,
              "#46039f"
             ],
             [
              0.2222222222222222,
              "#7201a8"
             ],
             [
              0.3333333333333333,
              "#9c179e"
             ],
             [
              0.4444444444444444,
              "#bd3786"
             ],
             [
              0.5555555555555556,
              "#d8576b"
             ],
             [
              0.6666666666666666,
              "#ed7953"
             ],
             [
              0.7777777777777778,
              "#fb9f3a"
             ],
             [
              0.8888888888888888,
              "#fdca26"
             ],
             [
              1,
              "#f0f921"
             ]
            ],
            "type": "histogram2dcontour"
           }
          ],
          "mesh3d": [
           {
            "colorbar": {
             "outlinewidth": 0,
             "ticks": ""
            },
            "type": "mesh3d"
           }
          ],
          "parcoords": [
           {
            "line": {
             "colorbar": {
              "outlinewidth": 0,
              "ticks": ""
             }
            },
            "type": "parcoords"
           }
          ],
          "pie": [
           {
            "automargin": true,
            "type": "pie"
           }
          ],
          "scatter": [
           {
            "fillpattern": {
             "fillmode": "overlay",
             "size": 10,
             "solidity": 0.2
            },
            "type": "scatter"
           }
          ],
          "scatter3d": [
           {
            "line": {
             "colorbar": {
              "outlinewidth": 0,
              "ticks": ""
             }
            },
            "marker": {
             "colorbar": {
              "outlinewidth": 0,
              "ticks": ""
             }
            },
            "type": "scatter3d"
           }
          ],
          "scattercarpet": [
           {
            "marker": {
             "colorbar": {
              "outlinewidth": 0,
              "ticks": ""
             }
            },
            "type": "scattercarpet"
           }
          ],
          "scattergeo": [
           {
            "marker": {
             "colorbar": {
              "outlinewidth": 0,
              "ticks": ""
             }
            },
            "type": "scattergeo"
           }
          ],
          "scattergl": [
           {
            "marker": {
             "colorbar": {
              "outlinewidth": 0,
              "ticks": ""
             }
            },
            "type": "scattergl"
           }
          ],
          "scattermap": [
           {
            "marker": {
             "colorbar": {
              "outlinewidth": 0,
              "ticks": ""
             }
            },
            "type": "scattermap"
           }
          ],
          "scattermapbox": [
           {
            "marker": {
             "colorbar": {
              "outlinewidth": 0,
              "ticks": ""
             }
            },
            "type": "scattermapbox"
           }
          ],
          "scatterpolar": [
           {
            "marker": {
             "colorbar": {
              "outlinewidth": 0,
              "ticks": ""
             }
            },
            "type": "scatterpolar"
           }
          ],
          "scatterpolargl": [
           {
            "marker": {
             "colorbar": {
              "outlinewidth": 0,
              "ticks": ""
             }
            },
            "type": "scatterpolargl"
           }
          ],
          "scatterternary": [
           {
            "marker": {
             "colorbar": {
              "outlinewidth": 0,
              "ticks": ""
             }
            },
            "type": "scatterternary"
           }
          ],
          "surface": [
           {
            "colorbar": {
             "outlinewidth": 0,
             "ticks": ""
            },
            "colorscale": [
             [
              0,
              "#0d0887"
             ],
             [
              0.1111111111111111,
              "#46039f"
             ],
             [
              0.2222222222222222,
              "#7201a8"
             ],
             [
              0.3333333333333333,
              "#9c179e"
             ],
             [
              0.4444444444444444,
              "#bd3786"
             ],
             [
              0.5555555555555556,
              "#d8576b"
             ],
             [
              0.6666666666666666,
              "#ed7953"
             ],
             [
              0.7777777777777778,
              "#fb9f3a"
             ],
             [
              0.8888888888888888,
              "#fdca26"
             ],
             [
              1,
              "#f0f921"
             ]
            ],
            "type": "surface"
           }
          ],
          "table": [
           {
            "cells": {
             "fill": {
              "color": "#EBF0F8"
             },
             "line": {
              "color": "white"
             }
            },
            "header": {
             "fill": {
              "color": "#C8D4E3"
             },
             "line": {
              "color": "white"
             }
            },
            "type": "table"
           }
          ]
         },
         "layout": {
          "annotationdefaults": {
           "arrowcolor": "#2a3f5f",
           "arrowhead": 0,
           "arrowwidth": 1
          },
          "autotypenumbers": "strict",
          "coloraxis": {
           "colorbar": {
            "outlinewidth": 0,
            "ticks": ""
           }
          },
          "colorscale": {
           "diverging": [
            [
             0,
             "#8e0152"
            ],
            [
             0.1,
             "#c51b7d"
            ],
            [
             0.2,
             "#de77ae"
            ],
            [
             0.3,
             "#f1b6da"
            ],
            [
             0.4,
             "#fde0ef"
            ],
            [
             0.5,
             "#f7f7f7"
            ],
            [
             0.6,
             "#e6f5d0"
            ],
            [
             0.7,
             "#b8e186"
            ],
            [
             0.8,
             "#7fbc41"
            ],
            [
             0.9,
             "#4d9221"
            ],
            [
             1,
             "#276419"
            ]
           ],
           "sequential": [
            [
             0,
             "#0d0887"
            ],
            [
             0.1111111111111111,
             "#46039f"
            ],
            [
             0.2222222222222222,
             "#7201a8"
            ],
            [
             0.3333333333333333,
             "#9c179e"
            ],
            [
             0.4444444444444444,
             "#bd3786"
            ],
            [
             0.5555555555555556,
             "#d8576b"
            ],
            [
             0.6666666666666666,
             "#ed7953"
            ],
            [
             0.7777777777777778,
             "#fb9f3a"
            ],
            [
             0.8888888888888888,
             "#fdca26"
            ],
            [
             1,
             "#f0f921"
            ]
           ],
           "sequentialminus": [
            [
             0,
             "#0d0887"
            ],
            [
             0.1111111111111111,
             "#46039f"
            ],
            [
             0.2222222222222222,
             "#7201a8"
            ],
            [
             0.3333333333333333,
             "#9c179e"
            ],
            [
             0.4444444444444444,
             "#bd3786"
            ],
            [
             0.5555555555555556,
             "#d8576b"
            ],
            [
             0.6666666666666666,
             "#ed7953"
            ],
            [
             0.7777777777777778,
             "#fb9f3a"
            ],
            [
             0.8888888888888888,
             "#fdca26"
            ],
            [
             1,
             "#f0f921"
            ]
           ]
          },
          "colorway": [
           "#636efa",
           "#EF553B",
           "#00cc96",
           "#ab63fa",
           "#FFA15A",
           "#19d3f3",
           "#FF6692",
           "#B6E880",
           "#FF97FF",
           "#FECB52"
          ],
          "font": {
           "color": "#2a3f5f"
          },
          "geo": {
           "bgcolor": "white",
           "lakecolor": "white",
           "landcolor": "white",
           "showlakes": true,
           "showland": true,
           "subunitcolor": "#C8D4E3"
          },
          "hoverlabel": {
           "align": "left"
          },
          "hovermode": "closest",
          "mapbox": {
           "style": "light"
          },
          "paper_bgcolor": "white",
          "plot_bgcolor": "white",
          "polar": {
           "angularaxis": {
            "gridcolor": "#EBF0F8",
            "linecolor": "#EBF0F8",
            "ticks": ""
           },
           "bgcolor": "white",
           "radialaxis": {
            "gridcolor": "#EBF0F8",
            "linecolor": "#EBF0F8",
            "ticks": ""
           }
          },
          "scene": {
           "xaxis": {
            "backgroundcolor": "white",
            "gridcolor": "#DFE8F3",
            "gridwidth": 2,
            "linecolor": "#EBF0F8",
            "showbackground": true,
            "ticks": "",
            "zerolinecolor": "#EBF0F8"
           },
           "yaxis": {
            "backgroundcolor": "white",
            "gridcolor": "#DFE8F3",
            "gridwidth": 2,
            "linecolor": "#EBF0F8",
            "showbackground": true,
            "ticks": "",
            "zerolinecolor": "#EBF0F8"
           },
           "zaxis": {
            "backgroundcolor": "white",
            "gridcolor": "#DFE8F3",
            "gridwidth": 2,
            "linecolor": "#EBF0F8",
            "showbackground": true,
            "ticks": "",
            "zerolinecolor": "#EBF0F8"
           }
          },
          "shapedefaults": {
           "line": {
            "color": "#2a3f5f"
           }
          },
          "ternary": {
           "aaxis": {
            "gridcolor": "#DFE8F3",
            "linecolor": "#A2B1C6",
            "ticks": ""
           },
           "baxis": {
            "gridcolor": "#DFE8F3",
            "linecolor": "#A2B1C6",
            "ticks": ""
           },
           "bgcolor": "white",
           "caxis": {
            "gridcolor": "#DFE8F3",
            "linecolor": "#A2B1C6",
            "ticks": ""
           }
          },
          "title": {
           "x": 0.05
          },
          "xaxis": {
           "automargin": true,
           "gridcolor": "#EBF0F8",
           "linecolor": "#EBF0F8",
           "ticks": "",
           "title": {
            "standoff": 15
           },
           "zerolinecolor": "#EBF0F8",
           "zerolinewidth": 2
          },
          "yaxis": {
           "automargin": true,
           "gridcolor": "#EBF0F8",
           "linecolor": "#EBF0F8",
           "ticks": "",
           "title": {
            "standoff": 15
           },
           "zerolinecolor": "#EBF0F8",
           "zerolinewidth": 2
          }
         }
        },
        "title": {
         "text": "Monthly Share of Conversation Starts: Me vs Others"
        },
        "width": 1000,
        "xaxis": {
         "tickangle": 45,
         "title": {
          "text": "Month"
         }
        },
        "yaxis": {
         "tickformat": ".0%",
         "title": {
          "text": "Start Share"
         }
        }
       }
      }
     },
     "metadata": {},
     "output_type": "display_data"
    }
   ],
   "source": [
    "def calculate_time_diff_by_id(df, time_col, id_col):\n",
    "    df = df.sort_values(by=[id_col, time_col])\n",
    "    df['prev_time'] = df.groupby(id_col)[time_col].shift(1)\n",
    "    df['time_diff'] = df[time_col] - df['prev_time']\n",
    "    df = df.drop('prev_time', axis=1)\n",
    "    df['conversationStarter'] = ~(df['time_diff'] < datetime.timedelta(hours=24))\n",
    "    df = df[df['conversationStarter']].drop(['conversationStarter', 'time_diff'], axis=1)\n",
    "    return df\n",
    "\n",
    "preprocessed_message_with_diff_df = calculate_time_diff_by_id(preprocessed_message_df.copy(), 'date', 'chat_id')\n",
    "\n",
    "sender_monthly = preprocessed_message_with_diff_df.groupby(\n",
    "    ['month', 'from_me']).size().unstack(fill_value=0)\n",
    "sender_monthly.columns = ['Others', 'Me']\n",
    "\n",
    "sender_share = sender_monthly.div(sender_monthly.sum(axis=1), axis=0)\n",
    "\n",
    "fig = go.Figure()\n",
    "\n",
    "for sender in sender_share.columns:\n",
    "    fig.add_trace(go.Scatter(\n",
    "        x=sender_share.index,\n",
    "        y=sender_share[sender],\n",
    "        mode='lines',\n",
    "        name=sender,\n",
    "        stackgroup='one',\n",
    "        line=dict(shape='spline'),\n",
    "        hovertemplate='%{fullData.name}: %{y:.2%}<extra></extra>'\n",
    "    ))\n",
    "\n",
    "fig.update_layout(\n",
    "    title='Monthly Share of Conversation Starts: Me vs Others',\n",
    "    xaxis_title='Month',\n",
    "    yaxis_title='Start Share',\n",
    "    yaxis=dict(tickformat='.0%'),\n",
    "    hovermode='x unified',\n",
    "    template='plotly_white',\n",
    "    width=1000,\n",
    "    height=500\n",
    ")\n",
    "\n",
    "fig.update_xaxes(tickangle=45)\n",
    "fig.show()\n",
    "fig.write_image(os.path.join(PLOT_DIR, \"start_share.png\"), width=1000)"
   ]
  },
  {
   "cell_type": "markdown",
   "metadata": {},
   "source": [
    "# Emoji Analysis"
   ]
  },
  {
   "cell_type": "markdown",
   "metadata": {},
   "source": [
    "## Preprocessing"
   ]
  },
  {
   "cell_type": "code",
   "execution_count": 11,
   "metadata": {},
   "outputs": [
    {
     "name": "stderr",
     "output_type": "stream",
     "text": [
      "/tmp/ipykernel_3405129/3970512237.py:2: SettingWithCopyWarning:\n",
      "\n",
      "\n",
      "A value is trying to be set on a copy of a slice from a DataFrame.\n",
      "Try using .loc[row_indexer,col_indexer] = value instead\n",
      "\n",
      "See the caveats in the documentation: https://pandas.pydata.org/pandas-docs/stable/user_guide/indexing.html#returning-a-view-versus-a-copy\n",
      "\n"
     ]
    },
    {
     "name": "stdout",
     "output_type": "stream",
     "text": [
      "Schema (columns and types):\n",
      "emoji            object\n",
      "date     datetime64[ns]\n",
      "dtype: object\n",
      "\n",
      "Total rows: 272902\n",
      "\n",
      "First 5 rows:\n"
     ]
    },
    {
     "data": {
      "text/html": [
       "<div>\n",
       "<style scoped>\n",
       "    .dataframe tbody tr th:only-of-type {\n",
       "        vertical-align: middle;\n",
       "    }\n",
       "\n",
       "    .dataframe tbody tr th {\n",
       "        vertical-align: top;\n",
       "    }\n",
       "\n",
       "    .dataframe thead th {\n",
       "        text-align: right;\n",
       "    }\n",
       "</style>\n",
       "<table border=\"1\" class=\"dataframe\">\n",
       "  <thead>\n",
       "    <tr style=\"text-align: right;\">\n",
       "      <th></th>\n",
       "      <th>emoji</th>\n",
       "      <th>date</th>\n",
       "    </tr>\n",
       "  </thead>\n",
       "  <tbody>\n",
       "    <tr>\n",
       "      <th>0</th>\n",
       "      <td>😁</td>\n",
       "      <td>2020-10-03 11:38:33</td>\n",
       "    </tr>\n",
       "    <tr>\n",
       "      <th>1</th>\n",
       "      <td>🤔</td>\n",
       "      <td>2020-10-03 11:39:04</td>\n",
       "    </tr>\n",
       "    <tr>\n",
       "      <th>2</th>\n",
       "      <td>😁</td>\n",
       "      <td>2020-10-03 11:40:23</td>\n",
       "    </tr>\n",
       "    <tr>\n",
       "      <th>3</th>\n",
       "      <td>🤔</td>\n",
       "      <td>2020-10-03 11:40:40</td>\n",
       "    </tr>\n",
       "    <tr>\n",
       "      <th>4</th>\n",
       "      <td>🤔</td>\n",
       "      <td>2020-10-03 11:42:07</td>\n",
       "    </tr>\n",
       "  </tbody>\n",
       "</table>\n",
       "</div>"
      ],
      "text/plain": [
       "  emoji                date\n",
       "0     😁 2020-10-03 11:38:33\n",
       "1     🤔 2020-10-03 11:39:04\n",
       "2     😁 2020-10-03 11:40:23\n",
       "3     🤔 2020-10-03 11:40:40\n",
       "4     🤔 2020-10-03 11:42:07"
      ]
     },
     "execution_count": 11,
     "metadata": {},
     "output_type": "execute_result"
    }
   ],
   "source": [
    "my_message_df = preprocessed_message_df[preprocessed_message_df['from_me']]\n",
    "my_message_df['emojis'] = my_message_df['text'].apply(emoji.distinct_emoji_list)\n",
    "my_message_df = my_message_df[my_message_df['emojis'].apply(lambda x: bool(x))]\n",
    "my_message_df = my_message_df[my_message_df['emojis'].apply(len) <= 6]\n",
    "emoji_df = my_message_df[my_message_df['emojis'].apply(bool)].explode('emojis')[\n",
    "    ['emojis', 'date']]\n",
    "emoji_df = emoji_df.rename(columns={'emojis': 'emoji'}).reset_index(drop=True)\n",
    "\n",
    "summarize_df(emoji_df)"
   ]
  },
  {
   "cell_type": "code",
   "execution_count": 12,
   "metadata": {},
   "outputs": [
    {
     "data": {
      "application/vnd.plotly.v1+json": {
       "config": {
        "plotlyServerURL": "https://plot.ly"
       },
       "data": [
        {
         "hovertemplate": "%{fullData.name}: %{y:.2%}<extra></extra>",
         "line": {
          "shape": "spline",
          "width": 0.5
         },
         "mode": "lines",
         "name": "😂",
         "stackgroup": "one",
         "type": "scatter",
         "x": [
          "2019-11",
          "2019-12",
          "2020-01",
          "2020-02",
          "2020-03",
          "2020-04",
          "2020-05",
          "2020-06",
          "2020-07",
          "2020-08",
          "2020-09",
          "2020-10",
          "2020-11",
          "2020-12",
          "2021-01",
          "2021-02",
          "2021-03",
          "2021-04",
          "2021-05",
          "2021-06",
          "2021-07",
          "2021-08",
          "2021-09",
          "2021-10",
          "2021-11",
          "2021-12",
          "2022-01",
          "2022-02",
          "2022-03",
          "2022-04",
          "2022-05",
          "2022-06",
          "2022-07",
          "2022-08",
          "2022-09",
          "2022-10",
          "2022-11",
          "2022-12",
          "2023-01",
          "2023-02",
          "2023-03",
          "2023-04",
          "2023-05",
          "2023-06",
          "2023-07",
          "2023-08",
          "2023-09",
          "2023-10",
          "2023-11",
          "2023-12",
          "2024-01",
          "2024-02",
          "2024-03",
          "2024-04",
          "2024-05",
          "2024-06",
          "2024-07",
          "2024-08",
          "2024-09",
          "2024-10",
          "2024-11",
          "2024-12",
          "2025-01",
          "2025-02",
          "2025-03",
          "2025-04",
          "2025-05",
          "2025-06"
         ],
         "y": {
          "bdata": "AAAAAAAA8D/vy2MrgobTP5EThLux79E/CxvtgMzI1j/H8tBN/wrPP3t7e3t7e8s/gTtT05zKvz8qBJxfCR+nP5cpk5LLMpY/mfolk+bfjT/Mdo+P7tR+P01vQ6c/aZM/d9WPNKkUpT9BTYVow+e3P9lJNwI4AcI/IJH5EZkf0T+EsV2G3OrZP0k3xt9329w/awPD/M2J3j/8l0eGB6jhP5u/ZYrh0tw/UWrhMp1+4T/05/G+PlTiP763j1si9OE/rDeneFVX4j/uLUue8hjjP+yvdBusVeE/PUGWkCr+3j8rQFDVPDzdP693CwlI4tc/A0E3EHQD0T8o3TZ9/m/SP2vh5D5jFNI/3t3d3d3dzT/KtHOwZonRPyy+4iu+4ss/1I1OsjUHxz8Sjm8tHn3VP/O0PXKtENQ/yvM47/Ar1T8ZAxg6QsHJP7PUNlefy8w/7xLfF7X8yz8WspCFLGTLP4vFYrFYLMY/viWbFnCWxD/iXpMFSlLIP7tdI4LWQMk/gXj2Hwo+xT/yPImLUj7KPwFfJDlUZ80/a6Elp1D+yD/5HSJI8JzIP9gLzEbP8sY/7NOSjaeKyT9HPl5qvi3KP2VuQ6uFoM8/Xz1Dm8Mgxj9WB25ytJLIPyQ9a8i17MQ/yFSGTGXIxD9C4VTokvTBP4m5njXSxsY/Xc3VXM3VzD9xMOKvWI6+P3072cUovbs/dNDLexfVuz8gSCKNfZrLPw==",
          "dtype": "f8"
         }
        },
        {
         "hovertemplate": "%{fullData.name}: %{y:.2%}<extra></extra>",
         "line": {
          "shape": "spline",
          "width": 0.5
         },
         "mode": "lines",
         "name": "🥲",
         "stackgroup": "one",
         "type": "scatter",
         "x": [
          "2019-11",
          "2019-12",
          "2020-01",
          "2020-02",
          "2020-03",
          "2020-04",
          "2020-05",
          "2020-06",
          "2020-07",
          "2020-08",
          "2020-09",
          "2020-10",
          "2020-11",
          "2020-12",
          "2021-01",
          "2021-02",
          "2021-03",
          "2021-04",
          "2021-05",
          "2021-06",
          "2021-07",
          "2021-08",
          "2021-09",
          "2021-10",
          "2021-11",
          "2021-12",
          "2022-01",
          "2022-02",
          "2022-03",
          "2022-04",
          "2022-05",
          "2022-06",
          "2022-07",
          "2022-08",
          "2022-09",
          "2022-10",
          "2022-11",
          "2022-12",
          "2023-01",
          "2023-02",
          "2023-03",
          "2023-04",
          "2023-05",
          "2023-06",
          "2023-07",
          "2023-08",
          "2023-09",
          "2023-10",
          "2023-11",
          "2023-12",
          "2024-01",
          "2024-02",
          "2024-03",
          "2024-04",
          "2024-05",
          "2024-06",
          "2024-07",
          "2024-08",
          "2024-09",
          "2024-10",
          "2024-11",
          "2024-12",
          "2025-01",
          "2025-02",
          "2025-03",
          "2025-04",
          "2025-05",
          "2025-06"
         ],
         "y": {
          "bdata": "AAAAAAAAAAAAAAAAAAAAAAAAAAAAAAAAAAAAAAAAAAAAAAAAAAAAAAAAAAAAAAAAAAAAAAAAAAAAAAAAAAAAAAAAAAAAAAAAAAAAAAAAAAAAAAAAAAAAAAAAAAAAAAAAAAAAAAAAAAAmDwaccS1CPzaOnXQjgGM/aBGEFkFocT+aImC0ZymHPwlPHR9ghK0//0xs+nC0qz9UAXg901KdPweMB59tl7E/jRYgrcPjsD/D/0y33j2pP3vZOLq7KKw/17ESjxoBsD9BTK4gJlewP8tIOczu9rY/kkksHQ3syD/ZYNcwbifRP426DZtAcNk/v8jvi/y+4D8Yw0JLlSXeP3lTemwEc94/7dtzaehB4T8drFlifMrcP5GB9P5cq9w/G8YNgM7j4T+3jFvGLePWP6DAgxaHKtc/rUeEEwcW1T/e+98H/ajdP6+GWrJepNw/zfwMrn803j9DFrKQhSzcP0+n0+l0Ot0/dJ/WEggo4T/F+/N6V77cPwKnLYMHKds/7dPT7j4i3T9wghXWx8LZP7t+Sn6Hhtk/VoUbPSD32D9QdgGkhtPYP/f0Htu+ndo/Vp1Z4WzX1j+rUlQOTGzXP7OkHBAZ7tU/JTHhMezW1z/OEyloGozVP7h0tdugrNA/tThJi5O02D/+Amk2GCPbP9ZIG1uAtdU/ZVRGZVRG1T+CTdB/J0rXPwUIDBKb6Nw/Y+n5VtzY3D8c/33bLSfYPw==",
          "dtype": "f8"
         }
        },
        {
         "hovertemplate": "%{fullData.name}: %{y:.2%}<extra></extra>",
         "line": {
          "shape": "spline",
          "width": 0.5
         },
         "mode": "lines",
         "name": "🤔",
         "stackgroup": "one",
         "type": "scatter",
         "x": [
          "2019-11",
          "2019-12",
          "2020-01",
          "2020-02",
          "2020-03",
          "2020-04",
          "2020-05",
          "2020-06",
          "2020-07",
          "2020-08",
          "2020-09",
          "2020-10",
          "2020-11",
          "2020-12",
          "2021-01",
          "2021-02",
          "2021-03",
          "2021-04",
          "2021-05",
          "2021-06",
          "2021-07",
          "2021-08",
          "2021-09",
          "2021-10",
          "2021-11",
          "2021-12",
          "2022-01",
          "2022-02",
          "2022-03",
          "2022-04",
          "2022-05",
          "2022-06",
          "2022-07",
          "2022-08",
          "2022-09",
          "2022-10",
          "2022-11",
          "2022-12",
          "2023-01",
          "2023-02",
          "2023-03",
          "2023-04",
          "2023-05",
          "2023-06",
          "2023-07",
          "2023-08",
          "2023-09",
          "2023-10",
          "2023-11",
          "2023-12",
          "2024-01",
          "2024-02",
          "2024-03",
          "2024-04",
          "2024-05",
          "2024-06",
          "2024-07",
          "2024-08",
          "2024-09",
          "2024-10",
          "2024-11",
          "2024-12",
          "2025-01",
          "2025-02",
          "2025-03",
          "2025-04",
          "2025-05",
          "2025-06"
         ],
         "y": {
          "bdata": "AAAAAAAAAAC2Img4qfviP1towJJe/uQ/+BY22gGZ4T/Q9l0zoabdPw8PDw8PD98/ncqf+lig4z+1Ar8Xxm3lP6O4tDA2IuQ/2gkGTh/R5D98fHSn9gDmP6+OrMlA4uM/jmTUlj7i3T/fJQ8GnHHVP6L4WCLkEtc/XpDdBdld0D/vxitLv7zHPz/U2H2yGb0/jpORVo4kuD+KYikcUWK1P574l3PNqME/Fu8nPi1Vsz/0VoReUwesPwdKtKS0GKs/80kwvKiOpD8JSq3xyoqwP+RiNbLtN6w/2DS34d6rpT/irSuMqhekP98tJCCJ34g/URIWJWFRkj9VpwyW7bSMP/yWVbECRpw/bmUxrGsYkD8DXm+jPxSiP1NNHneWsJs/v5MJlWXwkj9PTXTzhkawP1X+9cOXjqc/DQZZ/F/9rD9/2E2b85+3PzQWPUJ8fbc/CrsttJIEsj+ykIUsZCG7P3cqBHGnQrA/+Z3kAllZsD+XG3fvcyawPyNrt2tE0Ko/0RiixQP+qz/vllaSyLqwP6BESVxrn60/LRAQ53FmsD8cZhLlCLutP6N1DaKK67M/DhBN2Kcluz8J4POrkBO5PwgffPDBB78/v4Ur4pUdwT8XYKF01YG7PxzHcRzHcbw/WJF4FYlXsT/Jez1WL9qmP6SNLcDayr8/Eh3RER3RwT/NRl7tbfe4P6P0bqZ5trE/H9f+62avsT9+2y0nWEa+Pw==",
          "dtype": "f8"
         }
        },
        {
         "hovertemplate": "%{fullData.name}: %{y:.2%}<extra></extra>",
         "line": {
          "shape": "spline",
          "width": 0.5
         },
         "mode": "lines",
         "name": "🚶🏻‍♂",
         "stackgroup": "one",
         "type": "scatter",
         "x": [
          "2019-11",
          "2019-12",
          "2020-01",
          "2020-02",
          "2020-03",
          "2020-04",
          "2020-05",
          "2020-06",
          "2020-07",
          "2020-08",
          "2020-09",
          "2020-10",
          "2020-11",
          "2020-12",
          "2021-01",
          "2021-02",
          "2021-03",
          "2021-04",
          "2021-05",
          "2021-06",
          "2021-07",
          "2021-08",
          "2021-09",
          "2021-10",
          "2021-11",
          "2021-12",
          "2022-01",
          "2022-02",
          "2022-03",
          "2022-04",
          "2022-05",
          "2022-06",
          "2022-07",
          "2022-08",
          "2022-09",
          "2022-10",
          "2022-11",
          "2022-12",
          "2023-01",
          "2023-02",
          "2023-03",
          "2023-04",
          "2023-05",
          "2023-06",
          "2023-07",
          "2023-08",
          "2023-09",
          "2023-10",
          "2023-11",
          "2023-12",
          "2024-01",
          "2024-02",
          "2024-03",
          "2024-04",
          "2024-05",
          "2024-06",
          "2024-07",
          "2024-08",
          "2024-09",
          "2024-10",
          "2024-11",
          "2024-12",
          "2025-01",
          "2025-02",
          "2025-03",
          "2025-04",
          "2025-05",
          "2025-06"
         ],
         "y": {
          "bdata": "AAAAAAAAAAAAAAAAAAAAAAAAAAAAAAAAAAAAAAAAAAAAAAAAAAAAAAAAAAAAAAAAAAAAAAAAAAAzQeOxUj+gP5EBaJehxb0/sWx8M7R2vz9zmt2EvfGzPwQRF0f0crA/mhBc6s/2xD9GgpoK0YbLP+qUgOu5dMk/X7rvpfteyj/fIZ+Kbt3MP4JSmrNBPb0/RZhoTwNsIj/958W9Pma4P2+SJeRCkM0/5Vt8Yb05yz8ePKMiYy3KP8n9qj/zr8c/zSHqQsp0zT8L3iYCIFzKP3xjEsMKhcY/R/uqBWYsvz+CwPB/trS3P9JOmCEwtqg/oBj8icGfmD+jNXgR0bagP7M0WikzMpk/UBf4dIFPlz8X8Hob/aGgP8rjzhJ286s/0Hk8qjaMez9oes1WAMWJP/3wpeNVA1Q/WSaQm883TT/HRyyX06dkP5MCnQANels/JQkk6gBqVz9kIQtZyEI2P4A3EwF4M0E/AAAAAAAAAAAAAAAAAAAAAAAAAAAAAAAAAAAAAAAAAAAAAAAAAAAAAAAAAAAAAAAAAAAAAAAAAAAAAAAAAAAAAAAAAAAAAAAAAAAAAAAAAAAAAAAAAAAAAAAAAAAAAAAAAAAAAAAAAAAAAAAAAAAAAAAAAAAAAAAAAAAAAAAAAAAAAAAAAAAAAAAAAAAAAAAAAAAAAAAAAAAAAAAAAAAAAAAAAAAAAAAAAAAAAAAAAAAAAAAAAAAAAA==",
          "dtype": "f8"
         }
        },
        {
         "hovertemplate": "%{fullData.name}: %{y:.2%}<extra></extra>",
         "line": {
          "shape": "spline",
          "width": 0.5
         },
         "mode": "lines",
         "name": "♥️",
         "stackgroup": "one",
         "type": "scatter",
         "x": [
          "2019-11",
          "2019-12",
          "2020-01",
          "2020-02",
          "2020-03",
          "2020-04",
          "2020-05",
          "2020-06",
          "2020-07",
          "2020-08",
          "2020-09",
          "2020-10",
          "2020-11",
          "2020-12",
          "2021-01",
          "2021-02",
          "2021-03",
          "2021-04",
          "2021-05",
          "2021-06",
          "2021-07",
          "2021-08",
          "2021-09",
          "2021-10",
          "2021-11",
          "2021-12",
          "2022-01",
          "2022-02",
          "2022-03",
          "2022-04",
          "2022-05",
          "2022-06",
          "2022-07",
          "2022-08",
          "2022-09",
          "2022-10",
          "2022-11",
          "2022-12",
          "2023-01",
          "2023-02",
          "2023-03",
          "2023-04",
          "2023-05",
          "2023-06",
          "2023-07",
          "2023-08",
          "2023-09",
          "2023-10",
          "2023-11",
          "2023-12",
          "2024-01",
          "2024-02",
          "2024-03",
          "2024-04",
          "2024-05",
          "2024-06",
          "2024-07",
          "2024-08",
          "2024-09",
          "2024-10",
          "2024-11",
          "2024-12",
          "2025-01",
          "2025-02",
          "2025-03",
          "2025-04",
          "2025-05",
          "2025-06"
         ],
         "y": {
          "bdata": "AAAAAAAAAAAAAAAAAAAAAAAAAAAAAAAAAAAAAAAAAAAAAAAAAAAAAAAAAAAAAAAAAAAAAAAAAAAAAAAAAAAAAAAAAAAAAAAAAAAAAAAAAAAAAAAAAAAAAAAAAAAAAAAAAAAAAAAAAAAAAAAAAAAAAAAAAAAAAAAAAAAAAAAAAAAAAAAAAAAAAIXAEqPujmk/cPcJYYXvbT/RVFH2dAqBPz/WQtOnB6k/bu7FMyLoqz9NHXCAnVqyPzADFJocF7E/9mdjIeRrrD9XEJMriMmVP6+c44r9kLU/IUo20bXIvD8m/G77/HO5PwdDMf8U3sE/bLDBBhtswD+70aV86O7CP328JLsBLcI/WGjQ2lsCwz+sWWJ8yrTDP34LAaNUk8c/+qdVLKxAxT8nRK07cLfBPxyl3jdP28M/ceLAovokxD9mUwbxizzFPxamWht3Q8Y/hZIi2kHQxT+96U1vetPDPwCzjPkvy8g/j+WcNJp8xD9VQoKDGFfKPzEt34N9bsw/EcHdYvRWzD9zQTgcbf3LPxKwD0UMVMk/IjXBeCv7zD8RmKCy7hXMP5iU6GAo5s8/aZPDqjMrzD/KpGpdjZ/NP2nZrTofxcc/MMvnlLnfyz/xIxuX2s7OP1kQUqvMktE/GTKVIVMZ0j+T9BF2RpHSP57YiZ3Yic0/+Id/+Id/yD9WaJjJDZXQP0nt49VA4dE/DvAsxyuz0j9+2y0nWEbOPw==",
          "dtype": "f8"
         }
        },
        {
         "hovertemplate": "%{fullData.name}: %{y:.2%}<extra></extra>",
         "line": {
          "shape": "spline",
          "width": 0.5
         },
         "mode": "lines",
         "name": "😁",
         "stackgroup": "one",
         "type": "scatter",
         "x": [
          "2019-11",
          "2019-12",
          "2020-01",
          "2020-02",
          "2020-03",
          "2020-04",
          "2020-05",
          "2020-06",
          "2020-07",
          "2020-08",
          "2020-09",
          "2020-10",
          "2020-11",
          "2020-12",
          "2021-01",
          "2021-02",
          "2021-03",
          "2021-04",
          "2021-05",
          "2021-06",
          "2021-07",
          "2021-08",
          "2021-09",
          "2021-10",
          "2021-11",
          "2021-12",
          "2022-01",
          "2022-02",
          "2022-03",
          "2022-04",
          "2022-05",
          "2022-06",
          "2022-07",
          "2022-08",
          "2022-09",
          "2022-10",
          "2022-11",
          "2022-12",
          "2023-01",
          "2023-02",
          "2023-03",
          "2023-04",
          "2023-05",
          "2023-06",
          "2023-07",
          "2023-08",
          "2023-09",
          "2023-10",
          "2023-11",
          "2023-12",
          "2024-01",
          "2024-02",
          "2024-03",
          "2024-04",
          "2024-05",
          "2024-06",
          "2024-07",
          "2024-08",
          "2024-09",
          "2024-10",
          "2024-11",
          "2024-12",
          "2025-01",
          "2025-02",
          "2025-03",
          "2025-04",
          "2025-05",
          "2025-06"
         ],
         "y": {
          "bdata": "AAAAAAAAAADQcFL35bG1P6EBS3r506Y/KrUNOQIetT9vIJmMUoHRPxISEhISEtI/fzFRgq14wT/Fi+V6eoS0PwWw+G89Y7A/hShjsL7wrz9O2Bs/EW2kP1j8sszYOLM/xTNK2R2AtT9ViDZ8/pi7P08w+ICI4Lc/1t9Z/Z3Vvz8GC0x07uS3PxhXP+iowKc/dWkHVtuQkj9L4YgSq+SJP/VXBBDLLJU/FXHR5lcpkD+Cxg39CiqgPyQP39vHLaE/ZCOBUA/egz+PSFfSOK2QPxUPhhrjqJM/e54kk1g6mj99lzf4e5KZP3g6dmQySJE/qxCpCpGqoD8R0bYQCWChP/7D54kBKKA/3cV2CBcymz/fRn8oJBegP7Gb30LAKKU/R2Fo4liSoD/3cy5tymmoPw1Q4EGLQ6U/jWRF4DHZqz+6pPxllk2pP3DiJgU6Aao/E98Xtfwboj9Ob3rTm96kPx4goeEBEqo/8s0H/PY9oz8TEhzEuNKwPz7vBpy2DK4/oYI0NXhHsD8g4uQGVcOzP9+3nuUkI7c/hr8RTk8Suz/AW7NA2QXAP3b/DZT29K4/M/WYREn5sj9hoHpjN9ezPyjjpj9AG7E/mq3WPlnlqj8+nCdS0DS4P8AMl652G8Q/ux2q26G6rT9GANun046vP/MA5DlUy7E/mH7pl37ppz/qNC68KXC9PzFK72aaZ6s/gkpFa7pPrz8dgaKtBs+RPw==",
          "dtype": "f8"
         }
        },
        {
         "hovertemplate": "%{fullData.name}: %{y:.2%}<extra></extra>",
         "line": {
          "shape": "spline",
          "width": 0.5
         },
         "mode": "lines",
         "name": "👨🏻‍🦯",
         "stackgroup": "one",
         "type": "scatter",
         "x": [
          "2019-11",
          "2019-12",
          "2020-01",
          "2020-02",
          "2020-03",
          "2020-04",
          "2020-05",
          "2020-06",
          "2020-07",
          "2020-08",
          "2020-09",
          "2020-10",
          "2020-11",
          "2020-12",
          "2021-01",
          "2021-02",
          "2021-03",
          "2021-04",
          "2021-05",
          "2021-06",
          "2021-07",
          "2021-08",
          "2021-09",
          "2021-10",
          "2021-11",
          "2021-12",
          "2022-01",
          "2022-02",
          "2022-03",
          "2022-04",
          "2022-05",
          "2022-06",
          "2022-07",
          "2022-08",
          "2022-09",
          "2022-10",
          "2022-11",
          "2022-12",
          "2023-01",
          "2023-02",
          "2023-03",
          "2023-04",
          "2023-05",
          "2023-06",
          "2023-07",
          "2023-08",
          "2023-09",
          "2023-10",
          "2023-11",
          "2023-12",
          "2024-01",
          "2024-02",
          "2024-03",
          "2024-04",
          "2024-05",
          "2024-06",
          "2024-07",
          "2024-08",
          "2024-09",
          "2024-10",
          "2024-11",
          "2024-12",
          "2025-01",
          "2025-02",
          "2025-03",
          "2025-04",
          "2025-05",
          "2025-06"
         ],
         "y": {
          "bdata": "AAAAAAAAAAAAAAAAAAAAAAAAAAAAAAAAAAAAAAAAAAAAAAAAAAAAAAAAAAAAAAAAAAAAAAAAAAAAAAAAAAAAAAAAAAAAAAAABk4f0RRXND/XK9lyWKo4PwAAAAAAAAAAAAAAAAAAAAAAAAAAAAAAAAAAAAAAAAAAAAAAAAAAAABZD9hqG8o6PzolPHV8gME/0wntTDJe0j+huA3YJdzHPxqLek2HzCs/5N0lCugNGD8OhXcta2IkPzz3SFhxAFE/Ly+swGl9Sj+kQv9U8DYxPw+VpdaHsTU/AAAAAAAAAACQ5LyFqFQkP4uG70V/rFQ/OBOAMwE4Mz8AAAAAAAAAALRN5C/ddkI/AAAAAAAAAAAAAAAAAAAAAM8SdvNbCIg/lur01K8aiD+FbY+DlA6XP7Q4VPnXD68/3P4tD+mCpz/HRyyX06eEPwaCxBLBlnU/uEnG+KDgmD/1pje96U2jPwwGg8FgMJg/xH8Zye8klz9Ch9cSZDmNP4SUjfE6LqA/NRooZJVFoT9+oO5creKOP4Ub1i2tCJU/eVRwKKjBjD9NS/6VjV6IPzPVWPqSEo0/6vuF6WAEhT+mhTsoroiQP+0N9r1TDYs/d6iJu6d+lj/PHs4TKWiKPyQ9a8i17HQ/1R5I7YHUjj+2T6cdP3iOPycLN6gdFZE/lmAJlmAJpj/AE6VLW2WQP4bILMMkt5I/dNDLexfVez/wmlzQ1F6VPw==",
          "dtype": "f8"
         }
        },
        {
         "hovertemplate": "%{fullData.name}: %{y:.2%}<extra></extra>",
         "line": {
          "shape": "spline",
          "width": 0.5
         },
         "mode": "lines",
         "name": "😅",
         "stackgroup": "one",
         "type": "scatter",
         "x": [
          "2019-11",
          "2019-12",
          "2020-01",
          "2020-02",
          "2020-03",
          "2020-04",
          "2020-05",
          "2020-06",
          "2020-07",
          "2020-08",
          "2020-09",
          "2020-10",
          "2020-11",
          "2020-12",
          "2021-01",
          "2021-02",
          "2021-03",
          "2021-04",
          "2021-05",
          "2021-06",
          "2021-07",
          "2021-08",
          "2021-09",
          "2021-10",
          "2021-11",
          "2021-12",
          "2022-01",
          "2022-02",
          "2022-03",
          "2022-04",
          "2022-05",
          "2022-06",
          "2022-07",
          "2022-08",
          "2022-09",
          "2022-10",
          "2022-11",
          "2022-12",
          "2023-01",
          "2023-02",
          "2023-03",
          "2023-04",
          "2023-05",
          "2023-06",
          "2023-07",
          "2023-08",
          "2023-09",
          "2023-10",
          "2023-11",
          "2023-12",
          "2024-01",
          "2024-02",
          "2024-03",
          "2024-04",
          "2024-05",
          "2024-06",
          "2024-07",
          "2024-08",
          "2024-09",
          "2024-10",
          "2024-11",
          "2024-12",
          "2025-01",
          "2025-02",
          "2025-03",
          "2025-04",
          "2025-05",
          "2025-06"
         ],
         "y": {
          "bdata": "AAAAAAAAAAANJ3VfHluRPwAAAAAAAAAAAAAAAAAAAAAgmYxSgdFxPxgYGBgYGIg/H+W8IYIavT/nYdJGXFm/P6PLgXx9Hq0/pyxVuGgnqD8rZabhGomhP1oMQkyNUac/4wA9JOfkpD/UVIg2fP6oPy+E5vvxsK4/qpWhWhmqpT/am6Szpv+dPxJ7TglPHZ8/pBws4hYMoD+ExpRlXN6PP9PqEaLFWJc/0vR9T0TCkT/tD0iZVeOHP3rgq2FzG54/kK3Ui2uXkz/DOfuYgwWSP/smBAt2y5s/KdlE1yJziD/YrfpZukWMP5zNt+5aXX4/ORaMY8E4dj+4sUp/pJ6APyFh3XuUFIc/pBpAqgGkij+83kZ/KCSXP0F6f65VNow/fdydr+CImD8UZ/CZXrOVP/3wpeNVA5Q/XRrzul4WlD+ra8JivfuOP8OCOqV7cG0/bwutJIFEfT8hC1nIQhZyP9a3KGF9i6I/hiOwfmlgkz9gf7VgHpyIPyNrt2tE0Io/XOr9NpKldD9osTZNuIuQP2Kgyji4OnI/eVRwKKjBbD9hK6zvLUtrPy1oaxef12k/6vuF6WAElT/eXE/gkgt2P9H8b4vlEpc/kXcBFkpXnT8paBqMNSOQPz/ADJeudps/bRrQpgFtmj/o3KRqWAeZP2h/0Vvr4KQ/FDuxEzuxkz9jOXrI+lGcP4bILMMkt5I/V9zYnNHfhD+VztAVcX6MPw==",
          "dtype": "f8"
         }
        },
        {
         "hovertemplate": "%{fullData.name}: %{y:.2%}<extra></extra>",
         "line": {
          "shape": "spline",
          "width": 0.5
         },
         "mode": "lines",
         "name": "👍🏻",
         "stackgroup": "one",
         "type": "scatter",
         "x": [
          "2019-11",
          "2019-12",
          "2020-01",
          "2020-02",
          "2020-03",
          "2020-04",
          "2020-05",
          "2020-06",
          "2020-07",
          "2020-08",
          "2020-09",
          "2020-10",
          "2020-11",
          "2020-12",
          "2021-01",
          "2021-02",
          "2021-03",
          "2021-04",
          "2021-05",
          "2021-06",
          "2021-07",
          "2021-08",
          "2021-09",
          "2021-10",
          "2021-11",
          "2021-12",
          "2022-01",
          "2022-02",
          "2022-03",
          "2022-04",
          "2022-05",
          "2022-06",
          "2022-07",
          "2022-08",
          "2022-09",
          "2022-10",
          "2022-11",
          "2022-12",
          "2023-01",
          "2023-02",
          "2023-03",
          "2023-04",
          "2023-05",
          "2023-06",
          "2023-07",
          "2023-08",
          "2023-09",
          "2023-10",
          "2023-11",
          "2023-12",
          "2024-01",
          "2024-02",
          "2024-03",
          "2024-04",
          "2024-05",
          "2024-06",
          "2024-07",
          "2024-08",
          "2024-09",
          "2024-10",
          "2024-11",
          "2024-12",
          "2025-01",
          "2025-02",
          "2025-03",
          "2025-04",
          "2025-05",
          "2025-06"
         ],
         "y": {
          "bdata": "AAAAAAAAAAAAAAAAAAAAAAAAAAAAAAAAAAAAAAAAAAAgmYxSgdFBPwAAAAAAAAAAAAAAAAAAAAAzQeOxUj+gP/hsCwHwZLY/2Dk8b0z9sj8rQCZTQZqvP9Suu8Hxnq0/nrcPH8bosT8FNRWiDZ+vP4Ik4aBIJas/uJR+S+m3pD+9hRLHH1OjP6LBOkN0WaQ/VSM+o/Vfnz/0GG84bLSRPzN2PbyfBpI/9M5zZzaqgT8B7v1F3zRoPwZRJ0xsC40/YoxzC6bnfj/2435/aNKJP1P6TszpHXs/IVX8vVtzfD/+RwV1E8pxP/9YKQAvbWw/BRJIIIEEYj+4sUp/pJ5wP9fW0U8bxm4/pBpAqgGkSj8AAAAAAAAAAKtsOGLaE1k/0Hk8qjaMSz8AAAAAAAAAAAAAAAAAAAAAjiEeqNWQaT8AAAAAAAAAAPIC2EnqZj8/JQkk6gBqNz8AAAAAAAAAAIA3EwF4M0E/AAAAAAAAAAAAAAAAAAAAABVKaSddlj0/AAAAAAAAAAAAAAAAAAAAAAAAAAAAAAAAAAAAAAAAAAAAAAAAAAAAAAAAAAAAAAAA0Bh3CI+uUj8AAAAAAAAAAAAAAAAAAAAAAAAAAAAAAAAAAAAAAAAAAAAAAAAAAAAAnhHgGQGeUT8AAAAAAAAAAAAAAAAAAAAAAAAAAAAAAAAAAAAAAAAAAAAAAAAAAAAAozXdpw+OUj8AAAAAAAAAAA==",
          "dtype": "f8"
         }
        },
        {
         "hovertemplate": "%{fullData.name}: %{y:.2%}<extra></extra>",
         "line": {
          "shape": "spline",
          "width": 0.5
         },
         "mode": "lines",
         "name": "🙂",
         "stackgroup": "one",
         "type": "scatter",
         "x": [
          "2019-11",
          "2019-12",
          "2020-01",
          "2020-02",
          "2020-03",
          "2020-04",
          "2020-05",
          "2020-06",
          "2020-07",
          "2020-08",
          "2020-09",
          "2020-10",
          "2020-11",
          "2020-12",
          "2021-01",
          "2021-02",
          "2021-03",
          "2021-04",
          "2021-05",
          "2021-06",
          "2021-07",
          "2021-08",
          "2021-09",
          "2021-10",
          "2021-11",
          "2021-12",
          "2022-01",
          "2022-02",
          "2022-03",
          "2022-04",
          "2022-05",
          "2022-06",
          "2022-07",
          "2022-08",
          "2022-09",
          "2022-10",
          "2022-11",
          "2022-12",
          "2023-01",
          "2023-02",
          "2023-03",
          "2023-04",
          "2023-05",
          "2023-06",
          "2023-07",
          "2023-08",
          "2023-09",
          "2023-10",
          "2023-11",
          "2023-12",
          "2024-01",
          "2024-02",
          "2024-03",
          "2024-04",
          "2024-05",
          "2024-06",
          "2024-07",
          "2024-08",
          "2024-09",
          "2024-10",
          "2024-11",
          "2024-12",
          "2025-01",
          "2025-02",
          "2025-03",
          "2025-04",
          "2025-05",
          "2025-06"
         ],
         "y": {
          "bdata": "AAAAAAAAAAAAAAAAAAAAAEG4G/sekZM/MzdpjOe1hz/Fas8y3SWQPxgYGBgYGHg/4Dt5ivE1iT+M5Xp6hJSTP3qwITw3Epk/uAUURnWanD9Fch5EXTi3P8DDAS6d770/Avua1dwRwT+t3iUPBpzBP9tuK7DkYLc/Xp7j5Tlerj+8uPAhmY6IP+iPPISYcn0/620TLMXIbD/0GG84bLRBP8wzUsJPiV0/BoCDiQmNZj8OhXcta2JEPzz3SFhxAFE//dHkdS0TVj/2435/aNJJPwAAAAAAAAAAAAAAAAAAAACQ5LyFqFREP4uG70V/rDQ/OBOAMwE4Iz8664MtkiwoP0YS2z98njg/AAAAAAAAAAC83kZ/KCQ3PwAAAAAAAAAA0Hk8qjaMSz8UZ/CZXrNFP/3rhy8drzo/WSaQm883XT8AAAAAAAAAAAAAAAAAAAAAAAAAAAAAAAC96U1vetNbP4A3EwF4M1E/AAAAAAAAAAAAAAAAAAAAAAAAAAAAAAAAhVvCflFpOT8AAAAAAAAAABbZW6inbzY/eVRwKKjBTD8lVukRWTFfPwAAAAAAAAAABN+UyjJahz/k46Xm26JRP0g6jXb0dUk/AAAAAAAAAAAAAAAAAAAAACQ9a8i17FQ/nhHgGQGeUT8AAAAAAAAAAAyi05xtXk4/F2iBFmiBZj9GS6r5PtlXP+JSfLqXY1U/AAAAAAAAAAAAAAAAAAAAAA==",
          "dtype": "f8"
         }
        }
       ],
       "layout": {
        "height": 600,
        "hovermode": "x unified",
        "template": {
         "data": {
          "bar": [
           {
            "error_x": {
             "color": "#2a3f5f"
            },
            "error_y": {
             "color": "#2a3f5f"
            },
            "marker": {
             "line": {
              "color": "white",
              "width": 0.5
             },
             "pattern": {
              "fillmode": "overlay",
              "size": 10,
              "solidity": 0.2
             }
            },
            "type": "bar"
           }
          ],
          "barpolar": [
           {
            "marker": {
             "line": {
              "color": "white",
              "width": 0.5
             },
             "pattern": {
              "fillmode": "overlay",
              "size": 10,
              "solidity": 0.2
             }
            },
            "type": "barpolar"
           }
          ],
          "carpet": [
           {
            "aaxis": {
             "endlinecolor": "#2a3f5f",
             "gridcolor": "#C8D4E3",
             "linecolor": "#C8D4E3",
             "minorgridcolor": "#C8D4E3",
             "startlinecolor": "#2a3f5f"
            },
            "baxis": {
             "endlinecolor": "#2a3f5f",
             "gridcolor": "#C8D4E3",
             "linecolor": "#C8D4E3",
             "minorgridcolor": "#C8D4E3",
             "startlinecolor": "#2a3f5f"
            },
            "type": "carpet"
           }
          ],
          "choropleth": [
           {
            "colorbar": {
             "outlinewidth": 0,
             "ticks": ""
            },
            "type": "choropleth"
           }
          ],
          "contour": [
           {
            "colorbar": {
             "outlinewidth": 0,
             "ticks": ""
            },
            "colorscale": [
             [
              0,
              "#0d0887"
             ],
             [
              0.1111111111111111,
              "#46039f"
             ],
             [
              0.2222222222222222,
              "#7201a8"
             ],
             [
              0.3333333333333333,
              "#9c179e"
             ],
             [
              0.4444444444444444,
              "#bd3786"
             ],
             [
              0.5555555555555556,
              "#d8576b"
             ],
             [
              0.6666666666666666,
              "#ed7953"
             ],
             [
              0.7777777777777778,
              "#fb9f3a"
             ],
             [
              0.8888888888888888,
              "#fdca26"
             ],
             [
              1,
              "#f0f921"
             ]
            ],
            "type": "contour"
           }
          ],
          "contourcarpet": [
           {
            "colorbar": {
             "outlinewidth": 0,
             "ticks": ""
            },
            "type": "contourcarpet"
           }
          ],
          "heatmap": [
           {
            "colorbar": {
             "outlinewidth": 0,
             "ticks": ""
            },
            "colorscale": [
             [
              0,
              "#0d0887"
             ],
             [
              0.1111111111111111,
              "#46039f"
             ],
             [
              0.2222222222222222,
              "#7201a8"
             ],
             [
              0.3333333333333333,
              "#9c179e"
             ],
             [
              0.4444444444444444,
              "#bd3786"
             ],
             [
              0.5555555555555556,
              "#d8576b"
             ],
             [
              0.6666666666666666,
              "#ed7953"
             ],
             [
              0.7777777777777778,
              "#fb9f3a"
             ],
             [
              0.8888888888888888,
              "#fdca26"
             ],
             [
              1,
              "#f0f921"
             ]
            ],
            "type": "heatmap"
           }
          ],
          "histogram": [
           {
            "marker": {
             "pattern": {
              "fillmode": "overlay",
              "size": 10,
              "solidity": 0.2
             }
            },
            "type": "histogram"
           }
          ],
          "histogram2d": [
           {
            "colorbar": {
             "outlinewidth": 0,
             "ticks": ""
            },
            "colorscale": [
             [
              0,
              "#0d0887"
             ],
             [
              0.1111111111111111,
              "#46039f"
             ],
             [
              0.2222222222222222,
              "#7201a8"
             ],
             [
              0.3333333333333333,
              "#9c179e"
             ],
             [
              0.4444444444444444,
              "#bd3786"
             ],
             [
              0.5555555555555556,
              "#d8576b"
             ],
             [
              0.6666666666666666,
              "#ed7953"
             ],
             [
              0.7777777777777778,
              "#fb9f3a"
             ],
             [
              0.8888888888888888,
              "#fdca26"
             ],
             [
              1,
              "#f0f921"
             ]
            ],
            "type": "histogram2d"
           }
          ],
          "histogram2dcontour": [
           {
            "colorbar": {
             "outlinewidth": 0,
             "ticks": ""
            },
            "colorscale": [
             [
              0,
              "#0d0887"
             ],
             [
              0.1111111111111111,
              "#46039f"
             ],
             [
              0.2222222222222222,
              "#7201a8"
             ],
             [
              0.3333333333333333,
              "#9c179e"
             ],
             [
              0.4444444444444444,
              "#bd3786"
             ],
             [
              0.5555555555555556,
              "#d8576b"
             ],
             [
              0.6666666666666666,
              "#ed7953"
             ],
             [
              0.7777777777777778,
              "#fb9f3a"
             ],
             [
              0.8888888888888888,
              "#fdca26"
             ],
             [
              1,
              "#f0f921"
             ]
            ],
            "type": "histogram2dcontour"
           }
          ],
          "mesh3d": [
           {
            "colorbar": {
             "outlinewidth": 0,
             "ticks": ""
            },
            "type": "mesh3d"
           }
          ],
          "parcoords": [
           {
            "line": {
             "colorbar": {
              "outlinewidth": 0,
              "ticks": ""
             }
            },
            "type": "parcoords"
           }
          ],
          "pie": [
           {
            "automargin": true,
            "type": "pie"
           }
          ],
          "scatter": [
           {
            "fillpattern": {
             "fillmode": "overlay",
             "size": 10,
             "solidity": 0.2
            },
            "type": "scatter"
           }
          ],
          "scatter3d": [
           {
            "line": {
             "colorbar": {
              "outlinewidth": 0,
              "ticks": ""
             }
            },
            "marker": {
             "colorbar": {
              "outlinewidth": 0,
              "ticks": ""
             }
            },
            "type": "scatter3d"
           }
          ],
          "scattercarpet": [
           {
            "marker": {
             "colorbar": {
              "outlinewidth": 0,
              "ticks": ""
             }
            },
            "type": "scattercarpet"
           }
          ],
          "scattergeo": [
           {
            "marker": {
             "colorbar": {
              "outlinewidth": 0,
              "ticks": ""
             }
            },
            "type": "scattergeo"
           }
          ],
          "scattergl": [
           {
            "marker": {
             "colorbar": {
              "outlinewidth": 0,
              "ticks": ""
             }
            },
            "type": "scattergl"
           }
          ],
          "scattermap": [
           {
            "marker": {
             "colorbar": {
              "outlinewidth": 0,
              "ticks": ""
             }
            },
            "type": "scattermap"
           }
          ],
          "scattermapbox": [
           {
            "marker": {
             "colorbar": {
              "outlinewidth": 0,
              "ticks": ""
             }
            },
            "type": "scattermapbox"
           }
          ],
          "scatterpolar": [
           {
            "marker": {
             "colorbar": {
              "outlinewidth": 0,
              "ticks": ""
             }
            },
            "type": "scatterpolar"
           }
          ],
          "scatterpolargl": [
           {
            "marker": {
             "colorbar": {
              "outlinewidth": 0,
              "ticks": ""
             }
            },
            "type": "scatterpolargl"
           }
          ],
          "scatterternary": [
           {
            "marker": {
             "colorbar": {
              "outlinewidth": 0,
              "ticks": ""
             }
            },
            "type": "scatterternary"
           }
          ],
          "surface": [
           {
            "colorbar": {
             "outlinewidth": 0,
             "ticks": ""
            },
            "colorscale": [
             [
              0,
              "#0d0887"
             ],
             [
              0.1111111111111111,
              "#46039f"
             ],
             [
              0.2222222222222222,
              "#7201a8"
             ],
             [
              0.3333333333333333,
              "#9c179e"
             ],
             [
              0.4444444444444444,
              "#bd3786"
             ],
             [
              0.5555555555555556,
              "#d8576b"
             ],
             [
              0.6666666666666666,
              "#ed7953"
             ],
             [
              0.7777777777777778,
              "#fb9f3a"
             ],
             [
              0.8888888888888888,
              "#fdca26"
             ],
             [
              1,
              "#f0f921"
             ]
            ],
            "type": "surface"
           }
          ],
          "table": [
           {
            "cells": {
             "fill": {
              "color": "#EBF0F8"
             },
             "line": {
              "color": "white"
             }
            },
            "header": {
             "fill": {
              "color": "#C8D4E3"
             },
             "line": {
              "color": "white"
             }
            },
            "type": "table"
           }
          ]
         },
         "layout": {
          "annotationdefaults": {
           "arrowcolor": "#2a3f5f",
           "arrowhead": 0,
           "arrowwidth": 1
          },
          "autotypenumbers": "strict",
          "coloraxis": {
           "colorbar": {
            "outlinewidth": 0,
            "ticks": ""
           }
          },
          "colorscale": {
           "diverging": [
            [
             0,
             "#8e0152"
            ],
            [
             0.1,
             "#c51b7d"
            ],
            [
             0.2,
             "#de77ae"
            ],
            [
             0.3,
             "#f1b6da"
            ],
            [
             0.4,
             "#fde0ef"
            ],
            [
             0.5,
             "#f7f7f7"
            ],
            [
             0.6,
             "#e6f5d0"
            ],
            [
             0.7,
             "#b8e186"
            ],
            [
             0.8,
             "#7fbc41"
            ],
            [
             0.9,
             "#4d9221"
            ],
            [
             1,
             "#276419"
            ]
           ],
           "sequential": [
            [
             0,
             "#0d0887"
            ],
            [
             0.1111111111111111,
             "#46039f"
            ],
            [
             0.2222222222222222,
             "#7201a8"
            ],
            [
             0.3333333333333333,
             "#9c179e"
            ],
            [
             0.4444444444444444,
             "#bd3786"
            ],
            [
             0.5555555555555556,
             "#d8576b"
            ],
            [
             0.6666666666666666,
             "#ed7953"
            ],
            [
             0.7777777777777778,
             "#fb9f3a"
            ],
            [
             0.8888888888888888,
             "#fdca26"
            ],
            [
             1,
             "#f0f921"
            ]
           ],
           "sequentialminus": [
            [
             0,
             "#0d0887"
            ],
            [
             0.1111111111111111,
             "#46039f"
            ],
            [
             0.2222222222222222,
             "#7201a8"
            ],
            [
             0.3333333333333333,
             "#9c179e"
            ],
            [
             0.4444444444444444,
             "#bd3786"
            ],
            [
             0.5555555555555556,
             "#d8576b"
            ],
            [
             0.6666666666666666,
             "#ed7953"
            ],
            [
             0.7777777777777778,
             "#fb9f3a"
            ],
            [
             0.8888888888888888,
             "#fdca26"
            ],
            [
             1,
             "#f0f921"
            ]
           ]
          },
          "colorway": [
           "#636efa",
           "#EF553B",
           "#00cc96",
           "#ab63fa",
           "#FFA15A",
           "#19d3f3",
           "#FF6692",
           "#B6E880",
           "#FF97FF",
           "#FECB52"
          ],
          "font": {
           "color": "#2a3f5f"
          },
          "geo": {
           "bgcolor": "white",
           "lakecolor": "white",
           "landcolor": "white",
           "showlakes": true,
           "showland": true,
           "subunitcolor": "#C8D4E3"
          },
          "hoverlabel": {
           "align": "left"
          },
          "hovermode": "closest",
          "mapbox": {
           "style": "light"
          },
          "paper_bgcolor": "white",
          "plot_bgcolor": "white",
          "polar": {
           "angularaxis": {
            "gridcolor": "#EBF0F8",
            "linecolor": "#EBF0F8",
            "ticks": ""
           },
           "bgcolor": "white",
           "radialaxis": {
            "gridcolor": "#EBF0F8",
            "linecolor": "#EBF0F8",
            "ticks": ""
           }
          },
          "scene": {
           "xaxis": {
            "backgroundcolor": "white",
            "gridcolor": "#DFE8F3",
            "gridwidth": 2,
            "linecolor": "#EBF0F8",
            "showbackground": true,
            "ticks": "",
            "zerolinecolor": "#EBF0F8"
           },
           "yaxis": {
            "backgroundcolor": "white",
            "gridcolor": "#DFE8F3",
            "gridwidth": 2,
            "linecolor": "#EBF0F8",
            "showbackground": true,
            "ticks": "",
            "zerolinecolor": "#EBF0F8"
           },
           "zaxis": {
            "backgroundcolor": "white",
            "gridcolor": "#DFE8F3",
            "gridwidth": 2,
            "linecolor": "#EBF0F8",
            "showbackground": true,
            "ticks": "",
            "zerolinecolor": "#EBF0F8"
           }
          },
          "shapedefaults": {
           "line": {
            "color": "#2a3f5f"
           }
          },
          "ternary": {
           "aaxis": {
            "gridcolor": "#DFE8F3",
            "linecolor": "#A2B1C6",
            "ticks": ""
           },
           "baxis": {
            "gridcolor": "#DFE8F3",
            "linecolor": "#A2B1C6",
            "ticks": ""
           },
           "bgcolor": "white",
           "caxis": {
            "gridcolor": "#DFE8F3",
            "linecolor": "#A2B1C6",
            "ticks": ""
           }
          },
          "title": {
           "x": 0.05
          },
          "xaxis": {
           "automargin": true,
           "gridcolor": "#EBF0F8",
           "linecolor": "#EBF0F8",
           "ticks": "",
           "title": {
            "standoff": 15
           },
           "zerolinecolor": "#EBF0F8",
           "zerolinewidth": 2
          },
          "yaxis": {
           "automargin": true,
           "gridcolor": "#EBF0F8",
           "linecolor": "#EBF0F8",
           "ticks": "",
           "title": {
            "standoff": 15
           },
           "zerolinecolor": "#EBF0F8",
           "zerolinewidth": 2
          }
         }
        },
        "title": {
         "text": "Monthly Share of Popular Emojis"
        },
        "width": 1000,
        "xaxis": {
         "tickangle": 45,
         "title": {
          "text": "Month"
         }
        },
        "yaxis": {
         "tickformat": ".0%",
         "title": {
          "text": "Share"
         }
        }
       }
      }
     },
     "metadata": {},
     "output_type": "display_data"
    }
   ],
   "source": [
    "emoji_df['month'] = emoji_df['date'].dt.to_period('M')\n",
    "\n",
    "top_emojis = emoji_df['emoji'].value_counts().head(10).index\n",
    "\n",
    "popular_emoji_df = emoji_df[emoji_df['emoji'].isin(top_emojis)]\n",
    "\n",
    "usage = popular_emoji_df.groupby(\n",
    "    ['month', 'emoji']).size().unstack(fill_value=0)\n",
    "\n",
    "usage.index = usage.index.astype(str)\n",
    "\n",
    "fig = go.Figure()\n",
    "\n",
    "emoji_totals = usage.sum().sort_values(ascending=False)\n",
    "usage_share = usage.div(usage.sum(axis=1), axis=0)\n",
    "\n",
    "fig = go.Figure()\n",
    "\n",
    "for emoji_str in emoji_totals.index:\n",
    "    fig.add_trace(go.Scatter(\n",
    "        x=usage_share.index,\n",
    "        y=usage_share[emoji_str],\n",
    "        mode='lines',\n",
    "        name=emoji_str,\n",
    "        stackgroup='one',\n",
    "        line=dict(width=0.5, shape='spline'),\n",
    "        hovertemplate='%{fullData.name}: %{y:.2%}<extra></extra>'\n",
    "    ))\n",
    "\n",
    "fig.update_layout(\n",
    "    title='Monthly Share of Popular Emojis',\n",
    "    xaxis_title='Month',\n",
    "    yaxis_title='Share',\n",
    "    yaxis=dict(tickformat='.0%'),\n",
    "    hovermode='x unified',\n",
    "    template='plotly_white',\n",
    "    width=1000,\n",
    "    height=600,\n",
    ")\n",
    "\n",
    "fig.update_xaxes(tickangle=45)\n",
    "fig.show()\n",
    "fig.write_image(os.path.join(PLOT_DIR, \"emoji_share.png\"), width=1000)"
   ]
  },
  {
   "cell_type": "markdown",
   "metadata": {},
   "source": [
    "## chats"
   ]
  },
  {
   "cell_type": "code",
   "execution_count": 23,
   "metadata": {},
   "outputs": [
    {
     "data": {
      "application/vnd.plotly.v1+json": {
       "config": {
        "plotlyServerURL": "https://plot.ly"
       },
       "data": [
        {
         "groupnorm": "percent",
         "hovertemplate": "%{fullData.name}: %{y:.2%}<extra></extra>",
         "line": {
          "shape": "spline",
          "width": 0.5
         },
         "mode": "lines",
         "name": "Maryam",
         "stackgroup": "one",
         "type": "scatter",
         "x": [
          "2019-11",
          "2019-12",
          "2020-01",
          "2020-02",
          "2020-03",
          "2020-04",
          "2020-05",
          "2020-06",
          "2020-07",
          "2020-08",
          "2020-09",
          "2020-10",
          "2020-11",
          "2020-12",
          "2021-01",
          "2021-02",
          "2021-03",
          "2021-04",
          "2021-05",
          "2021-06",
          "2021-07",
          "2021-08",
          "2021-09",
          "2021-10",
          "2021-11",
          "2021-12",
          "2022-01",
          "2022-02",
          "2022-03",
          "2022-04",
          "2022-05",
          "2022-06",
          "2022-07",
          "2022-08",
          "2022-09",
          "2022-10",
          "2022-11",
          "2022-12",
          "2023-01",
          "2023-02",
          "2023-03",
          "2023-04",
          "2023-05",
          "2023-06",
          "2023-07",
          "2023-08",
          "2023-09",
          "2023-10",
          "2023-11",
          "2023-12",
          "2024-01",
          "2024-02",
          "2024-03",
          "2024-04",
          "2024-05",
          "2024-06",
          "2024-07",
          "2024-08",
          "2024-09",
          "2024-10",
          "2024-11",
          "2024-12",
          "2025-01",
          "2025-02",
          "2025-03",
          "2025-04",
          "2025-05",
          "2025-06"
         ],
         "y": {
          "bdata": "AAAAAAAAAAAAAAAAAAAAAAAAAAAAAAAAAAAAAAAAAAAAAAAAAAAAAAAAAAAAAAAAAAAAAAAAAAAAAAAAAAAAAAAAAAAAAAAAAAAAAAAAAAAAAAAAAAAAAK3Rv8FZnNg/pDPo0YWS5D8IB3UMmEvoP/ZL8Abx3Oc/HVvJv5Ce7D/YZHgscffsP9aeAmaVpes/Hb/2Xhus6z/NzMzMzCnuP5K1tyQFmu0/wxNwLW+w7j9/p5WCGsXsP+2zhWGFy+g/RiZZ9OMJ6j8IH6/tH5PoP6sM5xeNROw/GcH5W2nt7T9tQbLKIl7sP+D5Grzc2+s/eM3lkp/c7T9nXRG2fL7sP6ECMTUa4Os/b+lDdzpW7T8Qvue2LqfsP/mKDidg6Ok/gYKHlsNK7j9hb/AOubLrP1wpiepA5Oo/GDKmaW7E5z/qwhljMk/pPxHzyvch2ew/E+kkAS3q6j8bxAAuomnoPywOBtt0Z+c/Qt0ZYiAJ7T+DlfLPaCftP784aMD/iuw/qEWSqlT76T82A84RO63pP+w7NtsqJew/AtEHSQt07T9u5MvsZJrtP2itLO1pw+o/Ix2XeX1v6z9S5FZkFXHpPyTCW5YH/es/6wihgS0M7D/c1zJZ5ADtP6KeCmDJxu0/My1r0SsC7T+mzCZaM9ntPy2lJnP9FO0/2wcNdsh07D/5vUheid/rP0RdwEx+RO0/RwR3bM+y6z/RM3M77oXpPw==",
          "dtype": "f8"
         }
        },
        {
         "groupnorm": "percent",
         "hovertemplate": "%{fullData.name}: %{y:.2%}<extra></extra>",
         "line": {
          "shape": "spline",
          "width": 0.5
         },
         "mode": "lines",
         "name": "700771836",
         "stackgroup": "one",
         "type": "scatter",
         "x": [
          "2019-11",
          "2019-12",
          "2020-01",
          "2020-02",
          "2020-03",
          "2020-04",
          "2020-05",
          "2020-06",
          "2020-07",
          "2020-08",
          "2020-09",
          "2020-10",
          "2020-11",
          "2020-12",
          "2021-01",
          "2021-02",
          "2021-03",
          "2021-04",
          "2021-05",
          "2021-06",
          "2021-07",
          "2021-08",
          "2021-09",
          "2021-10",
          "2021-11",
          "2021-12",
          "2022-01",
          "2022-02",
          "2022-03",
          "2022-04",
          "2022-05",
          "2022-06",
          "2022-07",
          "2022-08",
          "2022-09",
          "2022-10",
          "2022-11",
          "2022-12",
          "2023-01",
          "2023-02",
          "2023-03",
          "2023-04",
          "2023-05",
          "2023-06",
          "2023-07",
          "2023-08",
          "2023-09",
          "2023-10",
          "2023-11",
          "2023-12",
          "2024-01",
          "2024-02",
          "2024-03",
          "2024-04",
          "2024-05",
          "2024-06",
          "2024-07",
          "2024-08",
          "2024-09",
          "2024-10",
          "2024-11",
          "2024-12",
          "2025-01",
          "2025-02",
          "2025-03",
          "2025-04",
          "2025-05",
          "2025-06"
         ],
         "y": {
          "bdata": "v15YdwUK7T/y5LoQuh/vP7iNcJdjU+4/DwL9jy5f6z9nbqqoGdrtP4HmDJTxYuo/Ne+JhiQs6j8QzulnvFPsP72gptu4f+0/kiRJkiRJ6j/jpLjFSXHrP76AI/4RUuE/UqOMVfR1vj/P+X8QnnWzP3fXmjjJTac/AAAAAAAAAAAAAAAAAAAAAAAAAAAAAAAAAAAAAAAAAAAAAAAAAAAAAAAAAAAAAAAAAAAAAAAAAAAAAAAAAAAAAAAAAAAAAAAAAAAAAAAAAAAAAAAAAAAAAAAAAAAAAAAAAAAAAAAAAAAAAAAAAAAAAAAAAAAAAAAAAAAAAAAAAAAAAAAAAAAAAAAAAAAAAAAAAAAAAAAAAAAAAAAAAAAAAAAAAAAAAAAAAAAAAAAAAAAAAAAAAAAAAAAAAAAAAAAAAAAAAAAAAAAAAAAAAAAAAAAAAAAAAAAAAAAAAAAAAAAAAAAAAAAAAAAAAAAAAAAAAAAAAAAAAAAAAAAAAAAAAAAAAAAAAAAAAAAAAAAAAAAAAAAAAAAAAAAAAAAAAAAAAAAAAAAAAAAAAAAAAAAAAAAAAAAAAAAAAAAAAAAAAAAAAAAAAAAAAAAAAAAAAAAAAAAAAAAAAAAAAAAAAAAAAAAAAAAAAAAAAAAAAAAAAAAAAAAAAAAAAAAAAAAAAAAAAAAAAAAAAAAAAAAAAAAAAAAAAAAAAAAAAAAAAAAAAAAAAAAAAAAAAA==",
          "dtype": "f8"
         }
        },
        {
         "groupnorm": "percent",
         "hovertemplate": "%{fullData.name}: %{y:.2%}<extra></extra>",
         "line": {
          "shape": "spline",
          "width": 0.5
         },
         "mode": "lines",
         "name": "Y.Mousavi",
         "stackgroup": "one",
         "type": "scatter",
         "x": [
          "2019-11",
          "2019-12",
          "2020-01",
          "2020-02",
          "2020-03",
          "2020-04",
          "2020-05",
          "2020-06",
          "2020-07",
          "2020-08",
          "2020-09",
          "2020-10",
          "2020-11",
          "2020-12",
          "2021-01",
          "2021-02",
          "2021-03",
          "2021-04",
          "2021-05",
          "2021-06",
          "2021-07",
          "2021-08",
          "2021-09",
          "2021-10",
          "2021-11",
          "2021-12",
          "2022-01",
          "2022-02",
          "2022-03",
          "2022-04",
          "2022-05",
          "2022-06",
          "2022-07",
          "2022-08",
          "2022-09",
          "2022-10",
          "2022-11",
          "2022-12",
          "2023-01",
          "2023-02",
          "2023-03",
          "2023-04",
          "2023-05",
          "2023-06",
          "2023-07",
          "2023-08",
          "2023-09",
          "2023-10",
          "2023-11",
          "2023-12",
          "2024-01",
          "2024-02",
          "2024-03",
          "2024-04",
          "2024-05",
          "2024-06",
          "2024-07",
          "2024-08",
          "2024-09",
          "2024-10",
          "2024-11",
          "2024-12",
          "2025-01",
          "2025-02",
          "2025-03",
          "2025-04",
          "2025-05",
          "2025-06"
         ],
         "y": {
          "bdata": "8bh95ns4sj/ZMxCVjuyZPyp+uGrS8pw/bB14C9gisz/w+MMBjz+cP1gvakGDHbU/y7RUHuHCuz+8qPXe1OyzP19XEqXNOrE/moDAdTcuwT/lv2rJf9WyP6DyK1e10ZQ/zwqFvAj1zD+BzQCp5ovDP1xUjcGGO8U/+X8F8C45tT8A8MoJq4WiP+ATYdUE86g/B3HV8h1Vqj8zMzMzM5OSP1A3ZInU66E/pKHYMnfSiT8MQb/41TmNP3MQ8c+EwqU/HtUSzooVdj+/8rUaHNSWP1AV9DBFKnA/hTNs5VIqlz+fV7kGQm2oP1Ys0zUlq5M/Rt9yerZqgj/nSeoCL+mHP8+xkQQSKpA/WairTJMAnD+TDMuOOqChP/0nRffJ66Y/+u7MZjSdlz+Fprc0bgdpP2sUceikfXA/jgHWOFdDhj+JJeRVeRaoP3NQhCCE9C8/waEv/GnzgD/9aHgx3vZ+Py6ItZVSlXM/ByPeYCOUlD+5+2yR3M+EP0ueO7A9f2o/KHBmIkZAdz/iQjsV/u9TP2gvob2E9nI/AAAAAAAAAABLeUx4r1ZwP+sl5qjSwW4/doujGQpCkj8A3DFh+d+RPwAAAAAAAAAAPFjs7xQ4hj8AAAAAAAAAAAAAAAAAAAAAAAAAAAAAAAAAAAAAAAAAAAAAAAAAAAAAAAAAAAAAAAAAAAAAAAAAAFIQCOdiUnA/jm4xmHNAcj8pNX9d51qJPw==",
          "dtype": "f8"
         }
        },
        {
         "groupnorm": "percent",
         "hovertemplate": "%{fullData.name}: %{y:.2%}<extra></extra>",
         "line": {
          "shape": "spline",
          "width": 0.5
         },
         "mode": "lines",
         "name": "Amir Hossein Bodaghi",
         "stackgroup": "one",
         "type": "scatter",
         "x": [
          "2019-11",
          "2019-12",
          "2020-01",
          "2020-02",
          "2020-03",
          "2020-04",
          "2020-05",
          "2020-06",
          "2020-07",
          "2020-08",
          "2020-09",
          "2020-10",
          "2020-11",
          "2020-12",
          "2021-01",
          "2021-02",
          "2021-03",
          "2021-04",
          "2021-05",
          "2021-06",
          "2021-07",
          "2021-08",
          "2021-09",
          "2021-10",
          "2021-11",
          "2021-12",
          "2022-01",
          "2022-02",
          "2022-03",
          "2022-04",
          "2022-05",
          "2022-06",
          "2022-07",
          "2022-08",
          "2022-09",
          "2022-10",
          "2022-11",
          "2022-12",
          "2023-01",
          "2023-02",
          "2023-03",
          "2023-04",
          "2023-05",
          "2023-06",
          "2023-07",
          "2023-08",
          "2023-09",
          "2023-10",
          "2023-11",
          "2023-12",
          "2024-01",
          "2024-02",
          "2024-03",
          "2024-04",
          "2024-05",
          "2024-06",
          "2024-07",
          "2024-08",
          "2024-09",
          "2024-10",
          "2024-11",
          "2024-12",
          "2025-01",
          "2025-02",
          "2025-03",
          "2025-04",
          "2025-05",
          "2025-06"
         ],
         "y": {
          "bdata": "AAAAAAAAAAAAAAAAAAAAAAAAAAAAAAAAAAAAAAAAAAAAAAAAAAAAAAAAAAAAAAAAAAAAAAAAAAAAAAAAAAAAAAAAAAAAAAAAAAAAAAAAAAAAAAAAAAAAAAAAAAAAAAAAAAAAAAAAAAAAAAAAAAAAAAAAAAAAAAAAAAAAAAAAAAAAAAAAAAAAAAAAAAAAAAAAAAAAAAAAAAAAAAAAAAAAAP/Fw6QX1Ig/D7jKtSS+kz+GrWpbilWRP/+m/OdJiJY/PWcEVfOolj8GGnsosDycP4Zz9YJhd4A/JU889K8qgz8gUk9Wu+WUPyI1h6a9Faw/wzPVcSMFlT+HKgtfJW2JP4QAPDDbUZc/VHd2TFBglj+u2CGIQ5WkP2GPWzr96ac/Ch1XBRAwgD8oWtorqlOlP+RssNfESL0/UL1LcZONuz8N7WZyMty0P9MC7eZQmZI/vwkqIPG2qz+SOy+bqmOwP+3bBwGo+LI/6EjL15SAnz/10IMvymykP7CywjbApK0/BdFhVw4PtD9h9N54JEq+PxaNBHzzarI/lkmXJ1iyoD96wjhv70eoP1ihnXHV4rM/XUuKdFzmtT9kD6QJxTK/P0R1UGQFYas/HMr4Pg1Isz/Hv7eOoDSLPxUqJrFjAqw/hzIAD3R0sj9WXgiqofelP8Lt5BncTq4/jPy5c+I6uD/YsGHDhg27P1iReBWJV7E/IgXCGyxwtD+5P0v71QjIPw==",
          "dtype": "f8"
         }
        },
        {
         "groupnorm": "percent",
         "hovertemplate": "%{fullData.name}: %{y:.2%}<extra></extra>",
         "line": {
          "shape": "spline",
          "width": 0.5
         },
         "mode": "lines",
         "name": "Ahmadzadeh Amin (sch)",
         "stackgroup": "one",
         "type": "scatter",
         "x": [
          "2019-11",
          "2019-12",
          "2020-01",
          "2020-02",
          "2020-03",
          "2020-04",
          "2020-05",
          "2020-06",
          "2020-07",
          "2020-08",
          "2020-09",
          "2020-10",
          "2020-11",
          "2020-12",
          "2021-01",
          "2021-02",
          "2021-03",
          "2021-04",
          "2021-05",
          "2021-06",
          "2021-07",
          "2021-08",
          "2021-09",
          "2021-10",
          "2021-11",
          "2021-12",
          "2022-01",
          "2022-02",
          "2022-03",
          "2022-04",
          "2022-05",
          "2022-06",
          "2022-07",
          "2022-08",
          "2022-09",
          "2022-10",
          "2022-11",
          "2022-12",
          "2023-01",
          "2023-02",
          "2023-03",
          "2023-04",
          "2023-05",
          "2023-06",
          "2023-07",
          "2023-08",
          "2023-09",
          "2023-10",
          "2023-11",
          "2023-12",
          "2024-01",
          "2024-02",
          "2024-03",
          "2024-04",
          "2024-05",
          "2024-06",
          "2024-07",
          "2024-08",
          "2024-09",
          "2024-10",
          "2024-11",
          "2024-12",
          "2025-01",
          "2025-02",
          "2025-03",
          "2025-04",
          "2025-05",
          "2025-06"
         ],
         "y": {
          "bdata": "VET9emHdlT8ob5mceuFgPzvNCg5fSJE/jwEVbb7TsT8RERERERGhP6GcLh7wyrc/kNFbrfrbsj803in2UHmZP7ZjgYzwdHw/sL1IZysknj8FbqoJ3FSDPzafp6uE/Yc/tLpqSVDdTT9FT0yWXP9pP0bVGGy4E4I/PWsXQFROeD8m1PL/DNZhP/6Vc0pSOoU/IGnnJZSXqj/NzMzMzAyGPxCWiw3qxYE/s8eL7x4OYj8qZJsBbNOtP8GuG2Q6Sr4/vz8xo53jwD/hsMmeohzEP3ib+/Ng0rE/hIIemQ7rlD8G3NxYQlR4P8O2PoIBj3c/rQv6Rvf1gj9MKM9suQmkP98nEca/5Yo/kiu6gOqwcz+OLizqPJGBPzZDyZn6AqA/hpK3JnRcFT8g6oQivHCEP/NXmNUo4oA/pp4YTucSij8/LfFnzzZxP0/3WtYa+FU/GP60eQj4iz89zeEtFDWVP/sgABVfioo/AAAAAAAAAACfuKetUeNxP9WxL8CXMjU/oLRFPQJlKD8AAAAAAAAAAAAAAAAAAAAApBpAqgGkSj/Jg1pJZmpJPwAAAAAAAAAAAAAAAAAAAACPD5hv5YV0PwAAAAAAAAAAAAAAAAAAAABpNt3499ZxPwAAAAAAAAAAAAAAAAAAAAAAAAAAAAAAACsW51YNHCk/AAAAAAAAAADNMwGc0TxDP6cSwHVMp0I/jm4xmHNAcj8AAAAAAAAAAA==",
          "dtype": "f8"
         }
        },
        {
         "groupnorm": "percent",
         "hovertemplate": "%{fullData.name}: %{y:.2%}<extra></extra>",
         "line": {
          "shape": "spline",
          "width": 0.5
         },
         "mode": "lines",
         "name": "M Cheraghi",
         "stackgroup": "one",
         "type": "scatter",
         "x": [
          "2019-11",
          "2019-12",
          "2020-01",
          "2020-02",
          "2020-03",
          "2020-04",
          "2020-05",
          "2020-06",
          "2020-07",
          "2020-08",
          "2020-09",
          "2020-10",
          "2020-11",
          "2020-12",
          "2021-01",
          "2021-02",
          "2021-03",
          "2021-04",
          "2021-05",
          "2021-06",
          "2021-07",
          "2021-08",
          "2021-09",
          "2021-10",
          "2021-11",
          "2021-12",
          "2022-01",
          "2022-02",
          "2022-03",
          "2022-04",
          "2022-05",
          "2022-06",
          "2022-07",
          "2022-08",
          "2022-09",
          "2022-10",
          "2022-11",
          "2022-12",
          "2023-01",
          "2023-02",
          "2023-03",
          "2023-04",
          "2023-05",
          "2023-06",
          "2023-07",
          "2023-08",
          "2023-09",
          "2023-10",
          "2023-11",
          "2023-12",
          "2024-01",
          "2024-02",
          "2024-03",
          "2024-04",
          "2024-05",
          "2024-06",
          "2024-07",
          "2024-08",
          "2024-09",
          "2024-10",
          "2024-11",
          "2024-12",
          "2025-01",
          "2025-02",
          "2025-03",
          "2025-04",
          "2025-05",
          "2025-06"
         ],
         "y": {
          "bdata": "AAAAAAAAAAAAAAAAAAAAAAAAAAAAAAAAAAAAAAAAAAAAAAAAAAAAAAAAAAAAAAAAAAAAAAAAAAAAAAAAAAAAAAAAAAAAAAAAYvx8PbPqiD+Gl6YML02pP27d+ERlgqM/yqOmDIiAhj+8GiSPcMJIP4m97RmtHmw/cRZou/XBdD+FjlbnAR+AP4EWbF3ZVqA/1MbWiqWFfT/NzMzMzMx8Pz0fMIJ/GoA/S1yJw3T/cD88jZ7vradXP+dVXribdZU/jkQEKxcOgD+xUajxBFx3P/A43dGn620/0sikAkC0gj9Cg3H5CVtuP7Vdn+vKd4Y/ZCt/tG5Zkz/zx/WOMDKDP3UvgYlOlos/lsODDGHIdz+126CsEGOPP9Ka3GiFSaI/8tWBhZCxhD8quWaUjNCjPwoMAU4z7pE/YYawtVtSqT8g3xGvPWiwP5g2cxjHGIQ/d5Wh0y6Hqj8wc+rWQZq0P9zyoR3ebLE/5oizuarznT8sWoofl1mTP8CKR6Djy58/JxF4SPveqD/EYA54ah+jP4e/TTFq+Js/kBMHOXGQoz+8a6qIrjeVP/k+D0e49rE/MVF1Jg9jmz8BysoR9s+aP6ZMCgkoaKY/ZUaq7Lkfnj+TRQ4QUtyXP68pzDysDYI/+JhpWYtekT8WBvDp+Q+GP6BQLQEK1ZI/mYTvQ6ttjj/lY2FcUj6WPwsTNLjICoM/7I+eTJIZpz97bP9DqHBiPw==",
          "dtype": "f8"
         }
        },
        {
         "groupnorm": "percent",
         "hovertemplate": "%{fullData.name}: %{y:.2%}<extra></extra>",
         "line": {
          "shape": "spline",
          "width": 0.5
         },
         "mode": "lines",
         "name": "Fakhredin",
         "stackgroup": "one",
         "type": "scatter",
         "x": [
          "2019-11",
          "2019-12",
          "2020-01",
          "2020-02",
          "2020-03",
          "2020-04",
          "2020-05",
          "2020-06",
          "2020-07",
          "2020-08",
          "2020-09",
          "2020-10",
          "2020-11",
          "2020-12",
          "2021-01",
          "2021-02",
          "2021-03",
          "2021-04",
          "2021-05",
          "2021-06",
          "2021-07",
          "2021-08",
          "2021-09",
          "2021-10",
          "2021-11",
          "2021-12",
          "2022-01",
          "2022-02",
          "2022-03",
          "2022-04",
          "2022-05",
          "2022-06",
          "2022-07",
          "2022-08",
          "2022-09",
          "2022-10",
          "2022-11",
          "2022-12",
          "2023-01",
          "2023-02",
          "2023-03",
          "2023-04",
          "2023-05",
          "2023-06",
          "2023-07",
          "2023-08",
          "2023-09",
          "2023-10",
          "2023-11",
          "2023-12",
          "2024-01",
          "2024-02",
          "2024-03",
          "2024-04",
          "2024-05",
          "2024-06",
          "2024-07",
          "2024-08",
          "2024-09",
          "2024-10",
          "2024-11",
          "2024-12",
          "2025-01",
          "2025-02",
          "2025-03",
          "2025-04",
          "2025-05",
          "2025-06"
         ],
         "y": {
          "bdata": "AAAAAAAAAAAAAAAAAAAAAAAAAAAAAAAAAAAAAAAAAAAAAAAAAAAAAAAAAAAAAAAAAAAAAAAAAAAAAAAAAAAAAAAAAAAAAAAAAAAAAAAAAAAAAAAAAAAAAAAAAAAAAAAAAAAAAAAAAAAAAAAAAAAAAAAAAAAAAAAAAAAAAAAAAAAAAAAAAAAAAAAAAAAAAAAAAAAAAAAAAAAAAAAAAAAAAAAAAAAAAAAAAAAAAAAAAAAG3mipakh/PyfRuT4uLpA/O7LTWcYwkD+xy6n34FCCPyGlgpcQxIw/+8Dj8I5+Sz+DH+PJCJaTPyMmmqB/MY8/HsOTHPadfj9kx2aSVdmBP6r03B78PZY/D5OfAMngcD/Rlp6hIEViPzspIQuKKZg/5a0JHVcFgD8g6oQivHB0Py0angJDgIM/fEHEpJyIrT8WV3393ZqDPw7PZrXaGZE/tFts+0tXhD8Ou9P73GpxP/DT8fkki6g/AAAAAAAAAAAAAAAAAAAAAAAAAAAAAAAAAAAAAAAAAAAAAAAAAAAAAAAAAAAAAAAAAAAAAAAAAADJg1pJZmpJPwAAAAAAAAAA5iuVgJfecT8AAAAAAAAAALo30lmyzJw/zYlMH2bIeD8EhBT3tUyGPwAAAAAAAAAAAAAAAAAAAAAAAAAAAAAAAAAAAAAAAAAAAAAAAAAAAAAAAAAAAAAAAAAAAAAAAAAAEz6Xde9VOD8AAAAAAAAAAA==",
          "dtype": "f8"
         }
        },
        {
         "groupnorm": "percent",
         "hovertemplate": "%{fullData.name}: %{y:.2%}<extra></extra>",
         "line": {
          "shape": "spline",
          "width": 0.5
         },
         "mode": "lines",
         "name": "Meysam",
         "stackgroup": "one",
         "type": "scatter",
         "x": [
          "2019-11",
          "2019-12",
          "2020-01",
          "2020-02",
          "2020-03",
          "2020-04",
          "2020-05",
          "2020-06",
          "2020-07",
          "2020-08",
          "2020-09",
          "2020-10",
          "2020-11",
          "2020-12",
          "2021-01",
          "2021-02",
          "2021-03",
          "2021-04",
          "2021-05",
          "2021-06",
          "2021-07",
          "2021-08",
          "2021-09",
          "2021-10",
          "2021-11",
          "2021-12",
          "2022-01",
          "2022-02",
          "2022-03",
          "2022-04",
          "2022-05",
          "2022-06",
          "2022-07",
          "2022-08",
          "2022-09",
          "2022-10",
          "2022-11",
          "2022-12",
          "2023-01",
          "2023-02",
          "2023-03",
          "2023-04",
          "2023-05",
          "2023-06",
          "2023-07",
          "2023-08",
          "2023-09",
          "2023-10",
          "2023-11",
          "2023-12",
          "2024-01",
          "2024-02",
          "2024-03",
          "2024-04",
          "2024-05",
          "2024-06",
          "2024-07",
          "2024-08",
          "2024-09",
          "2024-10",
          "2024-11",
          "2024-12",
          "2025-01",
          "2025-02",
          "2025-03",
          "2025-04",
          "2025-05",
          "2025-06"
         ],
         "y": {
          "bdata": "AAAAAAAAAAAAAAAAAAAAAH/2q2RuYX0/OSGhFQ/qLz8LYDAbZ2x5PwAAAAAAAAAAAAAAAAAAAADSeYshnbeIPxbICE/HAXA/F2iBFmiBZj8F/DsK+HeEP6pBhaKHi3A/AAAAAAAAAAA38+HmwMtxP/ZL8Abx3I8/l8iKpEetWz/Olc/IzY8BP2rbOFyYBmM/buaOvsx7TD8zMzMzMzNnP+F9v8pWqmE/AAAAAAAAAADR50yFpXQgP5zOGCj90nA/GIykQX2tZT9gSFf+5wV4P00gv8U4S4c/JJ7up2vrID/yp9dzcG01PxWFzfLxVls/AAAAAAAAAABDOAa9K/SDP2wLLWmoT3g/2kFotQpCjD+126CsEGNvP5SZAFXFC4E/oeOqAAIGcj/3Wk2LM4VxP6oDkbPBXmM/c0bCSRYNcj8/LfFnzzZhP2tG+SjyoKM/8IkxR/DqiD/sXbfoOPumPy/H0jSiR6w/98XOlCGniT/3BpSJK92LP5gYPxbuCow/SKAMA8DqhT/FIi9jrytzP4bKDlOX228/H+K5k7oCez+xsOvLK/hTPwAAAAAAAAAASGLRp3Bqej9ynDFzYC9lPwAAAAAAAAAAylKCOM7DXj+ypzzEXGilPzgL5/fZbHg/Gtq/9Kgocj8cVzvkqMSLPz/ADJeudos/EAP11xxJVD8AAAAAAAAAABcfQMTUFm8/Ez6Xde9VKD8AAAAAAAAAAA==",
          "dtype": "f8"
         }
        },
        {
         "groupnorm": "percent",
         "hovertemplate": "%{fullData.name}: %{y:.2%}<extra></extra>",
         "line": {
          "shape": "spline",
          "width": 0.5
         },
         "mode": "lines",
         "name": "Sep",
         "stackgroup": "one",
         "type": "scatter",
         "x": [
          "2019-11",
          "2019-12",
          "2020-01",
          "2020-02",
          "2020-03",
          "2020-04",
          "2020-05",
          "2020-06",
          "2020-07",
          "2020-08",
          "2020-09",
          "2020-10",
          "2020-11",
          "2020-12",
          "2021-01",
          "2021-02",
          "2021-03",
          "2021-04",
          "2021-05",
          "2021-06",
          "2021-07",
          "2021-08",
          "2021-09",
          "2021-10",
          "2021-11",
          "2021-12",
          "2022-01",
          "2022-02",
          "2022-03",
          "2022-04",
          "2022-05",
          "2022-06",
          "2022-07",
          "2022-08",
          "2022-09",
          "2022-10",
          "2022-11",
          "2022-12",
          "2023-01",
          "2023-02",
          "2023-03",
          "2023-04",
          "2023-05",
          "2023-06",
          "2023-07",
          "2023-08",
          "2023-09",
          "2023-10",
          "2023-11",
          "2023-12",
          "2024-01",
          "2024-02",
          "2024-03",
          "2024-04",
          "2024-05",
          "2024-06",
          "2024-07",
          "2024-08",
          "2024-09",
          "2024-10",
          "2024-11",
          "2024-12",
          "2025-01",
          "2025-02",
          "2025-03",
          "2025-04",
          "2025-05",
          "2025-06"
         ],
         "y": {
          "bdata": "AAAAAAAAAAAAAAAAAAAAAAAAAAAAAAAAAAAAAAAAAAAAAAAAAAAAAAAAAAAAAAAAAAAAAAAAAAAAAAAAAAAAAAAAAAAAAAAAAAAAAAAAAAAAAAAAAAAAAAAAAAAAAAAAAAAAAAAAAAAAAAAAAAAAAAAAAAAAAAAAAAAAAAAAAAAAAAAAAAAAAAAAAAAAAAAAAAAAAAAAAAAAAAAAAAAAAAAAAAAAAAAAAAAAAAAAAAAAAAAAAAAAAAAAAAAAAAAAeda2Z5dXQT8q+yJj1ZRyPxLPbvL1ZXg/+Pysv32BYj+DS5Vux1iMP3/l5TPzP5Y/trhoUXFaWz8QyROI5uOFPy1LEGJveKI/FMTUAAyBdj8AAAAAAAAAAAAAAAAAAAAAAAAAAAAAAAAK+RBv1ESgP4WycyslUW0/vaxy9h6vjT8AAAAAAAAAAKfX9azFdYw/77gUL5FOgj/eXrpZJyCPP1FagVzmrHY/AAAAAAAAAACTIIdREINgP0SRQ1CsB14/fLZSmH/Spj+rxEOcpXOiP97SHLyw+ok/3sCKuFYzVj8AAAAAAAAAAPwZNEWiqIg/ieAKDDv4Wz9kLaU4dU2gPwAAAAAAAAAAAAAAAAAAAAAAAAAAAAAAAAAAAAAAAAAAAAAAAAAAAAAAAAAAAAAAAAAAAAAAAAAAAAAAAAAAAAAAAAAAAAAAAAAAAAAAAAAAAAAAAAAAAAAAAAAAAAAAAA==",
          "dtype": "f8"
         }
        },
        {
         "groupnorm": "percent",
         "hovertemplate": "%{fullData.name}: %{y:.2%}<extra></extra>",
         "line": {
          "shape": "spline",
          "width": 0.5
         },
         "mode": "lines",
         "name": "Mahdi",
         "stackgroup": "one",
         "type": "scatter",
         "x": [
          "2019-11",
          "2019-12",
          "2020-01",
          "2020-02",
          "2020-03",
          "2020-04",
          "2020-05",
          "2020-06",
          "2020-07",
          "2020-08",
          "2020-09",
          "2020-10",
          "2020-11",
          "2020-12",
          "2021-01",
          "2021-02",
          "2021-03",
          "2021-04",
          "2021-05",
          "2021-06",
          "2021-07",
          "2021-08",
          "2021-09",
          "2021-10",
          "2021-11",
          "2021-12",
          "2022-01",
          "2022-02",
          "2022-03",
          "2022-04",
          "2022-05",
          "2022-06",
          "2022-07",
          "2022-08",
          "2022-09",
          "2022-10",
          "2022-11",
          "2022-12",
          "2023-01",
          "2023-02",
          "2023-03",
          "2023-04",
          "2023-05",
          "2023-06",
          "2023-07",
          "2023-08",
          "2023-09",
          "2023-10",
          "2023-11",
          "2023-12",
          "2024-01",
          "2024-02",
          "2024-03",
          "2024-04",
          "2024-05",
          "2024-06",
          "2024-07",
          "2024-08",
          "2024-09",
          "2024-10",
          "2024-11",
          "2024-12",
          "2025-01",
          "2025-02",
          "2025-03",
          "2025-04",
          "2025-05",
          "2025-06"
         ],
         "y": {
          "bdata": "AAAAAAAAAAAAAAAAAAAAAAAAAAAAAAAAAAAAAAAAAAAAAAAAAAAAAAAAAAAAAAAAAAAAAAAAAAAAAAAAAAAAAAAAAAAAAAAAAAAAAAAAAAAAAAAAAAAAAAAAAAAAAAAAAAAAAAAAAABqIe2yDPNuP1XOJ4/Y244/AR8sm4qUhD+7vWfxvNmoPxB1qFTN3aU/ID8EJ+hdmD8zMzMzMxOTP5xjUsVNsII/U3WVn8dIZj+K/FnvG69iP7tL2l3XCFg/AAAAAAAAAAAAAAAAAAAAAAAAAAAAAAAAAAAAAAAAAABzLZpsmRZkPwAAAAAAAAAAAAAAAAAAAAAAAAAAAAAAAAAAAAAAAAAAAAAAAAAAAAAAAAAAAAAAAAAAAAAAAAAAAAAAAAAAAAAAAAAAAAAAAAAAAAAAAAAAAAAAAAAAAAC4TmGsdCBDPwAAAAAAAAAAAAAAAAAAAAAAAAAAAAAAAAAAAAAAAAAAAAAAAAAAAAAAAAAAAAAAAAAAAAAAAAAAAAAAAAAAAAAAAAAAAAAAAAAAAAAAAAAAAAAAAAAAAAAAAAAAAAAAAAAAAAAAAAAAAAAAAAAAAAAAAAAAAAAAAAAAAAAAAAAAAAAAAAAAAAAAAAAAAAAAAAAAAAAAAAAAAAAAAAAAAAAAAAAAAAAAAAAAAAAAAAAAAAAAAAAAAACAAAECBAhQPwAAAAAAAAAAAAAAAAAAAAAAAAAAAAAAAA==",
          "dtype": "f8"
         }
        }
       ],
       "layout": {
        "height": 600,
        "hovermode": "x unified",
        "template": {
         "data": {
          "bar": [
           {
            "error_x": {
             "color": "#2a3f5f"
            },
            "error_y": {
             "color": "#2a3f5f"
            },
            "marker": {
             "line": {
              "color": "white",
              "width": 0.5
             },
             "pattern": {
              "fillmode": "overlay",
              "size": 10,
              "solidity": 0.2
             }
            },
            "type": "bar"
           }
          ],
          "barpolar": [
           {
            "marker": {
             "line": {
              "color": "white",
              "width": 0.5
             },
             "pattern": {
              "fillmode": "overlay",
              "size": 10,
              "solidity": 0.2
             }
            },
            "type": "barpolar"
           }
          ],
          "carpet": [
           {
            "aaxis": {
             "endlinecolor": "#2a3f5f",
             "gridcolor": "#C8D4E3",
             "linecolor": "#C8D4E3",
             "minorgridcolor": "#C8D4E3",
             "startlinecolor": "#2a3f5f"
            },
            "baxis": {
             "endlinecolor": "#2a3f5f",
             "gridcolor": "#C8D4E3",
             "linecolor": "#C8D4E3",
             "minorgridcolor": "#C8D4E3",
             "startlinecolor": "#2a3f5f"
            },
            "type": "carpet"
           }
          ],
          "choropleth": [
           {
            "colorbar": {
             "outlinewidth": 0,
             "ticks": ""
            },
            "type": "choropleth"
           }
          ],
          "contour": [
           {
            "colorbar": {
             "outlinewidth": 0,
             "ticks": ""
            },
            "colorscale": [
             [
              0,
              "#0d0887"
             ],
             [
              0.1111111111111111,
              "#46039f"
             ],
             [
              0.2222222222222222,
              "#7201a8"
             ],
             [
              0.3333333333333333,
              "#9c179e"
             ],
             [
              0.4444444444444444,
              "#bd3786"
             ],
             [
              0.5555555555555556,
              "#d8576b"
             ],
             [
              0.6666666666666666,
              "#ed7953"
             ],
             [
              0.7777777777777778,
              "#fb9f3a"
             ],
             [
              0.8888888888888888,
              "#fdca26"
             ],
             [
              1,
              "#f0f921"
             ]
            ],
            "type": "contour"
           }
          ],
          "contourcarpet": [
           {
            "colorbar": {
             "outlinewidth": 0,
             "ticks": ""
            },
            "type": "contourcarpet"
           }
          ],
          "heatmap": [
           {
            "colorbar": {
             "outlinewidth": 0,
             "ticks": ""
            },
            "colorscale": [
             [
              0,
              "#0d0887"
             ],
             [
              0.1111111111111111,
              "#46039f"
             ],
             [
              0.2222222222222222,
              "#7201a8"
             ],
             [
              0.3333333333333333,
              "#9c179e"
             ],
             [
              0.4444444444444444,
              "#bd3786"
             ],
             [
              0.5555555555555556,
              "#d8576b"
             ],
             [
              0.6666666666666666,
              "#ed7953"
             ],
             [
              0.7777777777777778,
              "#fb9f3a"
             ],
             [
              0.8888888888888888,
              "#fdca26"
             ],
             [
              1,
              "#f0f921"
             ]
            ],
            "type": "heatmap"
           }
          ],
          "histogram": [
           {
            "marker": {
             "pattern": {
              "fillmode": "overlay",
              "size": 10,
              "solidity": 0.2
             }
            },
            "type": "histogram"
           }
          ],
          "histogram2d": [
           {
            "colorbar": {
             "outlinewidth": 0,
             "ticks": ""
            },
            "colorscale": [
             [
              0,
              "#0d0887"
             ],
             [
              0.1111111111111111,
              "#46039f"
             ],
             [
              0.2222222222222222,
              "#7201a8"
             ],
             [
              0.3333333333333333,
              "#9c179e"
             ],
             [
              0.4444444444444444,
              "#bd3786"
             ],
             [
              0.5555555555555556,
              "#d8576b"
             ],
             [
              0.6666666666666666,
              "#ed7953"
             ],
             [
              0.7777777777777778,
              "#fb9f3a"
             ],
             [
              0.8888888888888888,
              "#fdca26"
             ],
             [
              1,
              "#f0f921"
             ]
            ],
            "type": "histogram2d"
           }
          ],
          "histogram2dcontour": [
           {
            "colorbar": {
             "outlinewidth": 0,
             "ticks": ""
            },
            "colorscale": [
             [
              0,
              "#0d0887"
             ],
             [
              0.1111111111111111,
              "#46039f"
             ],
             [
              0.2222222222222222,
              "#7201a8"
             ],
             [
              0.3333333333333333,
              "#9c179e"
             ],
             [
              0.4444444444444444,
              "#bd3786"
             ],
             [
              0.5555555555555556,
              "#d8576b"
             ],
             [
              0.6666666666666666,
              "#ed7953"
             ],
             [
              0.7777777777777778,
              "#fb9f3a"
             ],
             [
              0.8888888888888888,
              "#fdca26"
             ],
             [
              1,
              "#f0f921"
             ]
            ],
            "type": "histogram2dcontour"
           }
          ],
          "mesh3d": [
           {
            "colorbar": {
             "outlinewidth": 0,
             "ticks": ""
            },
            "type": "mesh3d"
           }
          ],
          "parcoords": [
           {
            "line": {
             "colorbar": {
              "outlinewidth": 0,
              "ticks": ""
             }
            },
            "type": "parcoords"
           }
          ],
          "pie": [
           {
            "automargin": true,
            "type": "pie"
           }
          ],
          "scatter": [
           {
            "fillpattern": {
             "fillmode": "overlay",
             "size": 10,
             "solidity": 0.2
            },
            "type": "scatter"
           }
          ],
          "scatter3d": [
           {
            "line": {
             "colorbar": {
              "outlinewidth": 0,
              "ticks": ""
             }
            },
            "marker": {
             "colorbar": {
              "outlinewidth": 0,
              "ticks": ""
             }
            },
            "type": "scatter3d"
           }
          ],
          "scattercarpet": [
           {
            "marker": {
             "colorbar": {
              "outlinewidth": 0,
              "ticks": ""
             }
            },
            "type": "scattercarpet"
           }
          ],
          "scattergeo": [
           {
            "marker": {
             "colorbar": {
              "outlinewidth": 0,
              "ticks": ""
             }
            },
            "type": "scattergeo"
           }
          ],
          "scattergl": [
           {
            "marker": {
             "colorbar": {
              "outlinewidth": 0,
              "ticks": ""
             }
            },
            "type": "scattergl"
           }
          ],
          "scattermap": [
           {
            "marker": {
             "colorbar": {
              "outlinewidth": 0,
              "ticks": ""
             }
            },
            "type": "scattermap"
           }
          ],
          "scattermapbox": [
           {
            "marker": {
             "colorbar": {
              "outlinewidth": 0,
              "ticks": ""
             }
            },
            "type": "scattermapbox"
           }
          ],
          "scatterpolar": [
           {
            "marker": {
             "colorbar": {
              "outlinewidth": 0,
              "ticks": ""
             }
            },
            "type": "scatterpolar"
           }
          ],
          "scatterpolargl": [
           {
            "marker": {
             "colorbar": {
              "outlinewidth": 0,
              "ticks": ""
             }
            },
            "type": "scatterpolargl"
           }
          ],
          "scatterternary": [
           {
            "marker": {
             "colorbar": {
              "outlinewidth": 0,
              "ticks": ""
             }
            },
            "type": "scatterternary"
           }
          ],
          "surface": [
           {
            "colorbar": {
             "outlinewidth": 0,
             "ticks": ""
            },
            "colorscale": [
             [
              0,
              "#0d0887"
             ],
             [
              0.1111111111111111,
              "#46039f"
             ],
             [
              0.2222222222222222,
              "#7201a8"
             ],
             [
              0.3333333333333333,
              "#9c179e"
             ],
             [
              0.4444444444444444,
              "#bd3786"
             ],
             [
              0.5555555555555556,
              "#d8576b"
             ],
             [
              0.6666666666666666,
              "#ed7953"
             ],
             [
              0.7777777777777778,
              "#fb9f3a"
             ],
             [
              0.8888888888888888,
              "#fdca26"
             ],
             [
              1,
              "#f0f921"
             ]
            ],
            "type": "surface"
           }
          ],
          "table": [
           {
            "cells": {
             "fill": {
              "color": "#EBF0F8"
             },
             "line": {
              "color": "white"
             }
            },
            "header": {
             "fill": {
              "color": "#C8D4E3"
             },
             "line": {
              "color": "white"
             }
            },
            "type": "table"
           }
          ]
         },
         "layout": {
          "annotationdefaults": {
           "arrowcolor": "#2a3f5f",
           "arrowhead": 0,
           "arrowwidth": 1
          },
          "autotypenumbers": "strict",
          "coloraxis": {
           "colorbar": {
            "outlinewidth": 0,
            "ticks": ""
           }
          },
          "colorscale": {
           "diverging": [
            [
             0,
             "#8e0152"
            ],
            [
             0.1,
             "#c51b7d"
            ],
            [
             0.2,
             "#de77ae"
            ],
            [
             0.3,
             "#f1b6da"
            ],
            [
             0.4,
             "#fde0ef"
            ],
            [
             0.5,
             "#f7f7f7"
            ],
            [
             0.6,
             "#e6f5d0"
            ],
            [
             0.7,
             "#b8e186"
            ],
            [
             0.8,
             "#7fbc41"
            ],
            [
             0.9,
             "#4d9221"
            ],
            [
             1,
             "#276419"
            ]
           ],
           "sequential": [
            [
             0,
             "#0d0887"
            ],
            [
             0.1111111111111111,
             "#46039f"
            ],
            [
             0.2222222222222222,
             "#7201a8"
            ],
            [
             0.3333333333333333,
             "#9c179e"
            ],
            [
             0.4444444444444444,
             "#bd3786"
            ],
            [
             0.5555555555555556,
             "#d8576b"
            ],
            [
             0.6666666666666666,
             "#ed7953"
            ],
            [
             0.7777777777777778,
             "#fb9f3a"
            ],
            [
             0.8888888888888888,
             "#fdca26"
            ],
            [
             1,
             "#f0f921"
            ]
           ],
           "sequentialminus": [
            [
             0,
             "#0d0887"
            ],
            [
             0.1111111111111111,
             "#46039f"
            ],
            [
             0.2222222222222222,
             "#7201a8"
            ],
            [
             0.3333333333333333,
             "#9c179e"
            ],
            [
             0.4444444444444444,
             "#bd3786"
            ],
            [
             0.5555555555555556,
             "#d8576b"
            ],
            [
             0.6666666666666666,
             "#ed7953"
            ],
            [
             0.7777777777777778,
             "#fb9f3a"
            ],
            [
             0.8888888888888888,
             "#fdca26"
            ],
            [
             1,
             "#f0f921"
            ]
           ]
          },
          "colorway": [
           "#636efa",
           "#EF553B",
           "#00cc96",
           "#ab63fa",
           "#FFA15A",
           "#19d3f3",
           "#FF6692",
           "#B6E880",
           "#FF97FF",
           "#FECB52"
          ],
          "font": {
           "color": "#2a3f5f"
          },
          "geo": {
           "bgcolor": "white",
           "lakecolor": "white",
           "landcolor": "white",
           "showlakes": true,
           "showland": true,
           "subunitcolor": "#C8D4E3"
          },
          "hoverlabel": {
           "align": "left"
          },
          "hovermode": "closest",
          "mapbox": {
           "style": "light"
          },
          "paper_bgcolor": "white",
          "plot_bgcolor": "white",
          "polar": {
           "angularaxis": {
            "gridcolor": "#EBF0F8",
            "linecolor": "#EBF0F8",
            "ticks": ""
           },
           "bgcolor": "white",
           "radialaxis": {
            "gridcolor": "#EBF0F8",
            "linecolor": "#EBF0F8",
            "ticks": ""
           }
          },
          "scene": {
           "xaxis": {
            "backgroundcolor": "white",
            "gridcolor": "#DFE8F3",
            "gridwidth": 2,
            "linecolor": "#EBF0F8",
            "showbackground": true,
            "ticks": "",
            "zerolinecolor": "#EBF0F8"
           },
           "yaxis": {
            "backgroundcolor": "white",
            "gridcolor": "#DFE8F3",
            "gridwidth": 2,
            "linecolor": "#EBF0F8",
            "showbackground": true,
            "ticks": "",
            "zerolinecolor": "#EBF0F8"
           },
           "zaxis": {
            "backgroundcolor": "white",
            "gridcolor": "#DFE8F3",
            "gridwidth": 2,
            "linecolor": "#EBF0F8",
            "showbackground": true,
            "ticks": "",
            "zerolinecolor": "#EBF0F8"
           }
          },
          "shapedefaults": {
           "line": {
            "color": "#2a3f5f"
           }
          },
          "ternary": {
           "aaxis": {
            "gridcolor": "#DFE8F3",
            "linecolor": "#A2B1C6",
            "ticks": ""
           },
           "baxis": {
            "gridcolor": "#DFE8F3",
            "linecolor": "#A2B1C6",
            "ticks": ""
           },
           "bgcolor": "white",
           "caxis": {
            "gridcolor": "#DFE8F3",
            "linecolor": "#A2B1C6",
            "ticks": ""
           }
          },
          "title": {
           "x": 0.05
          },
          "xaxis": {
           "automargin": true,
           "gridcolor": "#EBF0F8",
           "linecolor": "#EBF0F8",
           "ticks": "",
           "title": {
            "standoff": 15
           },
           "zerolinecolor": "#EBF0F8",
           "zerolinewidth": 2
          },
          "yaxis": {
           "automargin": true,
           "gridcolor": "#EBF0F8",
           "linecolor": "#EBF0F8",
           "ticks": "",
           "title": {
            "standoff": 15
           },
           "zerolinecolor": "#EBF0F8",
           "zerolinewidth": 2
          }
         }
        },
        "title": {
         "text": "Monthly Share of Chats by Contact"
        },
        "width": 1000,
        "xaxis": {
         "tickangle": 45,
         "title": {
          "text": "Month"
         }
        },
        "yaxis": {
         "tickformat": ".0%",
         "title": {
          "text": "Share of Messages"
         }
        }
       }
      }
     },
     "metadata": {},
     "output_type": "display_data"
    }
   ],
   "source": [
    "joined_df = preprocessed_message_df[['chat_id', 'month']].merge(\n",
    "    chat_df[['id', 'name']], left_on='chat_id', right_on='id', how='left')\n",
    "\n",
    "joined_df['chat_label'] = joined_df.apply(\n",
    "    lambda row: row['name'] if pd.notna(row['name']) else str(row['chat_id']),\n",
    "    axis=1\n",
    ")\n",
    "\n",
    "top_contacts = joined_df['chat_id'].value_counts().head(10).index\n",
    "popular_chats_df = joined_df[joined_df['chat_id'].isin(top_contacts)]\n",
    "\n",
    "chat_usage = popular_chats_df.groupby(['month', 'chat_label']).size().unstack(fill_value=0)\n",
    "\n",
    "chat_usage.index = chat_usage.index.astype(str)\n",
    "chat_totals = chat_usage.sum().sort_values(ascending=False)\n",
    "chat_share = chat_usage.div(chat_usage.sum(axis=1), axis=0)\n",
    "\n",
    "import plotly.graph_objects as go\n",
    "\n",
    "fig = go.Figure()\n",
    "for label in chat_totals.index:\n",
    "    fig.add_trace(go.Scatter(\n",
    "        x=chat_share.index,\n",
    "        y=chat_share[label],\n",
    "        mode='lines',\n",
    "        name=label,\n",
    "        stackgroup='one',\n",
    "        groupnorm='percent',\n",
    "        line=dict(width=0.5, shape='spline'),\n",
    "        hovertemplate='%{fullData.name}: %{y:.2%}<extra></extra>'\n",
    "    ))\n",
    "\n",
    "fig.update_layout(\n",
    "    title='Monthly Share of Chats by Contact',\n",
    "    xaxis_title='Month',\n",
    "    yaxis_title='Share of Messages',\n",
    "    yaxis=dict(tickformat='.0%'),\n",
    "    hovermode='x unified',\n",
    "    template='plotly_white',\n",
    "    width=1000,\n",
    "    height=600,\n",
    ")\n",
    "\n",
    "fig.update_xaxes(tickangle=45)\n",
    "fig.show()\n",
    "fig.write_image(os.path.join(PLOT_DIR, \"chat_share.png\"), width=1000)"
   ]
  },
  {
   "cell_type": "markdown",
   "metadata": {},
   "source": [
    "## Word Cloud"
   ]
  },
  {
   "cell_type": "code",
   "execution_count": 26,
   "metadata": {},
   "outputs": [
    {
     "data": {
      "image/png": "[encoded data removed]",
      "text/plain": [
       "<Figure size 1200x600 with 1 Axes>"
      ]
     },
     "metadata": {},
     "output_type": "display_data"
    },
    {
     "data": {
      "text/plain": [
       "<wordcloud.wordcloud.WordCloud at 0x70da4222f410>"
      ]
     },
     "execution_count": 26,
     "metadata": {},
     "output_type": "execute_result"
    }
   ],
   "source": [
    "from wordcloud import WordCloud\n",
    "import matplotlib.pyplot as plt\n",
    "\n",
    "stopwords = set(open('stopwords.txt', 'r').read().strip().split('\\n'))\n",
    "my_messages = message_df[message_df['from_id'] == f'user{MY_ID}']\n",
    "\n",
    "\n",
    "text = ' '.join(my_messages['text'].dropna().astype(str))\n",
    "\n",
    "wordcloud = WordCloud(font_path='Vazirmatn-Medium.ttf', width=800, height=400, background_color='white', stopwords=stopwords).generate(text)\n",
    "\n",
    "plt.figure(figsize=(12, 6))\n",
    "plt.imshow(wordcloud, interpolation='bilinear')\n",
    "plt.axis('off')\n",
    "plt.show()\n",
    "wordcloud.to_file(os.path.join(PLOT_DIR, \"wordcloud.png\"))\n",
    "# save as png"
   ]
  },
  {
   "cell_type": "markdown",
   "metadata": {},
   "source": [
    "## Voices"
   ]
  },
  {
   "cell_type": "code",
   "execution_count": 15,
   "metadata": {},
   "outputs": [
    {
     "name": "stdout",
     "output_type": "stream",
     "text": [
      "My longest voice\n",
      "Duration: 15:58\n",
      "Date: 2020-09-19 15:30:13\n",
      "Chat name: Yousefian\n",
      "median of all my voices: 54\n"
     ]
    }
   ],
   "source": [
    "my_voice_df = preprocessed_message_df[\n",
    "    (preprocessed_message_df['media_type'] == 'voice_message') &\n",
    "    (preprocessed_message_df['from_id'] == f'user{MY_ID}')\n",
    "]\n",
    "\n",
    "max_duration = my_voice_df['duration_seconds'].max()\n",
    "\n",
    "longest_voice = my_voice_df[my_voice_df['duration_seconds'] == max_duration]\n",
    "\n",
    "longest_voice = longest_voice.merge(chat_df, how='left', left_on='chat_id', right_on='id')\n",
    "\n",
    "for _, row in longest_voice.iterrows():\n",
    "    print('My longest voice')\n",
    "    print(f\"Duration: {int(row['duration_seconds'] // 60)}:{int(row['duration_seconds'] % 60)}\")\n",
    "    print(f\"Date: {row['date']}\")\n",
    "    print(f\"Chat name: {row['name']}\")\n",
    "\n",
    "print(f'median of all my voices: {int(my_voice_df['duration_seconds'].median())}')"
   ]
  }
 ],
 "metadata": {
  "kernelspec": {
   "display_name": "base",
   "language": "python",
   "name": "python3"
  },
  "language_info": {
   "codemirror_mode": {
    "name": "ipython",
    "version": 3
   },
   "file_extension": ".py",
   "mimetype": "text/x-python",
   "name": "python",
   "nbconvert_exporter": "python",
   "pygments_lexer": "ipython3",
   "version": "3.12.2"
  },
  "orig_nbformat": 4
 },
 "nbformat": 4,
 "nbformat_minor": 2
}
